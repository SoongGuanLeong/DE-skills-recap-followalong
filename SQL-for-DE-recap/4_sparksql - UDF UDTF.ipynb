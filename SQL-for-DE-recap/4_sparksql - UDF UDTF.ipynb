{
 "cells": [
  {
   "cell_type": "markdown",
   "metadata": {
    "application/vnd.databricks.v1+cell": {
     "cellMetadata": {},
     "inputWidgets": {},
     "nuid": "1007088b-7277-4c42-b96c-d09b016d0f66",
     "showTitle": false,
     "tableResultSettingsMap": {},
     "title": ""
    }
   },
   "source": [
    "# **FUNCTIONS**"
   ]
  },
  {
   "cell_type": "markdown",
   "metadata": {
    "application/vnd.databricks.v1+cell": {
     "cellMetadata": {},
     "inputWidgets": {},
     "nuid": "3155bfd7-f813-41a8-857d-2b3bbb154b5d",
     "showTitle": false,
     "tableResultSettingsMap": {},
     "title": ""
    }
   },
   "source": [
    "### Scalar Function"
   ]
  },
  {
   "cell_type": "code",
   "execution_count": 0,
   "metadata": {
    "application/vnd.databricks.v1+cell": {
     "cellMetadata": {
      "byteLimit": 2048000,
      "rowLimit": 10000
     },
     "inputWidgets": {},
     "nuid": "a5e0963d-3fb6-47fa-80b6-2c8c64c99ded",
     "showTitle": false,
     "tableResultSettingsMap": {},
     "title": ""
    }
   },
   "outputs": [],
   "source": [
    "-- google: udf unity catalog\n",
    "\n",
    "CREATE OR REPLACE FUNCTION sparksql_cata.sparksql_schema.discount_price(p_price DECIMAL(10,2))\n",
    "RETURNS DECIMAL(10,2)\n",
    "LANGUAGE SQL\n",
    "RETURN p_price * 0.90"
   ]
  },
  {
   "cell_type": "code",
   "execution_count": 0,
   "metadata": {
    "application/vnd.databricks.v1+cell": {
     "cellMetadata": {
      "byteLimit": 2048000,
      "rowLimit": 10000
     },
     "inputWidgets": {},
     "nuid": "9b7c50d2-3fbb-4fac-8a43-2e1b9c269131",
     "showTitle": false,
     "tableResultSettingsMap": {},
     "title": ""
    }
   },
   "outputs": [
    {
     "output_type": "display_data",
     "data": {
      "text/html": [
       "<style scoped>\n",
       "  .table-result-container {\n",
       "    max-height: 300px;\n",
       "    overflow: auto;\n",
       "  }\n",
       "  table, th, td {\n",
       "    border: 1px solid black;\n",
       "    border-collapse: collapse;\n",
       "  }\n",
       "  th, td {\n",
       "    padding: 5px;\n",
       "  }\n",
       "  th {\n",
       "    text-align: left;\n",
       "  }\n",
       "</style><div class='table-result-container'><table class='table-result'><thead style='background-color: white'><tr><th>price_per_unit</th><th>sparksql_cata.sparksql_schema.discount_price(price_per_unit)</th></tr></thead><tbody><tr><td>58.53</td><td>52.68</td></tr><tr><td>83.76</td><td>75.38</td></tr><tr><td>78.85</td><td>70.97</td></tr><tr><td>46.49</td><td>41.84</td></tr><tr><td>78.61</td><td>70.75</td></tr><tr><td>53.51</td><td>48.16</td></tr><tr><td>12.71</td><td>11.44</td></tr><tr><td>46.6</td><td>41.94</td></tr><tr><td>35.87</td><td>32.28</td></tr><tr><td>30.95</td><td>27.86</td></tr><tr><td>18.79</td><td>16.91</td></tr><tr><td>69.14</td><td>62.23</td></tr><tr><td>90.64</td><td>81.58</td></tr><tr><td>93.91</td><td>84.52</td></tr><tr><td>61.0</td><td>54.90</td></tr><tr><td>54.77</td><td>49.29</td></tr><tr><td>13.42</td><td>12.08</td></tr><tr><td>18.72</td><td>16.85</td></tr><tr><td>35.68</td><td>32.11</td></tr><tr><td>56.08</td><td>50.47</td></tr><tr><td>12.65</td><td>11.39</td></tr><tr><td>24.58</td><td>22.12</td></tr><tr><td>78.8</td><td>70.92</td></tr><tr><td>56.91</td><td>51.22</td></tr><tr><td>16.8</td><td>15.12</td></tr><tr><td>77.54</td><td>69.79</td></tr><tr><td>29.27</td><td>26.34</td></tr><tr><td>42.37</td><td>38.13</td></tr><tr><td>40.0</td><td>36.00</td></tr><tr><td>29.31</td><td>26.38</td></tr><tr><td>80.17</td><td>72.15</td></tr><tr><td>29.79</td><td>26.81</td></tr><tr><td>34.77</td><td>31.29</td></tr><tr><td>54.5</td><td>49.05</td></tr><tr><td>34.04</td><td>30.64</td></tr><tr><td>17.22</td><td>15.50</td></tr><tr><td>16.59</td><td>14.93</td></tr><tr><td>53.03</td><td>47.73</td></tr><tr><td>60.17</td><td>54.15</td></tr><tr><td>97.17</td><td>87.45</td></tr><tr><td>81.25</td><td>73.13</td></tr><tr><td>58.35</td><td>52.52</td></tr><tr><td>27.32</td><td>24.59</td></tr><tr><td>95.74</td><td>86.17</td></tr><tr><td>23.51</td><td>21.16</td></tr><tr><td>83.03</td><td>74.73</td></tr><tr><td>40.27</td><td>36.24</td></tr><tr><td>24.86</td><td>22.37</td></tr><tr><td>46.3</td><td>41.67</td></tr><tr><td>62.31</td><td>56.08</td></tr><tr><td>78.9</td><td>71.01</td></tr><tr><td>86.45</td><td>77.81</td></tr><tr><td>57.21</td><td>51.49</td></tr><tr><td>35.34</td><td>31.81</td></tr><tr><td>34.83</td><td>31.35</td></tr><tr><td>54.08</td><td>48.67</td></tr><tr><td>86.64</td><td>77.98</td></tr><tr><td>72.65</td><td>65.39</td></tr><tr><td>57.53</td><td>51.78</td></tr><tr><td>26.2</td><td>23.58</td></tr><tr><td>96.35</td><td>86.72</td></tr><tr><td>79.22</td><td>71.30</td></tr><tr><td>46.91</td><td>42.22</td></tr><tr><td>56.43</td><td>50.79</td></tr><tr><td>88.33</td><td>79.50</td></tr><tr><td>20.13</td><td>18.12</td></tr><tr><td>54.89</td><td>49.40</td></tr><tr><td>30.6</td><td>27.54</td></tr><tr><td>24.35</td><td>21.92</td></tr><tr><td>33.68</td><td>30.31</td></tr><tr><td>83.02</td><td>74.72</td></tr><tr><td>79.11</td><td>71.20</td></tr><tr><td>62.2</td><td>55.98</td></tr><tr><td>46.86</td><td>42.17</td></tr><tr><td>68.53</td><td>61.68</td></tr><tr><td>41.6</td><td>37.44</td></tr><tr><td>39.31</td><td>35.38</td></tr><tr><td>10.59</td><td>9.53</td></tr><tr><td>57.66</td><td>51.89</td></tr><tr><td>29.61</td><td>26.65</td></tr><tr><td>12.75</td><td>11.48</td></tr><tr><td>88.48</td><td>79.63</td></tr><tr><td>38.91</td><td>35.02</td></tr><tr><td>91.28</td><td>82.15</td></tr><tr><td>66.36</td><td>59.72</td></tr><tr><td>94.75</td><td>85.28</td></tr><tr><td>97.87</td><td>88.08</td></tr><tr><td>63.13</td><td>56.82</td></tr><tr><td>25.65</td><td>23.09</td></tr><tr><td>32.56</td><td>29.30</td></tr><tr><td>71.38</td><td>64.24</td></tr><tr><td>42.06</td><td>37.85</td></tr><tr><td>17.21</td><td>15.49</td></tr><tr><td>42.15</td><td>37.94</td></tr><tr><td>34.47</td><td>31.02</td></tr><tr><td>49.87</td><td>44.88</td></tr><tr><td>18.93</td><td>17.04</td></tr><tr><td>59.76</td><td>53.78</td></tr><tr><td>79.81</td><td>71.83</td></tr><tr><td>31.91</td><td>28.72</td></tr><tr><td>64.28</td><td>57.85</td></tr><tr><td>70.46</td><td>63.41</td></tr><tr><td>57.7</td><td>51.93</td></tr><tr><td>69.51</td><td>62.56</td></tr><tr><td>72.72</td><td>65.45</td></tr><tr><td>79.15</td><td>71.24</td></tr><tr><td>56.9</td><td>51.21</td></tr><tr><td>29.26</td><td>26.33</td></tr><tr><td>89.75</td><td>80.78</td></tr><tr><td>68.11</td><td>61.30</td></tr><tr><td>27.96</td><td>25.16</td></tr><tr><td>64.73</td><td>58.26</td></tr><tr><td>37.7</td><td>33.93</td></tr><tr><td>92.61</td><td>83.35</td></tr><tr><td>16.55</td><td>14.90</td></tr><tr><td>69.15</td><td>62.24</td></tr><tr><td>78.32</td><td>70.49</td></tr><tr><td>53.4</td><td>48.06</td></tr><tr><td>78.42</td><td>70.58</td></tr><tr><td>17.02</td><td>15.32</td></tr><tr><td>18.86</td><td>16.97</td></tr><tr><td>91.91</td><td>82.72</td></tr><tr><td>54.99</td><td>49.49</td></tr><tr><td>62.31</td><td>56.08</td></tr><tr><td>16.98</td><td>15.28</td></tr><tr><td>98.48</td><td>88.63</td></tr><tr><td>33.58</td><td>30.22</td></tr><tr><td>72.54</td><td>65.29</td></tr><tr><td>19.72</td><td>17.75</td></tr><tr><td>59.34</td><td>53.41</td></tr><tr><td>48.93</td><td>44.04</td></tr><tr><td>46.37</td><td>41.73</td></tr><tr><td>72.08</td><td>64.87</td></tr><tr><td>28.35</td><td>25.52</td></tr><tr><td>22.28</td><td>20.05</td></tr><tr><td>87.21</td><td>78.49</td></tr><tr><td>53.3</td><td>47.97</td></tr><tr><td>95.31</td><td>85.78</td></tr><tr><td>58.72</td><td>52.85</td></tr><tr><td>38.6</td><td>34.74</td></tr><tr><td>91.25</td><td>82.13</td></tr><tr><td>62.61</td><td>56.35</td></tr><tr><td>96.32</td><td>86.69</td></tr><tr><td>39.63</td><td>35.67</td></tr><tr><td>33.62</td><td>30.26</td></tr><tr><td>91.94</td><td>82.75</td></tr><tr><td>70.64</td><td>63.58</td></tr><tr><td>62.77</td><td>56.49</td></tr><tr><td>93.19</td><td>83.87</td></tr><tr><td>82.06</td><td>73.85</td></tr><tr><td>41.02</td><td>36.92</td></tr><tr><td>47.8</td><td>43.02</td></tr><tr><td>35.51</td><td>31.96</td></tr><tr><td>30.78</td><td>27.70</td></tr><tr><td>45.16</td><td>40.64</td></tr><tr><td>13.86</td><td>12.47</td></tr><tr><td>93.73</td><td>84.36</td></tr><tr><td>77.37</td><td>69.63</td></tr><tr><td>84.34</td><td>75.91</td></tr><tr><td>74.83</td><td>67.35</td></tr><tr><td>40.77</td><td>36.69</td></tr><tr><td>35.34</td><td>31.81</td></tr><tr><td>90.63</td><td>81.57</td></tr><tr><td>66.6</td><td>59.94</td></tr><tr><td>92.26</td><td>83.03</td></tr><tr><td>71.98</td><td>64.78</td></tr><tr><td>29.93</td><td>26.94</td></tr><tr><td>33.7</td><td>30.33</td></tr><tr><td>87.93</td><td>79.14</td></tr><tr><td>76.79</td><td>69.11</td></tr><tr><td>61.11</td><td>55.00</td></tr><tr><td>99.11</td><td>89.20</td></tr><tr><td>69.86</td><td>62.87</td></tr><tr><td>60.69</td><td>54.62</td></tr><tr><td>71.6</td><td>64.44</td></tr><tr><td>72.63</td><td>65.37</td></tr><tr><td>84.32</td><td>75.89</td></tr><tr><td>87.95</td><td>79.16</td></tr><tr><td>53.03</td><td>47.73</td></tr><tr><td>83.12</td><td>74.81</td></tr><tr><td>72.54</td><td>65.29</td></tr><tr><td>82.04</td><td>73.84</td></tr><tr><td>74.63</td><td>67.17</td></tr><tr><td>77.83</td><td>70.05</td></tr><tr><td>84.58</td><td>76.12</td></tr><tr><td>40.69</td><td>36.62</td></tr><tr><td>43.64</td><td>39.28</td></tr><tr><td>31.58</td><td>28.42</td></tr><tr><td>63.39</td><td>57.05</td></tr><tr><td>92.75</td><td>83.48</td></tr><tr><td>20.61</td><td>18.55</td></tr><tr><td>47.02</td><td>42.32</td></tr><tr><td>30.62</td><td>27.56</td></tr><tr><td>99.14</td><td>89.23</td></tr><tr><td>25.19</td><td>22.67</td></tr><tr><td>60.18</td><td>54.16</td></tr><tr><td>31.27</td><td>28.14</td></tr><tr><td>48.72</td><td>43.85</td></tr><tr><td>91.35</td><td>82.22</td></tr><tr><td>45.29</td><td>40.76</td></tr><tr><td>89.53</td><td>80.58</td></tr><tr><td>16.06</td><td>14.45</td></tr><tr><td>20.19</td><td>18.17</td></tr><tr><td>71.97</td><td>64.77</td></tr><tr><td>26.81</td><td>24.13</td></tr><tr><td>28.92</td><td>26.03</td></tr><tr><td>57.97</td><td>52.17</td></tr><tr><td>59.2</td><td>53.28</td></tr><tr><td>36.19</td><td>32.57</td></tr><tr><td>88.86</td><td>79.97</td></tr><tr><td>76.37</td><td>68.73</td></tr><tr><td>35.28</td><td>31.75</td></tr><tr><td>50.33</td><td>45.30</td></tr><tr><td>63.61</td><td>57.25</td></tr><tr><td>87.01</td><td>78.31</td></tr><tr><td>86.63</td><td>77.97</td></tr><tr><td>25.64</td><td>23.08</td></tr><tr><td>57.6</td><td>51.84</td></tr><tr><td>12.39</td><td>11.15</td></tr><tr><td>25.09</td><td>22.58</td></tr><tr><td>79.21</td><td>71.29</td></tr><tr><td>74.12</td><td>66.71</td></tr><tr><td>84.55</td><td>76.10</td></tr><tr><td>60.9</td><td>54.81</td></tr><tr><td>42.78</td><td>38.50</td></tr><tr><td>82.33</td><td>74.10</td></tr><tr><td>84.14</td><td>75.73</td></tr><tr><td>14.47</td><td>13.02</td></tr><tr><td>22.25</td><td>20.03</td></tr><tr><td>31.58</td><td>28.42</td></tr><tr><td>85.68</td><td>77.11</td></tr><tr><td>41.56</td><td>37.40</td></tr><tr><td>52.59</td><td>47.33</td></tr><tr><td>53.68</td><td>48.31</td></tr><tr><td>41.37</td><td>37.23</td></tr><tr><td>85.36</td><td>76.82</td></tr><tr><td>51.61</td><td>46.45</td></tr><tr><td>55.22</td><td>49.70</td></tr><tr><td>68.1</td><td>61.29</td></tr><tr><td>60.49</td><td>54.44</td></tr><tr><td>57.43</td><td>51.69</td></tr><tr><td>14.34</td><td>12.91</td></tr><tr><td>53.72</td><td>48.35</td></tr><tr><td>56.06</td><td>50.45</td></tr><tr><td>62.79</td><td>56.51</td></tr><tr><td>69.6</td><td>62.64</td></tr><tr><td>92.29</td><td>83.06</td></tr><tr><td>59.11</td><td>53.20</td></tr><tr><td>41.59</td><td>37.43</td></tr><tr><td>19.42</td><td>17.48</td></tr><tr><td>99.91</td><td>89.92</td></tr><tr><td>37.87</td><td>34.08</td></tr><tr><td>10.03</td><td>9.03</td></tr><tr><td>69.34</td><td>62.41</td></tr><tr><td>28.9</td><td>26.01</td></tr><tr><td>50.8</td><td>45.72</td></tr><tr><td>15.04</td><td>13.54</td></tr><tr><td>61.34</td><td>55.21</td></tr><tr><td>53.69</td><td>48.32</td></tr><tr><td>76.22</td><td>68.60</td></tr><tr><td>66.59</td><td>59.93</td></tr><tr><td>89.26</td><td>80.33</td></tr><tr><td>74.11</td><td>66.70</td></tr><tr><td>53.58</td><td>48.22</td></tr><tr><td>42.25</td><td>38.03</td></tr><tr><td>51.01</td><td>45.91</td></tr><tr><td>58.4</td><td>52.56</td></tr><tr><td>72.15</td><td>64.94</td></tr><tr><td>46.2</td><td>41.58</td></tr><tr><td>66.37</td><td>59.73</td></tr><tr><td>16.54</td><td>14.89</td></tr><tr><td>75.95</td><td>68.36</td></tr><tr><td>14.04</td><td>12.64</td></tr><tr><td>96.42</td><td>86.78</td></tr><tr><td>68.35</td><td>61.52</td></tr><tr><td>41.47</td><td>37.32</td></tr><tr><td>13.34</td><td>12.01</td></tr><tr><td>81.46</td><td>73.31</td></tr><tr><td>11.36</td><td>10.22</td></tr><tr><td>67.84</td><td>61.06</td></tr><tr><td>96.04</td><td>86.44</td></tr><tr><td>81.78</td><td>73.60</td></tr><tr><td>20.15</td><td>18.14</td></tr><tr><td>54.78</td><td>49.30</td></tr><tr><td>67.34</td><td>60.61</td></tr><tr><td>70.22</td><td>63.20</td></tr><tr><td>31.51</td><td>28.36</td></tr><tr><td>38.01</td><td>34.21</td></tr><tr><td>51.38</td><td>46.24</td></tr><tr><td>16.66</td><td>14.99</td></tr><tr><td>37.39</td><td>33.65</td></tr><tr><td>50.46</td><td>45.41</td></tr><tr><td>98.13</td><td>88.32</td></tr><tr><td>36.47</td><td>32.82</td></tr><tr><td>92.08</td><td>82.87</td></tr><tr><td>71.28</td><td>64.15</td></tr><tr><td>31.25</td><td>28.13</td></tr><tr><td>94.67</td><td>85.20</td></tr><tr><td>69.21</td><td>62.29</td></tr><tr><td>33.05</td><td>29.75</td></tr><tr><td>53.26</td><td>47.93</td></tr><tr><td>31.19</td><td>28.07</td></tr><tr><td>87.02</td><td>78.32</td></tr><tr><td>67.65</td><td>60.89</td></tr><tr><td>61.66</td><td>55.49</td></tr><tr><td>26.99</td><td>24.29</td></tr><tr><td>32.03</td><td>28.83</td></tr><tr><td>85.61</td><td>77.05</td></tr><tr><td>47.96</td><td>43.16</td></tr><tr><td>70.81</td><td>63.73</td></tr><tr><td>62.01</td><td>55.81</td></tr><tr><td>76.3</td><td>68.67</td></tr><tr><td>95.41</td><td>85.87</td></tr><tr><td>49.01</td><td>44.11</td></tr><tr><td>91.45</td><td>82.31</td></tr><tr><td>98.36</td><td>88.52</td></tr><tr><td>59.98</td><td>53.98</td></tr><tr><td>84.31</td><td>75.88</td></tr><tr><td>38.6</td><td>34.74</td></tr><tr><td>68.79</td><td>61.91</td></tr><tr><td>11.29</td><td>10.16</td></tr><tr><td>57.25</td><td>51.53</td></tr><tr><td>13.33</td><td>12.00</td></tr><tr><td>25.8</td><td>23.22</td></tr><tr><td>85.51</td><td>76.96</td></tr><tr><td>87.71</td><td>78.94</td></tr><tr><td>99.43</td><td>89.49</td></tr><tr><td>98.15</td><td>88.34</td></tr><tr><td>96.23</td><td>86.61</td></tr><tr><td>34.27</td><td>30.84</td></tr><tr><td>74.0</td><td>66.60</td></tr><tr><td>67.91</td><td>61.12</td></tr><tr><td>49.45</td><td>44.51</td></tr><tr><td>31.96</td><td>28.76</td></tr><tr><td>76.81</td><td>69.13</td></tr><tr><td>60.9</td><td>54.81</td></tr><tr><td>45.58</td><td>41.02</td></tr><tr><td>96.98</td><td>87.28</td></tr><tr><td>19.38</td><td>17.44</td></tr><tr><td>32.68</td><td>29.41</td></tr><tr><td>32.22</td><td>29.00</td></tr><tr><td>36.89</td><td>33.20</td></tr><tr><td>19.86</td><td>17.87</td></tr><tr><td>27.79</td><td>25.01</td></tr><tr><td>25.85</td><td>23.27</td></tr><tr><td>18.07</td><td>16.26</td></tr><tr><td>52.48</td><td>47.23</td></tr><tr><td>83.16</td><td>74.84</td></tr><tr><td>45.94</td><td>41.35</td></tr><tr><td>82.26</td><td>74.03</td></tr><tr><td>17.88</td><td>16.09</td></tr><tr><td>76.26</td><td>68.63</td></tr><tr><td>73.64</td><td>66.28</td></tr><tr><td>87.64</td><td>78.88</td></tr><tr><td>35.31</td><td>31.78</td></tr><tr><td>11.81</td><td>10.63</td></tr><tr><td>87.65</td><td>78.89</td></tr><tr><td>15.18</td><td>13.66</td></tr><tr><td>30.28</td><td>27.25</td></tr><tr><td>22.28</td><td>20.05</td></tr><tr><td>30.78</td><td>27.70</td></tr><tr><td>35.3</td><td>31.77</td></tr><tr><td>81.51</td><td>73.36</td></tr><tr><td>22.95</td><td>20.66</td></tr><tr><td>58.32</td><td>52.49</td></tr><tr><td>63.44</td><td>57.10</td></tr><tr><td>18.43</td><td>16.59</td></tr><tr><td>30.17</td><td>27.15</td></tr><tr><td>60.68</td><td>54.61</td></tr><tr><td>34.75</td><td>31.28</td></tr><tr><td>99.0</td><td>89.10</td></tr><tr><td>34.91</td><td>31.42</td></tr><tr><td>81.64</td><td>73.48</td></tr><tr><td>31.01</td><td>27.91</td></tr><tr><td>42.61</td><td>38.35</td></tr><tr><td>74.04</td><td>66.64</td></tr><tr><td>89.22</td><td>80.30</td></tr><tr><td>62.03</td><td>55.83</td></tr><tr><td>11.94</td><td>10.75</td></tr><tr><td>63.86</td><td>57.47</td></tr><tr><td>70.57</td><td>63.51</td></tr><tr><td>84.74</td><td>76.27</td></tr><tr><td>22.18</td><td>19.96</td></tr><tr><td>82.1</td><td>73.89</td></tr><tr><td>81.8</td><td>73.62</td></tr><tr><td>61.21</td><td>55.09</td></tr><tr><td>38.0</td><td>34.20</td></tr><tr><td>70.81</td><td>63.73</td></tr><tr><td>16.79</td><td>15.11</td></tr><tr><td>72.78</td><td>65.50</td></tr><tr><td>96.45</td><td>86.81</td></tr><tr><td>43.62</td><td>39.26</td></tr><tr><td>44.1</td><td>39.69</td></tr><tr><td>98.63</td><td>88.77</td></tr><tr><td>94.42</td><td>84.98</td></tr><tr><td>85.49</td><td>76.94</td></tr><tr><td>47.04</td><td>42.34</td></tr><tr><td>12.96</td><td>11.66</td></tr><tr><td>25.55</td><td>23.00</td></tr><tr><td>53.47</td><td>48.12</td></tr><tr><td>98.92</td><td>89.03</td></tr><tr><td>73.15</td><td>65.84</td></tr><tr><td>39.46</td><td>35.51</td></tr><tr><td>61.62</td><td>55.46</td></tr><tr><td>51.86</td><td>46.67</td></tr><tr><td>20.82</td><td>18.74</td></tr><tr><td>72.49</td><td>65.24</td></tr><tr><td>39.96</td><td>35.96</td></tr><tr><td>66.68</td><td>60.01</td></tr><tr><td>95.86</td><td>86.27</td></tr><tr><td>51.77</td><td>46.59</td></tr><tr><td>96.59</td><td>86.93</td></tr><tr><td>68.63</td><td>61.77</td></tr><tr><td>75.31</td><td>67.78</td></tr><tr><td>49.27</td><td>44.34</td></tr><tr><td>41.27</td><td>37.14</td></tr><tr><td>59.02</td><td>53.12</td></tr><tr><td>68.71</td><td>61.84</td></tr><tr><td>25.73</td><td>23.16</td></tr><tr><td>47.32</td><td>42.59</td></tr><tr><td>62.79</td><td>56.51</td></tr><tr><td>78.06</td><td>70.25</td></tr><tr><td>40.1</td><td>36.09</td></tr><tr><td>89.98</td><td>80.98</td></tr><tr><td>38.86</td><td>34.97</td></tr><tr><td>15.23</td><td>13.71</td></tr><tr><td>23.77</td><td>21.39</td></tr><tr><td>59.54</td><td>53.59</td></tr><tr><td>52.1</td><td>46.89</td></tr><tr><td>54.92</td><td>49.43</td></tr><tr><td>10.6</td><td>9.54</td></tr><tr><td>55.14</td><td>49.63</td></tr><tr><td>60.12</td><td>54.11</td></tr><tr><td>72.8</td><td>65.52</td></tr><tr><td>22.46</td><td>20.21</td></tr><tr><td>14.29</td><td>12.86</td></tr><tr><td>33.86</td><td>30.47</td></tr><tr><td>93.15</td><td>83.84</td></tr><tr><td>16.09</td><td>14.48</td></tr><tr><td>95.21</td><td>85.69</td></tr><tr><td>49.19</td><td>44.27</td></tr><tr><td>20.93</td><td>18.84</td></tr><tr><td>12.24</td><td>11.02</td></tr><tr><td>87.22</td><td>78.50</td></tr><tr><td>62.06</td><td>55.85</td></tr><tr><td>26.58</td><td>23.92</td></tr><tr><td>43.22</td><td>38.90</td></tr><tr><td>91.21</td><td>82.09</td></tr><tr><td>29.31</td><td>26.38</td></tr><tr><td>91.38</td><td>82.24</td></tr><tr><td>67.0</td><td>60.30</td></tr><tr><td>20.72</td><td>18.65</td></tr><tr><td>42.21</td><td>37.99</td></tr><tr><td>59.81</td><td>53.83</td></tr><tr><td>97.73</td><td>87.96</td></tr><tr><td>18.85</td><td>16.97</td></tr><tr><td>52.18</td><td>46.96</td></tr><tr><td>97.98</td><td>88.18</td></tr><tr><td>65.3</td><td>58.77</td></tr><tr><td>88.96</td><td>80.06</td></tr><tr><td>52.11</td><td>46.90</td></tr><tr><td>64.23</td><td>57.81</td></tr><tr><td>75.9</td><td>68.31</td></tr><tr><td>95.22</td><td>85.70</td></tr><tr><td>94.41</td><td>84.97</td></tr><tr><td>54.06</td><td>48.65</td></tr><tr><td>45.68</td><td>41.11</td></tr><tr><td>18.02</td><td>16.22</td></tr><tr><td>69.14</td><td>62.23</td></tr><tr><td>75.53</td><td>67.98</td></tr><tr><td>64.9</td><td>58.41</td></tr><tr><td>37.65</td><td>33.89</td></tr><tr><td>18.37</td><td>16.53</td></tr><tr><td>53.95</td><td>48.56</td></tr><tr><td>44.65</td><td>40.19</td></tr><tr><td>60.09</td><td>54.08</td></tr><tr><td>48.32</td><td>43.49</td></tr><tr><td>43.15</td><td>38.84</td></tr><tr><td>62.21</td><td>55.99</td></tr><tr><td>33.79</td><td>30.41</td></tr><tr><td>59.0</td><td>53.10</td></tr><tr><td>65.47</td><td>58.92</td></tr><tr><td>51.29</td><td>46.16</td></tr><tr><td>48.33</td><td>43.50</td></tr><tr><td>75.19</td><td>67.67</td></tr><tr><td>82.66</td><td>74.39</td></tr><tr><td>83.52</td><td>75.17</td></tr><tr><td>67.39</td><td>60.65</td></tr><tr><td>73.18</td><td>65.86</td></tr><tr><td>30.63</td><td>27.57</td></tr><tr><td>52.9</td><td>47.61</td></tr><tr><td>71.6</td><td>64.44</td></tr><tr><td>80.16</td><td>72.14</td></tr><tr><td>26.31</td><td>23.68</td></tr><tr><td>40.25</td><td>36.23</td></tr><tr><td>74.03</td><td>66.63</td></tr><tr><td>30.92</td><td>27.83</td></tr><tr><td>62.0</td><td>55.80</td></tr><tr><td>20.67</td><td>18.60</td></tr><tr><td>51.2</td><td>46.08</td></tr><tr><td>24.95</td><td>22.46</td></tr><tr><td>91.26</td><td>82.13</td></tr><tr><td>39.11</td><td>35.20</td></tr><tr><td>41.89</td><td>37.70</td></tr><tr><td>60.07</td><td>54.06</td></tr><tr><td>41.97</td><td>37.77</td></tr><tr><td>31.35</td><td>28.22</td></tr><tr><td>75.66</td><td>68.09</td></tr><tr><td>16.34</td><td>14.71</td></tr><tr><td>43.19</td><td>38.87</td></tr><tr><td>26.9</td><td>24.21</td></tr><tr><td>64.87</td><td>58.38</td></tr><tr><td>37.93</td><td>34.14</td></tr><tr><td>37.17</td><td>33.45</td></tr><tr><td>30.27</td><td>27.24</td></tr><tr><td>92.2</td><td>82.98</td></tr><tr><td>41.31</td><td>37.18</td></tr><tr><td>76.74</td><td>69.07</td></tr><tr><td>44.05</td><td>39.65</td></tr><tr><td>79.58</td><td>71.62</td></tr><tr><td>87.03</td><td>78.33</td></tr><tr><td>68.94</td><td>62.05</td></tr><tr><td>14.96</td><td>13.46</td></tr><tr><td>46.99</td><td>42.29</td></tr><tr><td>12.36</td><td>11.12</td></tr><tr><td>55.26</td><td>49.73</td></tr><tr><td>77.02</td><td>69.32</td></tr><tr><td>32.27</td><td>29.04</td></tr><tr><td>24.77</td><td>22.29</td></tr><tr><td>91.98</td><td>82.78</td></tr><tr><td>25.25</td><td>22.73</td></tr><tr><td>21.96</td><td>19.76</td></tr><tr><td>88.6</td><td>79.74</td></tr><tr><td>89.33</td><td>80.40</td></tr><tr><td>83.49</td><td>75.14</td></tr><tr><td>42.95</td><td>38.66</td></tr><tr><td>88.41</td><td>79.57</td></tr><tr><td>94.99</td><td>85.49</td></tr><tr><td>23.49</td><td>21.14</td></tr><tr><td>13.67</td><td>12.30</td></tr><tr><td>86.3</td><td>77.67</td></tr><tr><td>73.25</td><td>65.93</td></tr><tr><td>79.9</td><td>71.91</td></tr><tr><td>66.73</td><td>60.06</td></tr><tr><td>67.94</td><td>61.15</td></tr><tr><td>96.21</td><td>86.59</td></tr><tr><td>88.34</td><td>79.51</td></tr><tr><td>44.37</td><td>39.93</td></tr><tr><td>61.81</td><td>55.63</td></tr><tr><td>66.53</td><td>59.88</td></tr><tr><td>27.84</td><td>25.06</td></tr><tr><td>86.11</td><td>77.50</td></tr><tr><td>53.66</td><td>48.29</td></tr><tr><td>48.95</td><td>44.06</td></tr><tr><td>38.59</td><td>34.73</td></tr><tr><td>54.66</td><td>49.19</td></tr><tr><td>28.14</td><td>25.33</td></tr><tr><td>62.38</td><td>56.14</td></tr><tr><td>21.69</td><td>19.52</td></tr><tr><td>31.24</td><td>28.12</td></tr><tr><td>40.28</td><td>36.25</td></tr><tr><td>43.98</td><td>39.58</td></tr><tr><td>22.95</td><td>20.66</td></tr><tr><td>36.02</td><td>32.42</td></tr><tr><td>13.35</td><td>12.02</td></tr><tr><td>27.4</td><td>24.66</td></tr><tr><td>17.71</td><td>15.94</td></tr><tr><td>68.65</td><td>61.79</td></tr><tr><td>58.73</td><td>52.86</td></tr><tr><td>19.25</td><td>17.33</td></tr><tr><td>98.33</td><td>88.50</td></tr><tr><td>68.27</td><td>61.44</td></tr><tr><td>53.99</td><td>48.59</td></tr><tr><td>50.45</td><td>45.41</td></tr><tr><td>96.57</td><td>86.91</td></tr><tr><td>60.21</td><td>54.19</td></tr><tr><td>66.91</td><td>60.22</td></tr><tr><td>75.68</td><td>68.11</td></tr><tr><td>96.77</td><td>87.09</td></tr><tr><td>36.86</td><td>33.17</td></tr><tr><td>32.99</td><td>29.69</td></tr><tr><td>65.05</td><td>58.55</td></tr><tr><td>44.79</td><td>40.31</td></tr><tr><td>57.54</td><td>51.79</td></tr><tr><td>28.02</td><td>25.22</td></tr><tr><td>89.16</td><td>80.24</td></tr><tr><td>97.7</td><td>87.93</td></tr><tr><td>27.77</td><td>24.99</td></tr><tr><td>22.93</td><td>20.64</td></tr><tr><td>39.68</td><td>35.71</td></tr><tr><td>32.11</td><td>28.90</td></tr><tr><td>11.57</td><td>10.41</td></tr><tr><td>62.03</td><td>55.83</td></tr><tr><td>41.54</td><td>37.39</td></tr><tr><td>85.95</td><td>77.36</td></tr><tr><td>19.37</td><td>17.43</td></tr><tr><td>73.45</td><td>66.11</td></tr><tr><td>27.5</td><td>24.75</td></tr><tr><td>55.64</td><td>50.08</td></tr><tr><td>30.98</td><td>27.88</td></tr><tr><td>44.57</td><td>40.11</td></tr><tr><td>10.16</td><td>9.14</td></tr><tr><td>64.99</td><td>58.49</td></tr><tr><td>22.33</td><td>20.10</td></tr><tr><td>96.29</td><td>86.66</td></tr><tr><td>63.06</td><td>56.75</td></tr><tr><td>70.26</td><td>63.23</td></tr><tr><td>50.8</td><td>45.72</td></tr><tr><td>87.97</td><td>79.17</td></tr><tr><td>50.59</td><td>45.53</td></tr><tr><td>15.88</td><td>14.29</td></tr><tr><td>30.97</td><td>27.87</td></tr><tr><td>61.67</td><td>55.50</td></tr><tr><td>24.25</td><td>21.83</td></tr><tr><td>85.6</td><td>77.04</td></tr><tr><td>35.0</td><td>31.50</td></tr><tr><td>34.19</td><td>30.77</td></tr><tr><td>69.92</td><td>62.93</td></tr><tr><td>17.98</td><td>16.18</td></tr><tr><td>76.71</td><td>69.04</td></tr><tr><td>23.29</td><td>20.96</td></tr><tr><td>98.44</td><td>88.60</td></tr><tr><td>42.89</td><td>38.60</td></tr><tr><td>71.17</td><td>64.05</td></tr><tr><td>19.28</td><td>17.35</td></tr><tr><td>22.15</td><td>19.94</td></tr><tr><td>46.96</td><td>42.26</td></tr><tr><td>65.64</td><td>59.08</td></tr><tr><td>54.72</td><td>49.25</td></tr><tr><td>82.91</td><td>74.62</td></tr><tr><td>26.07</td><td>23.46</td></tr><tr><td>71.6</td><td>64.44</td></tr><tr><td>49.92</td><td>44.93</td></tr><tr><td>35.5</td><td>31.95</td></tr><tr><td>15.64</td><td>14.08</td></tr><tr><td>68.63</td><td>61.77</td></tr><tr><td>51.61</td><td>46.45</td></tr><tr><td>16.14</td><td>14.53</td></tr><tr><td>37.17</td><td>33.45</td></tr><tr><td>53.18</td><td>47.86</td></tr><tr><td>93.99</td><td>84.59</td></tr><tr><td>93.03</td><td>83.73</td></tr><tr><td>66.38</td><td>59.74</td></tr><tr><td>31.1</td><td>27.99</td></tr><tr><td>45.46</td><td>40.91</td></tr><tr><td>19.2</td><td>17.28</td></tr><tr><td>53.55</td><td>48.20</td></tr><tr><td>23.73</td><td>21.36</td></tr><tr><td>99.5</td><td>89.55</td></tr><tr><td>48.14</td><td>43.33</td></tr><tr><td>70.66</td><td>63.59</td></tr><tr><td>31.69</td><td>28.52</td></tr><tr><td>23.82</td><td>21.44</td></tr><tr><td>66.92</td><td>60.23</td></tr><tr><td>49.74</td><td>44.77</td></tr><tr><td>25.97</td><td>23.37</td></tr><tr><td>27.75</td><td>24.98</td></tr><tr><td>68.84</td><td>61.96</td></tr><tr><td>29.74</td><td>26.77</td></tr><tr><td>71.36</td><td>64.22</td></tr><tr><td>65.54</td><td>58.99</td></tr><tr><td>20.43</td><td>18.39</td></tr><tr><td>55.32</td><td>49.79</td></tr><tr><td>30.3</td><td>27.27</td></tr><tr><td>98.38</td><td>88.54</td></tr><tr><td>90.22</td><td>81.20</td></tr><tr><td>53.58</td><td>48.22</td></tr><tr><td>25.13</td><td>22.62</td></tr><tr><td>56.42</td><td>50.78</td></tr><tr><td>43.5</td><td>39.15</td></tr><tr><td>19.58</td><td>17.62</td></tr><tr><td>50.28</td><td>45.25</td></tr><tr><td>12.79</td><td>11.51</td></tr><tr><td>27.48</td><td>24.73</td></tr><tr><td>68.98</td><td>62.08</td></tr><tr><td>18.52</td><td>16.67</td></tr><tr><td>66.44</td><td>59.80</td></tr><tr><td>56.22</td><td>50.60</td></tr><tr><td>39.53</td><td>35.58</td></tr><tr><td>88.06</td><td>79.25</td></tr><tr><td>90.64</td><td>81.58</td></tr><tr><td>10.63</td><td>9.57</td></tr><tr><td>47.05</td><td>42.35</td></tr><tr><td>94.63</td><td>85.17</td></tr><tr><td>84.77</td><td>76.29</td></tr><tr><td>45.01</td><td>40.51</td></tr><tr><td>81.76</td><td>73.58</td></tr><tr><td>42.12</td><td>37.91</td></tr><tr><td>82.17</td><td>73.95</td></tr><tr><td>57.16</td><td>51.44</td></tr><tr><td>61.59</td><td>55.43</td></tr><tr><td>97.14</td><td>87.43</td></tr><tr><td>15.47</td><td>13.92</td></tr><tr><td>78.89</td><td>71.00</td></tr><tr><td>34.75</td><td>31.28</td></tr><tr><td>71.68</td><td>64.51</td></tr><tr><td>99.93</td><td>89.94</td></tr><tr><td>51.81</td><td>46.63</td></tr><tr><td>74.81</td><td>67.33</td></tr><tr><td>96.31</td><td>86.68</td></tr><tr><td>65.52</td><td>58.97</td></tr><tr><td>61.4</td><td>55.26</td></tr><tr><td>26.9</td><td>24.21</td></tr><tr><td>71.15</td><td>64.04</td></tr><tr><td>64.98</td><td>58.48</td></tr><tr><td>75.95</td><td>68.36</td></tr><tr><td>24.21</td><td>21.79</td></tr><tr><td>24.28</td><td>21.85</td></tr><tr><td>22.99</td><td>20.69</td></tr><tr><td>83.43</td><td>75.09</td></tr><tr><td>76.85</td><td>69.17</td></tr><tr><td>97.34</td><td>87.61</td></tr><tr><td>38.77</td><td>34.89</td></tr><tr><td>14.84</td><td>13.36</td></tr><tr><td>61.33</td><td>55.20</td></tr><tr><td>29.09</td><td>26.18</td></tr><tr><td>19.35</td><td>17.42</td></tr><tr><td>84.27</td><td>75.84</td></tr><tr><td>50.98</td><td>45.88</td></tr><tr><td>85.85</td><td>77.27</td></tr><tr><td>61.46</td><td>55.31</td></tr><tr><td>78.96</td><td>71.06</td></tr><tr><td>32.05</td><td>28.85</td></tr><tr><td>91.88</td><td>82.69</td></tr><tr><td>69.47</td><td>62.52</td></tr><tr><td>24.77</td><td>22.29</td></tr><tr><td>10.51</td><td>9.46</td></tr><tr><td>55.95</td><td>50.36</td></tr><tr><td>25.85</td><td>23.27</td></tr><tr><td>77.87</td><td>70.08</td></tr><tr><td>59.5</td><td>53.55</td></tr><tr><td>96.47</td><td>86.82</td></tr><tr><td>41.07</td><td>36.96</td></tr><tr><td>61.68</td><td>55.51</td></tr><tr><td>74.3</td><td>66.87</td></tr><tr><td>23.96</td><td>21.56</td></tr><tr><td>54.02</td><td>48.62</td></tr><tr><td>92.15</td><td>82.94</td></tr><tr><td>53.66</td><td>48.29</td></tr><tr><td>85.12</td><td>76.61</td></tr><tr><td>12.07</td><td>10.86</td></tr><tr><td>71.24</td><td>64.12</td></tr><tr><td>81.82</td><td>73.64</td></tr><tr><td>81.02</td><td>72.92</td></tr><tr><td>77.94</td><td>70.15</td></tr><tr><td>39.75</td><td>35.78</td></tr><tr><td>57.5</td><td>51.75</td></tr><tr><td>81.26</td><td>73.13</td></tr><tr><td>95.31</td><td>85.78</td></tr><tr><td>83.03</td><td>74.73</td></tr><tr><td>54.04</td><td>48.64</td></tr><tr><td>45.78</td><td>41.20</td></tr><tr><td>84.58</td><td>76.12</td></tr><tr><td>54.01</td><td>48.61</td></tr><tr><td>58.82</td><td>52.94</td></tr><tr><td>22.19</td><td>19.97</td></tr><tr><td>65.5</td><td>58.95</td></tr><tr><td>35.97</td><td>32.37</td></tr><tr><td>76.15</td><td>68.54</td></tr><tr><td>24.41</td><td>21.97</td></tr><tr><td>99.4</td><td>89.46</td></tr><tr><td>74.65</td><td>67.19</td></tr><tr><td>70.83</td><td>63.75</td></tr><tr><td>90.58</td><td>81.52</td></tr><tr><td>57.88</td><td>52.09</td></tr><tr><td>95.43</td><td>85.89</td></tr><tr><td>76.32</td><td>68.69</td></tr><tr><td>72.35</td><td>65.12</td></tr><tr><td>50.71</td><td>45.64</td></tr><tr><td>90.73</td><td>81.66</td></tr><tr><td>94.96</td><td>85.46</td></tr><tr><td>69.71</td><td>62.74</td></tr><tr><td>94.11</td><td>84.70</td></tr><tr><td>69.5</td><td>62.55</td></tr><tr><td>76.14</td><td>68.53</td></tr><tr><td>31.23</td><td>28.11</td></tr><tr><td>84.73</td><td>76.26</td></tr><tr><td>18.34</td><td>16.51</td></tr><tr><td>36.77</td><td>33.09</td></tr><tr><td>32.9</td><td>29.61</td></tr><tr><td>51.81</td><td>46.63</td></tr><tr><td>88.47</td><td>79.62</td></tr><tr><td>23.89</td><td>21.50</td></tr><tr><td>85.42</td><td>76.88</td></tr><tr><td>43.7</td><td>39.33</td></tr><tr><td>93.46</td><td>84.11</td></tr><tr><td>57.7</td><td>51.93</td></tr><tr><td>10.88</td><td>9.79</td></tr><tr><td>77.78</td><td>70.00</td></tr><tr><td>96.35</td><td>86.72</td></tr><tr><td>30.72</td><td>27.65</td></tr><tr><td>62.01</td><td>55.81</td></tr><tr><td>62.27</td><td>56.04</td></tr><tr><td>67.6</td><td>60.84</td></tr><tr><td>32.28</td><td>29.05</td></tr><tr><td>30.15</td><td>27.14</td></tr><tr><td>99.39</td><td>89.45</td></tr><tr><td>40.91</td><td>36.82</td></tr><tr><td>48.13</td><td>43.32</td></tr><tr><td>93.81</td><td>84.43</td></tr><tr><td>90.71</td><td>81.64</td></tr><tr><td>78.23</td><td>70.41</td></tr><tr><td>41.08</td><td>36.97</td></tr><tr><td>47.54</td><td>42.79</td></tr><tr><td>33.49</td><td>30.14</td></tr><tr><td>62.7</td><td>56.43</td></tr><tr><td>32.6</td><td>29.34</td></tr><tr><td>62.5</td><td>56.25</td></tr><tr><td>38.62</td><td>34.76</td></tr><tr><td>71.66</td><td>64.49</td></tr><tr><td>88.27</td><td>79.44</td></tr><tr><td>12.33</td><td>11.10</td></tr><tr><td>78.82</td><td>70.94</td></tr><tr><td>83.68</td><td>75.31</td></tr><tr><td>47.78</td><td>43.00</td></tr><tr><td>96.5</td><td>86.85</td></tr><tr><td>44.16</td><td>39.74</td></tr><tr><td>52.91</td><td>47.62</td></tr><tr><td>77.92</td><td>70.13</td></tr><tr><td>81.73</td><td>73.56</td></tr><tr><td>42.58</td><td>38.32</td></tr><tr><td>23.89</td><td>21.50</td></tr><tr><td>81.33</td><td>73.20</td></tr><tr><td>85.78</td><td>77.20</td></tr><tr><td>31.86</td><td>28.67</td></tr><tr><td>99.22</td><td>89.30</td></tr><tr><td>75.93</td><td>68.34</td></tr><tr><td>89.12</td><td>80.21</td></tr><tr><td>92.24</td><td>83.02</td></tr><tr><td>54.49</td><td>49.04</td></tr><tr><td>95.48</td><td>85.93</td></tr><tr><td>42.79</td><td>38.51</td></tr><tr><td>44.95</td><td>40.46</td></tr><tr><td>44.25</td><td>39.83</td></tr><tr><td>51.8</td><td>46.62</td></tr><tr><td>19.62</td><td>17.66</td></tr><tr><td>65.12</td><td>58.61</td></tr><tr><td>79.73</td><td>71.76</td></tr><tr><td>19.06</td><td>17.15</td></tr><tr><td>15.11</td><td>13.60</td></tr><tr><td>58.98</td><td>53.08</td></tr><tr><td>14.41</td><td>12.97</td></tr><tr><td>68.95</td><td>62.06</td></tr><tr><td>28.25</td><td>25.43</td></tr><tr><td>92.89</td><td>83.60</td></tr><tr><td>41.15</td><td>37.04</td></tr><tr><td>12.76</td><td>11.48</td></tr><tr><td>51.35</td><td>46.22</td></tr><tr><td>26.78</td><td>24.10</td></tr><tr><td>61.64</td><td>55.48</td></tr><tr><td>41.61</td><td>37.45</td></tr><tr><td>13.7</td><td>12.33</td></tr><tr><td>64.14</td><td>57.73</td></tr><tr><td>80.76</td><td>72.68</td></tr><tr><td>67.5</td><td>60.75</td></tr><tr><td>17.61</td><td>15.85</td></tr><tr><td>52.62</td><td>47.36</td></tr><tr><td>59.01</td><td>53.11</td></tr><tr><td>40.87</td><td>36.78</td></tr><tr><td>26.78</td><td>24.10</td></tr><tr><td>20.45</td><td>18.41</td></tr><tr><td>67.33</td><td>60.60</td></tr><tr><td>66.31</td><td>59.68</td></tr><tr><td>58.25</td><td>52.43</td></tr><tr><td>18.73</td><td>16.86</td></tr><tr><td>36.89</td><td>33.20</td></tr><tr><td>69.68</td><td>62.71</td></tr><tr><td>34.38</td><td>30.94</td></tr><tr><td>77.48</td><td>69.73</td></tr><tr><td>55.65</td><td>50.09</td></tr><tr><td>88.11</td><td>79.30</td></tr><tr><td>12.0</td><td>10.80</td></tr><tr><td>38.27</td><td>34.44</td></tr><tr><td>17.27</td><td>15.54</td></tr><tr><td>58.15</td><td>52.34</td></tr><tr><td>46.81</td><td>42.13</td></tr><tr><td>17.91</td><td>16.12</td></tr><tr><td>55.91</td><td>50.32</td></tr><tr><td>34.52</td><td>31.07</td></tr><tr><td>54.59</td><td>49.13</td></tr><tr><td>51.02</td><td>45.92</td></tr><tr><td>49.02</td><td>44.12</td></tr><tr><td>20.3</td><td>18.27</td></tr><tr><td>72.25</td><td>65.03</td></tr><tr><td>16.23</td><td>14.61</td></tr><tr><td>47.61</td><td>42.85</td></tr><tr><td>33.45</td><td>30.11</td></tr><tr><td>88.86</td><td>79.97</td></tr><tr><td>24.76</td><td>22.28</td></tr><tr><td>68.73</td><td>61.86</td></tr><tr><td>90.82</td><td>81.74</td></tr><tr><td>45.31</td><td>40.78</td></tr><tr><td>53.73</td><td>48.36</td></tr><tr><td>23.24</td><td>20.92</td></tr><tr><td>42.24</td><td>38.02</td></tr><tr><td>52.65</td><td>47.39</td></tr><tr><td>37.12</td><td>33.41</td></tr><tr><td>96.74</td><td>87.07</td></tr><tr><td>54.27</td><td>48.84</td></tr><tr><td>25.7</td><td>23.13</td></tr><tr><td>81.54</td><td>73.39</td></tr><tr><td>13.15</td><td>11.84</td></tr><tr><td>71.85</td><td>64.67</td></tr><tr><td>17.51</td><td>15.76</td></tr><tr><td>23.11</td><td>20.80</td></tr><tr><td>52.93</td><td>47.64</td></tr><tr><td>46.26</td><td>41.63</td></tr><tr><td>55.96</td><td>50.36</td></tr><tr><td>38.45</td><td>34.61</td></tr><tr><td>59.33</td><td>53.40</td></tr><tr><td>24.55</td><td>22.10</td></tr><tr><td>75.54</td><td>67.99</td></tr><tr><td>42.09</td><td>37.88</td></tr><tr><td>99.65</td><td>89.69</td></tr><tr><td>34.64</td><td>31.18</td></tr><tr><td>72.71</td><td>65.44</td></tr><tr><td>49.82</td><td>44.84</td></tr><tr><td>78.59</td><td>70.73</td></tr><tr><td>79.87</td><td>71.88</td></tr><tr><td>77.27</td><td>69.54</td></tr><tr><td>13.33</td><td>12.00</td></tr><tr><td>48.62</td><td>43.76</td></tr><tr><td>77.07</td><td>69.36</td></tr><tr><td>92.01</td><td>82.81</td></tr><tr><td>20.2</td><td>18.18</td></tr><tr><td>90.09</td><td>81.08</td></tr><tr><td>78.53</td><td>70.68</td></tr><tr><td>36.62</td><td>32.96</td></tr><tr><td>29.19</td><td>26.27</td></tr><tr><td>45.78</td><td>41.20</td></tr><tr><td>95.78</td><td>86.20</td></tr><tr><td>46.69</td><td>42.02</td></tr><tr><td>85.16</td><td>76.64</td></tr><tr><td>59.19</td><td>53.27</td></tr><tr><td>80.97</td><td>72.87</td></tr><tr><td>60.33</td><td>54.30</td></tr><tr><td>42.11</td><td>37.90</td></tr><tr><td>49.04</td><td>44.14</td></tr><tr><td>49.44</td><td>44.50</td></tr><tr><td>69.18</td><td>62.26</td></tr><tr><td>10.62</td><td>9.56</td></tr><tr><td>29.94</td><td>26.95</td></tr><tr><td>40.82</td><td>36.74</td></tr><tr><td>33.14</td><td>29.83</td></tr><tr><td>14.91</td><td>13.42</td></tr><tr><td>91.8</td><td>82.62</td></tr><tr><td>98.9</td><td>89.01</td></tr><tr><td>93.14</td><td>83.83</td></tr><tr><td>78.68</td><td>70.81</td></tr><tr><td>97.33</td><td>87.60</td></tr><tr><td>74.09</td><td>66.68</td></tr><tr><td>53.61</td><td>48.25</td></tr><tr><td>54.61</td><td>49.15</td></tr><tr><td>95.13</td><td>85.62</td></tr><tr><td>13.25</td><td>11.93</td></tr><tr><td>62.27</td><td>56.04</td></tr><tr><td>99.8</td><td>89.82</td></tr><tr><td>10.59</td><td>9.53</td></tr><tr><td>75.23</td><td>67.71</td></tr><tr><td>71.31</td><td>64.18</td></tr><tr><td>92.44</td><td>83.20</td></tr><tr><td>64.11</td><td>57.70</td></tr><tr><td>96.48</td><td>86.83</td></tr><tr><td>62.59</td><td>56.33</td></tr><tr><td>92.75</td><td>83.48</td></tr><tr><td>54.93</td><td>49.44</td></tr><tr><td>10.46</td><td>9.41</td></tr><tr><td>36.36</td><td>32.72</td></tr><tr><td>51.12</td><td>46.01</td></tr><tr><td>21.86</td><td>19.67</td></tr><tr><td>58.31</td><td>52.48</td></tr><tr><td>35.33</td><td>31.80</td></tr><tr><td>34.92</td><td>31.43</td></tr><tr><td>66.26</td><td>59.63</td></tr><tr><td>16.31</td><td>14.68</td></tr><tr><td>48.83</td><td>43.95</td></tr><tr><td>37.42</td><td>33.68</td></tr><tr><td>15.79</td><td>14.21</td></tr><tr><td>37.77</td><td>33.99</td></tr><tr><td>39.11</td><td>35.20</td></tr><tr><td>23.42</td><td>21.08</td></tr><tr><td>26.71</td><td>24.04</td></tr><tr><td>70.19</td><td>63.17</td></tr><tr><td>58.97</td><td>53.07</td></tr><tr><td>46.44</td><td>41.80</td></tr><tr><td>47.04</td><td>42.34</td></tr><tr><td>96.98</td><td>87.28</td></tr><tr><td>45.21</td><td>40.69</td></tr><tr><td>24.82</td><td>22.34</td></tr><tr><td>65.27</td><td>58.74</td></tr><tr><td>83.78</td><td>75.40</td></tr><tr><td>31.28</td><td>28.15</td></tr><tr><td>36.03</td><td>32.43</td></tr><tr><td>47.55</td><td>42.80</td></tr><tr><td>90.67</td><td>81.60</td></tr><tr><td>51.1</td><td>45.99</td></tr><tr><td>98.35</td><td>88.52</td></tr><tr><td>28.02</td><td>25.22</td></tr><tr><td>33.72</td><td>30.35</td></tr><tr><td>84.03</td><td>75.63</td></tr></tbody></table></div>"
      ]
     },
     "metadata": {
      "application/vnd.databricks.v1+output": {
       "addedWidgets": {},
       "aggData": [],
       "aggError": "",
       "aggOverflow": false,
       "aggSchema": [],
       "aggSeriesLimitReached": false,
       "aggType": "",
       "arguments": {},
       "columnCustomDisplayInfos": {},
       "data": [
        [
         58.53,
         "52.68"
        ],
        [
         83.76,
         "75.38"
        ],
        [
         78.85,
         "70.97"
        ],
        [
         46.49,
         "41.84"
        ],
        [
         78.61,
         "70.75"
        ],
        [
         53.51,
         "48.16"
        ],
        [
         12.71,
         "11.44"
        ],
        [
         46.6,
         "41.94"
        ],
        [
         35.87,
         "32.28"
        ],
        [
         30.95,
         "27.86"
        ],
        [
         18.79,
         "16.91"
        ],
        [
         69.14,
         "62.23"
        ],
        [
         90.64,
         "81.58"
        ],
        [
         93.91,
         "84.52"
        ],
        [
         61.0,
         "54.90"
        ],
        [
         54.77,
         "49.29"
        ],
        [
         13.42,
         "12.08"
        ],
        [
         18.72,
         "16.85"
        ],
        [
         35.68,
         "32.11"
        ],
        [
         56.08,
         "50.47"
        ],
        [
         12.65,
         "11.39"
        ],
        [
         24.58,
         "22.12"
        ],
        [
         78.8,
         "70.92"
        ],
        [
         56.91,
         "51.22"
        ],
        [
         16.8,
         "15.12"
        ],
        [
         77.54,
         "69.79"
        ],
        [
         29.27,
         "26.34"
        ],
        [
         42.37,
         "38.13"
        ],
        [
         40.0,
         "36.00"
        ],
        [
         29.31,
         "26.38"
        ],
        [
         80.17,
         "72.15"
        ],
        [
         29.79,
         "26.81"
        ],
        [
         34.77,
         "31.29"
        ],
        [
         54.5,
         "49.05"
        ],
        [
         34.04,
         "30.64"
        ],
        [
         17.22,
         "15.50"
        ],
        [
         16.59,
         "14.93"
        ],
        [
         53.03,
         "47.73"
        ],
        [
         60.17,
         "54.15"
        ],
        [
         97.17,
         "87.45"
        ],
        [
         81.25,
         "73.13"
        ],
        [
         58.35,
         "52.52"
        ],
        [
         27.32,
         "24.59"
        ],
        [
         95.74,
         "86.17"
        ],
        [
         23.51,
         "21.16"
        ],
        [
         83.03,
         "74.73"
        ],
        [
         40.27,
         "36.24"
        ],
        [
         24.86,
         "22.37"
        ],
        [
         46.3,
         "41.67"
        ],
        [
         62.31,
         "56.08"
        ],
        [
         78.9,
         "71.01"
        ],
        [
         86.45,
         "77.81"
        ],
        [
         57.21,
         "51.49"
        ],
        [
         35.34,
         "31.81"
        ],
        [
         34.83,
         "31.35"
        ],
        [
         54.08,
         "48.67"
        ],
        [
         86.64,
         "77.98"
        ],
        [
         72.65,
         "65.39"
        ],
        [
         57.53,
         "51.78"
        ],
        [
         26.2,
         "23.58"
        ],
        [
         96.35,
         "86.72"
        ],
        [
         79.22,
         "71.30"
        ],
        [
         46.91,
         "42.22"
        ],
        [
         56.43,
         "50.79"
        ],
        [
         88.33,
         "79.50"
        ],
        [
         20.13,
         "18.12"
        ],
        [
         54.89,
         "49.40"
        ],
        [
         30.6,
         "27.54"
        ],
        [
         24.35,
         "21.92"
        ],
        [
         33.68,
         "30.31"
        ],
        [
         83.02,
         "74.72"
        ],
        [
         79.11,
         "71.20"
        ],
        [
         62.2,
         "55.98"
        ],
        [
         46.86,
         "42.17"
        ],
        [
         68.53,
         "61.68"
        ],
        [
         41.6,
         "37.44"
        ],
        [
         39.31,
         "35.38"
        ],
        [
         10.59,
         "9.53"
        ],
        [
         57.66,
         "51.89"
        ],
        [
         29.61,
         "26.65"
        ],
        [
         12.75,
         "11.48"
        ],
        [
         88.48,
         "79.63"
        ],
        [
         38.91,
         "35.02"
        ],
        [
         91.28,
         "82.15"
        ],
        [
         66.36,
         "59.72"
        ],
        [
         94.75,
         "85.28"
        ],
        [
         97.87,
         "88.08"
        ],
        [
         63.13,
         "56.82"
        ],
        [
         25.65,
         "23.09"
        ],
        [
         32.56,
         "29.30"
        ],
        [
         71.38,
         "64.24"
        ],
        [
         42.06,
         "37.85"
        ],
        [
         17.21,
         "15.49"
        ],
        [
         42.15,
         "37.94"
        ],
        [
         34.47,
         "31.02"
        ],
        [
         49.87,
         "44.88"
        ],
        [
         18.93,
         "17.04"
        ],
        [
         59.76,
         "53.78"
        ],
        [
         79.81,
         "71.83"
        ],
        [
         31.91,
         "28.72"
        ],
        [
         64.28,
         "57.85"
        ],
        [
         70.46,
         "63.41"
        ],
        [
         57.7,
         "51.93"
        ],
        [
         69.51,
         "62.56"
        ],
        [
         72.72,
         "65.45"
        ],
        [
         79.15,
         "71.24"
        ],
        [
         56.9,
         "51.21"
        ],
        [
         29.26,
         "26.33"
        ],
        [
         89.75,
         "80.78"
        ],
        [
         68.11,
         "61.30"
        ],
        [
         27.96,
         "25.16"
        ],
        [
         64.73,
         "58.26"
        ],
        [
         37.7,
         "33.93"
        ],
        [
         92.61,
         "83.35"
        ],
        [
         16.55,
         "14.90"
        ],
        [
         69.15,
         "62.24"
        ],
        [
         78.32,
         "70.49"
        ],
        [
         53.4,
         "48.06"
        ],
        [
         78.42,
         "70.58"
        ],
        [
         17.02,
         "15.32"
        ],
        [
         18.86,
         "16.97"
        ],
        [
         91.91,
         "82.72"
        ],
        [
         54.99,
         "49.49"
        ],
        [
         62.31,
         "56.08"
        ],
        [
         16.98,
         "15.28"
        ],
        [
         98.48,
         "88.63"
        ],
        [
         33.58,
         "30.22"
        ],
        [
         72.54,
         "65.29"
        ],
        [
         19.72,
         "17.75"
        ],
        [
         59.34,
         "53.41"
        ],
        [
         48.93,
         "44.04"
        ],
        [
         46.37,
         "41.73"
        ],
        [
         72.08,
         "64.87"
        ],
        [
         28.35,
         "25.52"
        ],
        [
         22.28,
         "20.05"
        ],
        [
         87.21,
         "78.49"
        ],
        [
         53.3,
         "47.97"
        ],
        [
         95.31,
         "85.78"
        ],
        [
         58.72,
         "52.85"
        ],
        [
         38.6,
         "34.74"
        ],
        [
         91.25,
         "82.13"
        ],
        [
         62.61,
         "56.35"
        ],
        [
         96.32,
         "86.69"
        ],
        [
         39.63,
         "35.67"
        ],
        [
         33.62,
         "30.26"
        ],
        [
         91.94,
         "82.75"
        ],
        [
         70.64,
         "63.58"
        ],
        [
         62.77,
         "56.49"
        ],
        [
         93.19,
         "83.87"
        ],
        [
         82.06,
         "73.85"
        ],
        [
         41.02,
         "36.92"
        ],
        [
         47.8,
         "43.02"
        ],
        [
         35.51,
         "31.96"
        ],
        [
         30.78,
         "27.70"
        ],
        [
         45.16,
         "40.64"
        ],
        [
         13.86,
         "12.47"
        ],
        [
         93.73,
         "84.36"
        ],
        [
         77.37,
         "69.63"
        ],
        [
         84.34,
         "75.91"
        ],
        [
         74.83,
         "67.35"
        ],
        [
         40.77,
         "36.69"
        ],
        [
         35.34,
         "31.81"
        ],
        [
         90.63,
         "81.57"
        ],
        [
         66.6,
         "59.94"
        ],
        [
         92.26,
         "83.03"
        ],
        [
         71.98,
         "64.78"
        ],
        [
         29.93,
         "26.94"
        ],
        [
         33.7,
         "30.33"
        ],
        [
         87.93,
         "79.14"
        ],
        [
         76.79,
         "69.11"
        ],
        [
         61.11,
         "55.00"
        ],
        [
         99.11,
         "89.20"
        ],
        [
         69.86,
         "62.87"
        ],
        [
         60.69,
         "54.62"
        ],
        [
         71.6,
         "64.44"
        ],
        [
         72.63,
         "65.37"
        ],
        [
         84.32,
         "75.89"
        ],
        [
         87.95,
         "79.16"
        ],
        [
         53.03,
         "47.73"
        ],
        [
         83.12,
         "74.81"
        ],
        [
         72.54,
         "65.29"
        ],
        [
         82.04,
         "73.84"
        ],
        [
         74.63,
         "67.17"
        ],
        [
         77.83,
         "70.05"
        ],
        [
         84.58,
         "76.12"
        ],
        [
         40.69,
         "36.62"
        ],
        [
         43.64,
         "39.28"
        ],
        [
         31.58,
         "28.42"
        ],
        [
         63.39,
         "57.05"
        ],
        [
         92.75,
         "83.48"
        ],
        [
         20.61,
         "18.55"
        ],
        [
         47.02,
         "42.32"
        ],
        [
         30.62,
         "27.56"
        ],
        [
         99.14,
         "89.23"
        ],
        [
         25.19,
         "22.67"
        ],
        [
         60.18,
         "54.16"
        ],
        [
         31.27,
         "28.14"
        ],
        [
         48.72,
         "43.85"
        ],
        [
         91.35,
         "82.22"
        ],
        [
         45.29,
         "40.76"
        ],
        [
         89.53,
         "80.58"
        ],
        [
         16.06,
         "14.45"
        ],
        [
         20.19,
         "18.17"
        ],
        [
         71.97,
         "64.77"
        ],
        [
         26.81,
         "24.13"
        ],
        [
         28.92,
         "26.03"
        ],
        [
         57.97,
         "52.17"
        ],
        [
         59.2,
         "53.28"
        ],
        [
         36.19,
         "32.57"
        ],
        [
         88.86,
         "79.97"
        ],
        [
         76.37,
         "68.73"
        ],
        [
         35.28,
         "31.75"
        ],
        [
         50.33,
         "45.30"
        ],
        [
         63.61,
         "57.25"
        ],
        [
         87.01,
         "78.31"
        ],
        [
         86.63,
         "77.97"
        ],
        [
         25.64,
         "23.08"
        ],
        [
         57.6,
         "51.84"
        ],
        [
         12.39,
         "11.15"
        ],
        [
         25.09,
         "22.58"
        ],
        [
         79.21,
         "71.29"
        ],
        [
         74.12,
         "66.71"
        ],
        [
         84.55,
         "76.10"
        ],
        [
         60.9,
         "54.81"
        ],
        [
         42.78,
         "38.50"
        ],
        [
         82.33,
         "74.10"
        ],
        [
         84.14,
         "75.73"
        ],
        [
         14.47,
         "13.02"
        ],
        [
         22.25,
         "20.03"
        ],
        [
         31.58,
         "28.42"
        ],
        [
         85.68,
         "77.11"
        ],
        [
         41.56,
         "37.40"
        ],
        [
         52.59,
         "47.33"
        ],
        [
         53.68,
         "48.31"
        ],
        [
         41.37,
         "37.23"
        ],
        [
         85.36,
         "76.82"
        ],
        [
         51.61,
         "46.45"
        ],
        [
         55.22,
         "49.70"
        ],
        [
         68.1,
         "61.29"
        ],
        [
         60.49,
         "54.44"
        ],
        [
         57.43,
         "51.69"
        ],
        [
         14.34,
         "12.91"
        ],
        [
         53.72,
         "48.35"
        ],
        [
         56.06,
         "50.45"
        ],
        [
         62.79,
         "56.51"
        ],
        [
         69.6,
         "62.64"
        ],
        [
         92.29,
         "83.06"
        ],
        [
         59.11,
         "53.20"
        ],
        [
         41.59,
         "37.43"
        ],
        [
         19.42,
         "17.48"
        ],
        [
         99.91,
         "89.92"
        ],
        [
         37.87,
         "34.08"
        ],
        [
         10.03,
         "9.03"
        ],
        [
         69.34,
         "62.41"
        ],
        [
         28.9,
         "26.01"
        ],
        [
         50.8,
         "45.72"
        ],
        [
         15.04,
         "13.54"
        ],
        [
         61.34,
         "55.21"
        ],
        [
         53.69,
         "48.32"
        ],
        [
         76.22,
         "68.60"
        ],
        [
         66.59,
         "59.93"
        ],
        [
         89.26,
         "80.33"
        ],
        [
         74.11,
         "66.70"
        ],
        [
         53.58,
         "48.22"
        ],
        [
         42.25,
         "38.03"
        ],
        [
         51.01,
         "45.91"
        ],
        [
         58.4,
         "52.56"
        ],
        [
         72.15,
         "64.94"
        ],
        [
         46.2,
         "41.58"
        ],
        [
         66.37,
         "59.73"
        ],
        [
         16.54,
         "14.89"
        ],
        [
         75.95,
         "68.36"
        ],
        [
         14.04,
         "12.64"
        ],
        [
         96.42,
         "86.78"
        ],
        [
         68.35,
         "61.52"
        ],
        [
         41.47,
         "37.32"
        ],
        [
         13.34,
         "12.01"
        ],
        [
         81.46,
         "73.31"
        ],
        [
         11.36,
         "10.22"
        ],
        [
         67.84,
         "61.06"
        ],
        [
         96.04,
         "86.44"
        ],
        [
         81.78,
         "73.60"
        ],
        [
         20.15,
         "18.14"
        ],
        [
         54.78,
         "49.30"
        ],
        [
         67.34,
         "60.61"
        ],
        [
         70.22,
         "63.20"
        ],
        [
         31.51,
         "28.36"
        ],
        [
         38.01,
         "34.21"
        ],
        [
         51.38,
         "46.24"
        ],
        [
         16.66,
         "14.99"
        ],
        [
         37.39,
         "33.65"
        ],
        [
         50.46,
         "45.41"
        ],
        [
         98.13,
         "88.32"
        ],
        [
         36.47,
         "32.82"
        ],
        [
         92.08,
         "82.87"
        ],
        [
         71.28,
         "64.15"
        ],
        [
         31.25,
         "28.13"
        ],
        [
         94.67,
         "85.20"
        ],
        [
         69.21,
         "62.29"
        ],
        [
         33.05,
         "29.75"
        ],
        [
         53.26,
         "47.93"
        ],
        [
         31.19,
         "28.07"
        ],
        [
         87.02,
         "78.32"
        ],
        [
         67.65,
         "60.89"
        ],
        [
         61.66,
         "55.49"
        ],
        [
         26.99,
         "24.29"
        ],
        [
         32.03,
         "28.83"
        ],
        [
         85.61,
         "77.05"
        ],
        [
         47.96,
         "43.16"
        ],
        [
         70.81,
         "63.73"
        ],
        [
         62.01,
         "55.81"
        ],
        [
         76.3,
         "68.67"
        ],
        [
         95.41,
         "85.87"
        ],
        [
         49.01,
         "44.11"
        ],
        [
         91.45,
         "82.31"
        ],
        [
         98.36,
         "88.52"
        ],
        [
         59.98,
         "53.98"
        ],
        [
         84.31,
         "75.88"
        ],
        [
         38.6,
         "34.74"
        ],
        [
         68.79,
         "61.91"
        ],
        [
         11.29,
         "10.16"
        ],
        [
         57.25,
         "51.53"
        ],
        [
         13.33,
         "12.00"
        ],
        [
         25.8,
         "23.22"
        ],
        [
         85.51,
         "76.96"
        ],
        [
         87.71,
         "78.94"
        ],
        [
         99.43,
         "89.49"
        ],
        [
         98.15,
         "88.34"
        ],
        [
         96.23,
         "86.61"
        ],
        [
         34.27,
         "30.84"
        ],
        [
         74.0,
         "66.60"
        ],
        [
         67.91,
         "61.12"
        ],
        [
         49.45,
         "44.51"
        ],
        [
         31.96,
         "28.76"
        ],
        [
         76.81,
         "69.13"
        ],
        [
         60.9,
         "54.81"
        ],
        [
         45.58,
         "41.02"
        ],
        [
         96.98,
         "87.28"
        ],
        [
         19.38,
         "17.44"
        ],
        [
         32.68,
         "29.41"
        ],
        [
         32.22,
         "29.00"
        ],
        [
         36.89,
         "33.20"
        ],
        [
         19.86,
         "17.87"
        ],
        [
         27.79,
         "25.01"
        ],
        [
         25.85,
         "23.27"
        ],
        [
         18.07,
         "16.26"
        ],
        [
         52.48,
         "47.23"
        ],
        [
         83.16,
         "74.84"
        ],
        [
         45.94,
         "41.35"
        ],
        [
         82.26,
         "74.03"
        ],
        [
         17.88,
         "16.09"
        ],
        [
         76.26,
         "68.63"
        ],
        [
         73.64,
         "66.28"
        ],
        [
         87.64,
         "78.88"
        ],
        [
         35.31,
         "31.78"
        ],
        [
         11.81,
         "10.63"
        ],
        [
         87.65,
         "78.89"
        ],
        [
         15.18,
         "13.66"
        ],
        [
         30.28,
         "27.25"
        ],
        [
         22.28,
         "20.05"
        ],
        [
         30.78,
         "27.70"
        ],
        [
         35.3,
         "31.77"
        ],
        [
         81.51,
         "73.36"
        ],
        [
         22.95,
         "20.66"
        ],
        [
         58.32,
         "52.49"
        ],
        [
         63.44,
         "57.10"
        ],
        [
         18.43,
         "16.59"
        ],
        [
         30.17,
         "27.15"
        ],
        [
         60.68,
         "54.61"
        ],
        [
         34.75,
         "31.28"
        ],
        [
         99.0,
         "89.10"
        ],
        [
         34.91,
         "31.42"
        ],
        [
         81.64,
         "73.48"
        ],
        [
         31.01,
         "27.91"
        ],
        [
         42.61,
         "38.35"
        ],
        [
         74.04,
         "66.64"
        ],
        [
         89.22,
         "80.30"
        ],
        [
         62.03,
         "55.83"
        ],
        [
         11.94,
         "10.75"
        ],
        [
         63.86,
         "57.47"
        ],
        [
         70.57,
         "63.51"
        ],
        [
         84.74,
         "76.27"
        ],
        [
         22.18,
         "19.96"
        ],
        [
         82.1,
         "73.89"
        ],
        [
         81.8,
         "73.62"
        ],
        [
         61.21,
         "55.09"
        ],
        [
         38.0,
         "34.20"
        ],
        [
         70.81,
         "63.73"
        ],
        [
         16.79,
         "15.11"
        ],
        [
         72.78,
         "65.50"
        ],
        [
         96.45,
         "86.81"
        ],
        [
         43.62,
         "39.26"
        ],
        [
         44.1,
         "39.69"
        ],
        [
         98.63,
         "88.77"
        ],
        [
         94.42,
         "84.98"
        ],
        [
         85.49,
         "76.94"
        ],
        [
         47.04,
         "42.34"
        ],
        [
         12.96,
         "11.66"
        ],
        [
         25.55,
         "23.00"
        ],
        [
         53.47,
         "48.12"
        ],
        [
         98.92,
         "89.03"
        ],
        [
         73.15,
         "65.84"
        ],
        [
         39.46,
         "35.51"
        ],
        [
         61.62,
         "55.46"
        ],
        [
         51.86,
         "46.67"
        ],
        [
         20.82,
         "18.74"
        ],
        [
         72.49,
         "65.24"
        ],
        [
         39.96,
         "35.96"
        ],
        [
         66.68,
         "60.01"
        ],
        [
         95.86,
         "86.27"
        ],
        [
         51.77,
         "46.59"
        ],
        [
         96.59,
         "86.93"
        ],
        [
         68.63,
         "61.77"
        ],
        [
         75.31,
         "67.78"
        ],
        [
         49.27,
         "44.34"
        ],
        [
         41.27,
         "37.14"
        ],
        [
         59.02,
         "53.12"
        ],
        [
         68.71,
         "61.84"
        ],
        [
         25.73,
         "23.16"
        ],
        [
         47.32,
         "42.59"
        ],
        [
         62.79,
         "56.51"
        ],
        [
         78.06,
         "70.25"
        ],
        [
         40.1,
         "36.09"
        ],
        [
         89.98,
         "80.98"
        ],
        [
         38.86,
         "34.97"
        ],
        [
         15.23,
         "13.71"
        ],
        [
         23.77,
         "21.39"
        ],
        [
         59.54,
         "53.59"
        ],
        [
         52.1,
         "46.89"
        ],
        [
         54.92,
         "49.43"
        ],
        [
         10.6,
         "9.54"
        ],
        [
         55.14,
         "49.63"
        ],
        [
         60.12,
         "54.11"
        ],
        [
         72.8,
         "65.52"
        ],
        [
         22.46,
         "20.21"
        ],
        [
         14.29,
         "12.86"
        ],
        [
         33.86,
         "30.47"
        ],
        [
         93.15,
         "83.84"
        ],
        [
         16.09,
         "14.48"
        ],
        [
         95.21,
         "85.69"
        ],
        [
         49.19,
         "44.27"
        ],
        [
         20.93,
         "18.84"
        ],
        [
         12.24,
         "11.02"
        ],
        [
         87.22,
         "78.50"
        ],
        [
         62.06,
         "55.85"
        ],
        [
         26.58,
         "23.92"
        ],
        [
         43.22,
         "38.90"
        ],
        [
         91.21,
         "82.09"
        ],
        [
         29.31,
         "26.38"
        ],
        [
         91.38,
         "82.24"
        ],
        [
         67.0,
         "60.30"
        ],
        [
         20.72,
         "18.65"
        ],
        [
         42.21,
         "37.99"
        ],
        [
         59.81,
         "53.83"
        ],
        [
         97.73,
         "87.96"
        ],
        [
         18.85,
         "16.97"
        ],
        [
         52.18,
         "46.96"
        ],
        [
         97.98,
         "88.18"
        ],
        [
         65.3,
         "58.77"
        ],
        [
         88.96,
         "80.06"
        ],
        [
         52.11,
         "46.90"
        ],
        [
         64.23,
         "57.81"
        ],
        [
         75.9,
         "68.31"
        ],
        [
         95.22,
         "85.70"
        ],
        [
         94.41,
         "84.97"
        ],
        [
         54.06,
         "48.65"
        ],
        [
         45.68,
         "41.11"
        ],
        [
         18.02,
         "16.22"
        ],
        [
         69.14,
         "62.23"
        ],
        [
         75.53,
         "67.98"
        ],
        [
         64.9,
         "58.41"
        ],
        [
         37.65,
         "33.89"
        ],
        [
         18.37,
         "16.53"
        ],
        [
         53.95,
         "48.56"
        ],
        [
         44.65,
         "40.19"
        ],
        [
         60.09,
         "54.08"
        ],
        [
         48.32,
         "43.49"
        ],
        [
         43.15,
         "38.84"
        ],
        [
         62.21,
         "55.99"
        ],
        [
         33.79,
         "30.41"
        ],
        [
         59.0,
         "53.10"
        ],
        [
         65.47,
         "58.92"
        ],
        [
         51.29,
         "46.16"
        ],
        [
         48.33,
         "43.50"
        ],
        [
         75.19,
         "67.67"
        ],
        [
         82.66,
         "74.39"
        ],
        [
         83.52,
         "75.17"
        ],
        [
         67.39,
         "60.65"
        ],
        [
         73.18,
         "65.86"
        ],
        [
         30.63,
         "27.57"
        ],
        [
         52.9,
         "47.61"
        ],
        [
         71.6,
         "64.44"
        ],
        [
         80.16,
         "72.14"
        ],
        [
         26.31,
         "23.68"
        ],
        [
         40.25,
         "36.23"
        ],
        [
         74.03,
         "66.63"
        ],
        [
         30.92,
         "27.83"
        ],
        [
         62.0,
         "55.80"
        ],
        [
         20.67,
         "18.60"
        ],
        [
         51.2,
         "46.08"
        ],
        [
         24.95,
         "22.46"
        ],
        [
         91.26,
         "82.13"
        ],
        [
         39.11,
         "35.20"
        ],
        [
         41.89,
         "37.70"
        ],
        [
         60.07,
         "54.06"
        ],
        [
         41.97,
         "37.77"
        ],
        [
         31.35,
         "28.22"
        ],
        [
         75.66,
         "68.09"
        ],
        [
         16.34,
         "14.71"
        ],
        [
         43.19,
         "38.87"
        ],
        [
         26.9,
         "24.21"
        ],
        [
         64.87,
         "58.38"
        ],
        [
         37.93,
         "34.14"
        ],
        [
         37.17,
         "33.45"
        ],
        [
         30.27,
         "27.24"
        ],
        [
         92.2,
         "82.98"
        ],
        [
         41.31,
         "37.18"
        ],
        [
         76.74,
         "69.07"
        ],
        [
         44.05,
         "39.65"
        ],
        [
         79.58,
         "71.62"
        ],
        [
         87.03,
         "78.33"
        ],
        [
         68.94,
         "62.05"
        ],
        [
         14.96,
         "13.46"
        ],
        [
         46.99,
         "42.29"
        ],
        [
         12.36,
         "11.12"
        ],
        [
         55.26,
         "49.73"
        ],
        [
         77.02,
         "69.32"
        ],
        [
         32.27,
         "29.04"
        ],
        [
         24.77,
         "22.29"
        ],
        [
         91.98,
         "82.78"
        ],
        [
         25.25,
         "22.73"
        ],
        [
         21.96,
         "19.76"
        ],
        [
         88.6,
         "79.74"
        ],
        [
         89.33,
         "80.40"
        ],
        [
         83.49,
         "75.14"
        ],
        [
         42.95,
         "38.66"
        ],
        [
         88.41,
         "79.57"
        ],
        [
         94.99,
         "85.49"
        ],
        [
         23.49,
         "21.14"
        ],
        [
         13.67,
         "12.30"
        ],
        [
         86.3,
         "77.67"
        ],
        [
         73.25,
         "65.93"
        ],
        [
         79.9,
         "71.91"
        ],
        [
         66.73,
         "60.06"
        ],
        [
         67.94,
         "61.15"
        ],
        [
         96.21,
         "86.59"
        ],
        [
         88.34,
         "79.51"
        ],
        [
         44.37,
         "39.93"
        ],
        [
         61.81,
         "55.63"
        ],
        [
         66.53,
         "59.88"
        ],
        [
         27.84,
         "25.06"
        ],
        [
         86.11,
         "77.50"
        ],
        [
         53.66,
         "48.29"
        ],
        [
         48.95,
         "44.06"
        ],
        [
         38.59,
         "34.73"
        ],
        [
         54.66,
         "49.19"
        ],
        [
         28.14,
         "25.33"
        ],
        [
         62.38,
         "56.14"
        ],
        [
         21.69,
         "19.52"
        ],
        [
         31.24,
         "28.12"
        ],
        [
         40.28,
         "36.25"
        ],
        [
         43.98,
         "39.58"
        ],
        [
         22.95,
         "20.66"
        ],
        [
         36.02,
         "32.42"
        ],
        [
         13.35,
         "12.02"
        ],
        [
         27.4,
         "24.66"
        ],
        [
         17.71,
         "15.94"
        ],
        [
         68.65,
         "61.79"
        ],
        [
         58.73,
         "52.86"
        ],
        [
         19.25,
         "17.33"
        ],
        [
         98.33,
         "88.50"
        ],
        [
         68.27,
         "61.44"
        ],
        [
         53.99,
         "48.59"
        ],
        [
         50.45,
         "45.41"
        ],
        [
         96.57,
         "86.91"
        ],
        [
         60.21,
         "54.19"
        ],
        [
         66.91,
         "60.22"
        ],
        [
         75.68,
         "68.11"
        ],
        [
         96.77,
         "87.09"
        ],
        [
         36.86,
         "33.17"
        ],
        [
         32.99,
         "29.69"
        ],
        [
         65.05,
         "58.55"
        ],
        [
         44.79,
         "40.31"
        ],
        [
         57.54,
         "51.79"
        ],
        [
         28.02,
         "25.22"
        ],
        [
         89.16,
         "80.24"
        ],
        [
         97.7,
         "87.93"
        ],
        [
         27.77,
         "24.99"
        ],
        [
         22.93,
         "20.64"
        ],
        [
         39.68,
         "35.71"
        ],
        [
         32.11,
         "28.90"
        ],
        [
         11.57,
         "10.41"
        ],
        [
         62.03,
         "55.83"
        ],
        [
         41.54,
         "37.39"
        ],
        [
         85.95,
         "77.36"
        ],
        [
         19.37,
         "17.43"
        ],
        [
         73.45,
         "66.11"
        ],
        [
         27.5,
         "24.75"
        ],
        [
         55.64,
         "50.08"
        ],
        [
         30.98,
         "27.88"
        ],
        [
         44.57,
         "40.11"
        ],
        [
         10.16,
         "9.14"
        ],
        [
         64.99,
         "58.49"
        ],
        [
         22.33,
         "20.10"
        ],
        [
         96.29,
         "86.66"
        ],
        [
         63.06,
         "56.75"
        ],
        [
         70.26,
         "63.23"
        ],
        [
         50.8,
         "45.72"
        ],
        [
         87.97,
         "79.17"
        ],
        [
         50.59,
         "45.53"
        ],
        [
         15.88,
         "14.29"
        ],
        [
         30.97,
         "27.87"
        ],
        [
         61.67,
         "55.50"
        ],
        [
         24.25,
         "21.83"
        ],
        [
         85.6,
         "77.04"
        ],
        [
         35.0,
         "31.50"
        ],
        [
         34.19,
         "30.77"
        ],
        [
         69.92,
         "62.93"
        ],
        [
         17.98,
         "16.18"
        ],
        [
         76.71,
         "69.04"
        ],
        [
         23.29,
         "20.96"
        ],
        [
         98.44,
         "88.60"
        ],
        [
         42.89,
         "38.60"
        ],
        [
         71.17,
         "64.05"
        ],
        [
         19.28,
         "17.35"
        ],
        [
         22.15,
         "19.94"
        ],
        [
         46.96,
         "42.26"
        ],
        [
         65.64,
         "59.08"
        ],
        [
         54.72,
         "49.25"
        ],
        [
         82.91,
         "74.62"
        ],
        [
         26.07,
         "23.46"
        ],
        [
         71.6,
         "64.44"
        ],
        [
         49.92,
         "44.93"
        ],
        [
         35.5,
         "31.95"
        ],
        [
         15.64,
         "14.08"
        ],
        [
         68.63,
         "61.77"
        ],
        [
         51.61,
         "46.45"
        ],
        [
         16.14,
         "14.53"
        ],
        [
         37.17,
         "33.45"
        ],
        [
         53.18,
         "47.86"
        ],
        [
         93.99,
         "84.59"
        ],
        [
         93.03,
         "83.73"
        ],
        [
         66.38,
         "59.74"
        ],
        [
         31.1,
         "27.99"
        ],
        [
         45.46,
         "40.91"
        ],
        [
         19.2,
         "17.28"
        ],
        [
         53.55,
         "48.20"
        ],
        [
         23.73,
         "21.36"
        ],
        [
         99.5,
         "89.55"
        ],
        [
         48.14,
         "43.33"
        ],
        [
         70.66,
         "63.59"
        ],
        [
         31.69,
         "28.52"
        ],
        [
         23.82,
         "21.44"
        ],
        [
         66.92,
         "60.23"
        ],
        [
         49.74,
         "44.77"
        ],
        [
         25.97,
         "23.37"
        ],
        [
         27.75,
         "24.98"
        ],
        [
         68.84,
         "61.96"
        ],
        [
         29.74,
         "26.77"
        ],
        [
         71.36,
         "64.22"
        ],
        [
         65.54,
         "58.99"
        ],
        [
         20.43,
         "18.39"
        ],
        [
         55.32,
         "49.79"
        ],
        [
         30.3,
         "27.27"
        ],
        [
         98.38,
         "88.54"
        ],
        [
         90.22,
         "81.20"
        ],
        [
         53.58,
         "48.22"
        ],
        [
         25.13,
         "22.62"
        ],
        [
         56.42,
         "50.78"
        ],
        [
         43.5,
         "39.15"
        ],
        [
         19.58,
         "17.62"
        ],
        [
         50.28,
         "45.25"
        ],
        [
         12.79,
         "11.51"
        ],
        [
         27.48,
         "24.73"
        ],
        [
         68.98,
         "62.08"
        ],
        [
         18.52,
         "16.67"
        ],
        [
         66.44,
         "59.80"
        ],
        [
         56.22,
         "50.60"
        ],
        [
         39.53,
         "35.58"
        ],
        [
         88.06,
         "79.25"
        ],
        [
         90.64,
         "81.58"
        ],
        [
         10.63,
         "9.57"
        ],
        [
         47.05,
         "42.35"
        ],
        [
         94.63,
         "85.17"
        ],
        [
         84.77,
         "76.29"
        ],
        [
         45.01,
         "40.51"
        ],
        [
         81.76,
         "73.58"
        ],
        [
         42.12,
         "37.91"
        ],
        [
         82.17,
         "73.95"
        ],
        [
         57.16,
         "51.44"
        ],
        [
         61.59,
         "55.43"
        ],
        [
         97.14,
         "87.43"
        ],
        [
         15.47,
         "13.92"
        ],
        [
         78.89,
         "71.00"
        ],
        [
         34.75,
         "31.28"
        ],
        [
         71.68,
         "64.51"
        ],
        [
         99.93,
         "89.94"
        ],
        [
         51.81,
         "46.63"
        ],
        [
         74.81,
         "67.33"
        ],
        [
         96.31,
         "86.68"
        ],
        [
         65.52,
         "58.97"
        ],
        [
         61.4,
         "55.26"
        ],
        [
         26.9,
         "24.21"
        ],
        [
         71.15,
         "64.04"
        ],
        [
         64.98,
         "58.48"
        ],
        [
         75.95,
         "68.36"
        ],
        [
         24.21,
         "21.79"
        ],
        [
         24.28,
         "21.85"
        ],
        [
         22.99,
         "20.69"
        ],
        [
         83.43,
         "75.09"
        ],
        [
         76.85,
         "69.17"
        ],
        [
         97.34,
         "87.61"
        ],
        [
         38.77,
         "34.89"
        ],
        [
         14.84,
         "13.36"
        ],
        [
         61.33,
         "55.20"
        ],
        [
         29.09,
         "26.18"
        ],
        [
         19.35,
         "17.42"
        ],
        [
         84.27,
         "75.84"
        ],
        [
         50.98,
         "45.88"
        ],
        [
         85.85,
         "77.27"
        ],
        [
         61.46,
         "55.31"
        ],
        [
         78.96,
         "71.06"
        ],
        [
         32.05,
         "28.85"
        ],
        [
         91.88,
         "82.69"
        ],
        [
         69.47,
         "62.52"
        ],
        [
         24.77,
         "22.29"
        ],
        [
         10.51,
         "9.46"
        ],
        [
         55.95,
         "50.36"
        ],
        [
         25.85,
         "23.27"
        ],
        [
         77.87,
         "70.08"
        ],
        [
         59.5,
         "53.55"
        ],
        [
         96.47,
         "86.82"
        ],
        [
         41.07,
         "36.96"
        ],
        [
         61.68,
         "55.51"
        ],
        [
         74.3,
         "66.87"
        ],
        [
         23.96,
         "21.56"
        ],
        [
         54.02,
         "48.62"
        ],
        [
         92.15,
         "82.94"
        ],
        [
         53.66,
         "48.29"
        ],
        [
         85.12,
         "76.61"
        ],
        [
         12.07,
         "10.86"
        ],
        [
         71.24,
         "64.12"
        ],
        [
         81.82,
         "73.64"
        ],
        [
         81.02,
         "72.92"
        ],
        [
         77.94,
         "70.15"
        ],
        [
         39.75,
         "35.78"
        ],
        [
         57.5,
         "51.75"
        ],
        [
         81.26,
         "73.13"
        ],
        [
         95.31,
         "85.78"
        ],
        [
         83.03,
         "74.73"
        ],
        [
         54.04,
         "48.64"
        ],
        [
         45.78,
         "41.20"
        ],
        [
         84.58,
         "76.12"
        ],
        [
         54.01,
         "48.61"
        ],
        [
         58.82,
         "52.94"
        ],
        [
         22.19,
         "19.97"
        ],
        [
         65.5,
         "58.95"
        ],
        [
         35.97,
         "32.37"
        ],
        [
         76.15,
         "68.54"
        ],
        [
         24.41,
         "21.97"
        ],
        [
         99.4,
         "89.46"
        ],
        [
         74.65,
         "67.19"
        ],
        [
         70.83,
         "63.75"
        ],
        [
         90.58,
         "81.52"
        ],
        [
         57.88,
         "52.09"
        ],
        [
         95.43,
         "85.89"
        ],
        [
         76.32,
         "68.69"
        ],
        [
         72.35,
         "65.12"
        ],
        [
         50.71,
         "45.64"
        ],
        [
         90.73,
         "81.66"
        ],
        [
         94.96,
         "85.46"
        ],
        [
         69.71,
         "62.74"
        ],
        [
         94.11,
         "84.70"
        ],
        [
         69.5,
         "62.55"
        ],
        [
         76.14,
         "68.53"
        ],
        [
         31.23,
         "28.11"
        ],
        [
         84.73,
         "76.26"
        ],
        [
         18.34,
         "16.51"
        ],
        [
         36.77,
         "33.09"
        ],
        [
         32.9,
         "29.61"
        ],
        [
         51.81,
         "46.63"
        ],
        [
         88.47,
         "79.62"
        ],
        [
         23.89,
         "21.50"
        ],
        [
         85.42,
         "76.88"
        ],
        [
         43.7,
         "39.33"
        ],
        [
         93.46,
         "84.11"
        ],
        [
         57.7,
         "51.93"
        ],
        [
         10.88,
         "9.79"
        ],
        [
         77.78,
         "70.00"
        ],
        [
         96.35,
         "86.72"
        ],
        [
         30.72,
         "27.65"
        ],
        [
         62.01,
         "55.81"
        ],
        [
         62.27,
         "56.04"
        ],
        [
         67.6,
         "60.84"
        ],
        [
         32.28,
         "29.05"
        ],
        [
         30.15,
         "27.14"
        ],
        [
         99.39,
         "89.45"
        ],
        [
         40.91,
         "36.82"
        ],
        [
         48.13,
         "43.32"
        ],
        [
         93.81,
         "84.43"
        ],
        [
         90.71,
         "81.64"
        ],
        [
         78.23,
         "70.41"
        ],
        [
         41.08,
         "36.97"
        ],
        [
         47.54,
         "42.79"
        ],
        [
         33.49,
         "30.14"
        ],
        [
         62.7,
         "56.43"
        ],
        [
         32.6,
         "29.34"
        ],
        [
         62.5,
         "56.25"
        ],
        [
         38.62,
         "34.76"
        ],
        [
         71.66,
         "64.49"
        ],
        [
         88.27,
         "79.44"
        ],
        [
         12.33,
         "11.10"
        ],
        [
         78.82,
         "70.94"
        ],
        [
         83.68,
         "75.31"
        ],
        [
         47.78,
         "43.00"
        ],
        [
         96.5,
         "86.85"
        ],
        [
         44.16,
         "39.74"
        ],
        [
         52.91,
         "47.62"
        ],
        [
         77.92,
         "70.13"
        ],
        [
         81.73,
         "73.56"
        ],
        [
         42.58,
         "38.32"
        ],
        [
         23.89,
         "21.50"
        ],
        [
         81.33,
         "73.20"
        ],
        [
         85.78,
         "77.20"
        ],
        [
         31.86,
         "28.67"
        ],
        [
         99.22,
         "89.30"
        ],
        [
         75.93,
         "68.34"
        ],
        [
         89.12,
         "80.21"
        ],
        [
         92.24,
         "83.02"
        ],
        [
         54.49,
         "49.04"
        ],
        [
         95.48,
         "85.93"
        ],
        [
         42.79,
         "38.51"
        ],
        [
         44.95,
         "40.46"
        ],
        [
         44.25,
         "39.83"
        ],
        [
         51.8,
         "46.62"
        ],
        [
         19.62,
         "17.66"
        ],
        [
         65.12,
         "58.61"
        ],
        [
         79.73,
         "71.76"
        ],
        [
         19.06,
         "17.15"
        ],
        [
         15.11,
         "13.60"
        ],
        [
         58.98,
         "53.08"
        ],
        [
         14.41,
         "12.97"
        ],
        [
         68.95,
         "62.06"
        ],
        [
         28.25,
         "25.43"
        ],
        [
         92.89,
         "83.60"
        ],
        [
         41.15,
         "37.04"
        ],
        [
         12.76,
         "11.48"
        ],
        [
         51.35,
         "46.22"
        ],
        [
         26.78,
         "24.10"
        ],
        [
         61.64,
         "55.48"
        ],
        [
         41.61,
         "37.45"
        ],
        [
         13.7,
         "12.33"
        ],
        [
         64.14,
         "57.73"
        ],
        [
         80.76,
         "72.68"
        ],
        [
         67.5,
         "60.75"
        ],
        [
         17.61,
         "15.85"
        ],
        [
         52.62,
         "47.36"
        ],
        [
         59.01,
         "53.11"
        ],
        [
         40.87,
         "36.78"
        ],
        [
         26.78,
         "24.10"
        ],
        [
         20.45,
         "18.41"
        ],
        [
         67.33,
         "60.60"
        ],
        [
         66.31,
         "59.68"
        ],
        [
         58.25,
         "52.43"
        ],
        [
         18.73,
         "16.86"
        ],
        [
         36.89,
         "33.20"
        ],
        [
         69.68,
         "62.71"
        ],
        [
         34.38,
         "30.94"
        ],
        [
         77.48,
         "69.73"
        ],
        [
         55.65,
         "50.09"
        ],
        [
         88.11,
         "79.30"
        ],
        [
         12.0,
         "10.80"
        ],
        [
         38.27,
         "34.44"
        ],
        [
         17.27,
         "15.54"
        ],
        [
         58.15,
         "52.34"
        ],
        [
         46.81,
         "42.13"
        ],
        [
         17.91,
         "16.12"
        ],
        [
         55.91,
         "50.32"
        ],
        [
         34.52,
         "31.07"
        ],
        [
         54.59,
         "49.13"
        ],
        [
         51.02,
         "45.92"
        ],
        [
         49.02,
         "44.12"
        ],
        [
         20.3,
         "18.27"
        ],
        [
         72.25,
         "65.03"
        ],
        [
         16.23,
         "14.61"
        ],
        [
         47.61,
         "42.85"
        ],
        [
         33.45,
         "30.11"
        ],
        [
         88.86,
         "79.97"
        ],
        [
         24.76,
         "22.28"
        ],
        [
         68.73,
         "61.86"
        ],
        [
         90.82,
         "81.74"
        ],
        [
         45.31,
         "40.78"
        ],
        [
         53.73,
         "48.36"
        ],
        [
         23.24,
         "20.92"
        ],
        [
         42.24,
         "38.02"
        ],
        [
         52.65,
         "47.39"
        ],
        [
         37.12,
         "33.41"
        ],
        [
         96.74,
         "87.07"
        ],
        [
         54.27,
         "48.84"
        ],
        [
         25.7,
         "23.13"
        ],
        [
         81.54,
         "73.39"
        ],
        [
         13.15,
         "11.84"
        ],
        [
         71.85,
         "64.67"
        ],
        [
         17.51,
         "15.76"
        ],
        [
         23.11,
         "20.80"
        ],
        [
         52.93,
         "47.64"
        ],
        [
         46.26,
         "41.63"
        ],
        [
         55.96,
         "50.36"
        ],
        [
         38.45,
         "34.61"
        ],
        [
         59.33,
         "53.40"
        ],
        [
         24.55,
         "22.10"
        ],
        [
         75.54,
         "67.99"
        ],
        [
         42.09,
         "37.88"
        ],
        [
         99.65,
         "89.69"
        ],
        [
         34.64,
         "31.18"
        ],
        [
         72.71,
         "65.44"
        ],
        [
         49.82,
         "44.84"
        ],
        [
         78.59,
         "70.73"
        ],
        [
         79.87,
         "71.88"
        ],
        [
         77.27,
         "69.54"
        ],
        [
         13.33,
         "12.00"
        ],
        [
         48.62,
         "43.76"
        ],
        [
         77.07,
         "69.36"
        ],
        [
         92.01,
         "82.81"
        ],
        [
         20.2,
         "18.18"
        ],
        [
         90.09,
         "81.08"
        ],
        [
         78.53,
         "70.68"
        ],
        [
         36.62,
         "32.96"
        ],
        [
         29.19,
         "26.27"
        ],
        [
         45.78,
         "41.20"
        ],
        [
         95.78,
         "86.20"
        ],
        [
         46.69,
         "42.02"
        ],
        [
         85.16,
         "76.64"
        ],
        [
         59.19,
         "53.27"
        ],
        [
         80.97,
         "72.87"
        ],
        [
         60.33,
         "54.30"
        ],
        [
         42.11,
         "37.90"
        ],
        [
         49.04,
         "44.14"
        ],
        [
         49.44,
         "44.50"
        ],
        [
         69.18,
         "62.26"
        ],
        [
         10.62,
         "9.56"
        ],
        [
         29.94,
         "26.95"
        ],
        [
         40.82,
         "36.74"
        ],
        [
         33.14,
         "29.83"
        ],
        [
         14.91,
         "13.42"
        ],
        [
         91.8,
         "82.62"
        ],
        [
         98.9,
         "89.01"
        ],
        [
         93.14,
         "83.83"
        ],
        [
         78.68,
         "70.81"
        ],
        [
         97.33,
         "87.60"
        ],
        [
         74.09,
         "66.68"
        ],
        [
         53.61,
         "48.25"
        ],
        [
         54.61,
         "49.15"
        ],
        [
         95.13,
         "85.62"
        ],
        [
         13.25,
         "11.93"
        ],
        [
         62.27,
         "56.04"
        ],
        [
         99.8,
         "89.82"
        ],
        [
         10.59,
         "9.53"
        ],
        [
         75.23,
         "67.71"
        ],
        [
         71.31,
         "64.18"
        ],
        [
         92.44,
         "83.20"
        ],
        [
         64.11,
         "57.70"
        ],
        [
         96.48,
         "86.83"
        ],
        [
         62.59,
         "56.33"
        ],
        [
         92.75,
         "83.48"
        ],
        [
         54.93,
         "49.44"
        ],
        [
         10.46,
         "9.41"
        ],
        [
         36.36,
         "32.72"
        ],
        [
         51.12,
         "46.01"
        ],
        [
         21.86,
         "19.67"
        ],
        [
         58.31,
         "52.48"
        ],
        [
         35.33,
         "31.80"
        ],
        [
         34.92,
         "31.43"
        ],
        [
         66.26,
         "59.63"
        ],
        [
         16.31,
         "14.68"
        ],
        [
         48.83,
         "43.95"
        ],
        [
         37.42,
         "33.68"
        ],
        [
         15.79,
         "14.21"
        ],
        [
         37.77,
         "33.99"
        ],
        [
         39.11,
         "35.20"
        ],
        [
         23.42,
         "21.08"
        ],
        [
         26.71,
         "24.04"
        ],
        [
         70.19,
         "63.17"
        ],
        [
         58.97,
         "53.07"
        ],
        [
         46.44,
         "41.80"
        ],
        [
         47.04,
         "42.34"
        ],
        [
         96.98,
         "87.28"
        ],
        [
         45.21,
         "40.69"
        ],
        [
         24.82,
         "22.34"
        ],
        [
         65.27,
         "58.74"
        ],
        [
         83.78,
         "75.40"
        ],
        [
         31.28,
         "28.15"
        ],
        [
         36.03,
         "32.43"
        ],
        [
         47.55,
         "42.80"
        ],
        [
         90.67,
         "81.60"
        ],
        [
         51.1,
         "45.99"
        ],
        [
         98.35,
         "88.52"
        ],
        [
         28.02,
         "25.22"
        ],
        [
         33.72,
         "30.35"
        ],
        [
         84.03,
         "75.63"
        ]
       ],
       "datasetInfos": [
        {
         "name": "_sqldf",
         "schema": {
          "fields": [
           {
            "metadata": {},
            "name": "price_per_unit",
            "nullable": true,
            "type": "double"
           },
           {
            "metadata": {},
            "name": "sparksql_cata.sparksql_schema.discount_price(price_per_unit)",
            "nullable": true,
            "type": "decimal(10,2)"
           }
          ],
          "type": "struct"
         },
         "tableIdentifier": null,
         "typeStr": "pyspark.sql.connect.dataframe.DataFrame"
        }
       ],
       "dbfsResultPath": null,
       "isJsonSchema": true,
       "metadata": {
        "createTempViewForImplicitDf": true,
        "dataframeName": "_sqldf",
        "executionCount": 4
       },
       "overflow": false,
       "plotOptions": {
        "customPlotOptions": {},
        "displayType": "table",
        "pivotAggregation": null,
        "pivotColumns": null,
        "xColumns": null,
        "yColumns": null
       },
       "removedWidgets": [],
       "schema": [
        {
         "metadata": "{}",
         "name": "price_per_unit",
         "type": "\"double\""
        },
        {
         "metadata": "{}",
         "name": "sparksql_cata.sparksql_schema.discount_price(price_per_unit)",
         "type": "\"decimal(10,2)\""
        }
       ],
       "type": "table"
      }
     },
     "output_type": "display_data"
    }
   ],
   "source": [
    "SELECT \n",
    "price_per_unit,\n",
    "sparksql_cata.sparksql_schema.discount_price(price_per_unit)\n",
    "FROM sparksql_cata.sparksql_schema.orders_ext"
   ]
  },
  {
   "cell_type": "markdown",
   "metadata": {
    "application/vnd.databricks.v1+cell": {
     "cellMetadata": {},
     "inputWidgets": {},
     "nuid": "195e56aa-fe7d-4eac-94ce-cf02a10f2f2c",
     "showTitle": false,
     "tableResultSettingsMap": {},
     "title": ""
    }
   },
   "source": [
    "### Table Function - UDTF"
   ]
  },
  {
   "cell_type": "code",
   "execution_count": 0,
   "metadata": {
    "application/vnd.databricks.v1+cell": {
     "cellMetadata": {
      "byteLimit": 2048000,
      "rowLimit": 10000
     },
     "inputWidgets": {},
     "nuid": "cb0decc9-9928-44d8-9046-8402cab97801",
     "showTitle": false,
     "tableResultSettingsMap": {},
     "title": ""
    }
   },
   "outputs": [],
   "source": [
    "-- google: UDTF unity catalog\n",
    "\n",
    "CREATE OR REPLACE FUNCTION sparksql_cata.sparksql_schema.discount_price(p_category STRING)\n",
    "RETURNS TABLE\n",
    "LANGUAGE SQL\n",
    "RETURN\n",
    "(SELECT * FROM sparksql_cata.sparksql_schema.orders_ext WHERE product_category = p_category)"
   ]
  },
  {
   "cell_type": "code",
   "execution_count": 0,
   "metadata": {
    "application/vnd.databricks.v1+cell": {
     "cellMetadata": {
      "byteLimit": 2048000,
      "rowLimit": 10000
     },
     "inputWidgets": {},
     "nuid": "fae9d6f6-0944-4cdb-bc20-f7157948be5c",
     "showTitle": false,
     "tableResultSettingsMap": {},
     "title": ""
    }
   },
   "outputs": [
    {
     "output_type": "display_data",
     "data": {
      "text/html": [
       "<style scoped>\n",
       "  .table-result-container {\n",
       "    max-height: 300px;\n",
       "    overflow: auto;\n",
       "  }\n",
       "  table, th, td {\n",
       "    border: 1px solid black;\n",
       "    border-collapse: collapse;\n",
       "  }\n",
       "  th, td {\n",
       "    padding: 5px;\n",
       "  }\n",
       "  th {\n",
       "    text-align: left;\n",
       "  }\n",
       "</style><div class='table-result-container'><table class='table-result'><thead style='background-color: white'><tr><th>order_id</th><th>user_id</th><th>order_date</th><th>product_id</th><th>product_category</th><th>product_name</th><th>quantity</th><th>price_per_unit</th><th>payment_method</th><th>order_status</th></tr></thead><tbody><tr><td>1005</td><td>U003</td><td>2025-04-19</td><td>P988</td><td>Home Decor</td><td>Photo Frame</td><td>2</td><td>78.61</td><td>PayPal</td><td>Returned</td></tr><tr><td>1007</td><td>U129</td><td>2025-04-23</td><td>P786</td><td>Home Decor</td><td>Wall Clock</td><td>5</td><td>12.71</td><td>Credit Card</td><td>Returned</td></tr><tr><td>1008</td><td>U102</td><td>2025-04-15</td><td>P101</td><td>Home Decor</td><td>Photo Frame</td><td>1</td><td>46.6</td><td>Debit Card</td><td>Cancelled</td></tr><tr><td>1034</td><td>U016</td><td>2025-04-23</td><td>P948</td><td>Home Decor</td><td>Wall Clock</td><td>3</td><td>54.5</td><td>UPI</td><td>Returned</td></tr><tr><td>1035</td><td>U150</td><td>2025-04-10</td><td>P242</td><td>Home Decor</td><td>Cushion Cover</td><td>2</td><td>34.04</td><td>Credit Card</td><td>Cancelled</td></tr><tr><td>1036</td><td>U171</td><td>2025-05-02</td><td>P585</td><td>Home Decor</td><td>Cushion Cover</td><td>2</td><td>17.22</td><td>Credit Card</td><td>Processing</td></tr><tr><td>1040</td><td>U172</td><td>2025-04-08</td><td>P644</td><td>Home Decor</td><td>Wall Art</td><td>2</td><td>97.17</td><td>Debit Card</td><td>Processing</td></tr><tr><td>1051</td><td>U049</td><td>2025-04-25</td><td>P219</td><td>Home Decor</td><td>Wall Art</td><td>3</td><td>78.9</td><td>UPI</td><td>Processing</td></tr><tr><td>1058</td><td>U090</td><td>2025-04-16</td><td>P250</td><td>Home Decor</td><td>Wall Clock</td><td>5</td><td>72.65</td><td>UPI</td><td>Cancelled</td></tr><tr><td>1061</td><td>U069</td><td>2025-04-06</td><td>P463</td><td>Home Decor</td><td>Wall Clock</td><td>1</td><td>96.35</td><td>PayPal</td><td>Delivered</td></tr><tr><td>1063</td><td>U187</td><td>2025-05-03</td><td>P772</td><td>Home Decor</td><td>Wall Art</td><td>2</td><td>46.91</td><td>Debit Card</td><td>Processing</td></tr><tr><td>1064</td><td>U152</td><td>2025-04-28</td><td>P133</td><td>Home Decor</td><td>Wall Clock</td><td>3</td><td>56.43</td><td>UPI</td><td>Processing</td></tr><tr><td>1066</td><td>U128</td><td>2025-04-15</td><td>P639</td><td>Home Decor</td><td>Cushion Cover</td><td>4</td><td>20.13</td><td>Credit Card</td><td>Delivered</td></tr><tr><td>1076</td><td>U141</td><td>2025-04-13</td><td>P898</td><td>Home Decor</td><td>Lamp</td><td>3</td><td>41.6</td><td>UPI</td><td>Processing</td></tr><tr><td>1082</td><td>U044</td><td>2025-04-21</td><td>P295</td><td>Home Decor</td><td>Wall Clock</td><td>1</td><td>88.48</td><td>Credit Card</td><td>Delivered</td></tr><tr><td>1083</td><td>U200</td><td>2025-04-26</td><td>P383</td><td>Home Decor</td><td>Wall Art</td><td>2</td><td>38.91</td><td>UPI</td><td>Cancelled</td></tr><tr><td>1084</td><td>U006</td><td>2025-04-10</td><td>P188</td><td>Home Decor</td><td>Cushion Cover</td><td>3</td><td>91.28</td><td>Credit Card</td><td>Processing</td></tr><tr><td>1087</td><td>U138</td><td>2025-04-20</td><td>P576</td><td>Home Decor</td><td>Wall Art</td><td>4</td><td>97.87</td><td>Debit Card</td><td>Processing</td></tr><tr><td>1091</td><td>U044</td><td>2025-05-03</td><td>P350</td><td>Home Decor</td><td>Lamp</td><td>5</td><td>71.38</td><td>PayPal</td><td>Returned</td></tr><tr><td>1099</td><td>U093</td><td>2025-05-03</td><td>P642</td><td>Home Decor</td><td>Wall Clock</td><td>2</td><td>79.81</td><td>PayPal</td><td>Cancelled</td></tr><tr><td>1103</td><td>U193</td><td>2025-04-29</td><td>P131</td><td>Home Decor</td><td>Wall Clock</td><td>3</td><td>57.7</td><td>PayPal</td><td>Returned</td></tr><tr><td>1127</td><td>U183</td><td>2025-04-09</td><td>P549</td><td>Home Decor</td><td>Photo Frame</td><td>4</td><td>33.58</td><td>Credit Card</td><td>Returned</td></tr><tr><td>1137</td><td>U021</td><td>2025-04-10</td><td>P543</td><td>Home Decor</td><td>Lamp</td><td>4</td><td>53.3</td><td>UPI</td><td>Cancelled</td></tr><tr><td>1146</td><td>U179</td><td>2025-04-09</td><td>P390</td><td>Home Decor</td><td>Wall Clock</td><td>2</td><td>91.94</td><td>UPI</td><td>Processing</td></tr><tr><td>1151</td><td>U173</td><td>2025-04-06</td><td>P263</td><td>Home Decor</td><td>Wall Art</td><td>1</td><td>41.02</td><td>UPI</td><td>Delivered</td></tr><tr><td>1159</td><td>U010</td><td>2025-04-21</td><td>P478</td><td>Home Decor</td><td>Photo Frame</td><td>3</td><td>84.34</td><td>UPI</td><td>Delivered</td></tr><tr><td>1160</td><td>U136</td><td>2025-04-29</td><td>P355</td><td>Home Decor</td><td>Wall Art</td><td>4</td><td>74.83</td><td>Debit Card</td><td>Delivered</td></tr><tr><td>1161</td><td>U046</td><td>2025-04-18</td><td>P197</td><td>Home Decor</td><td>Wall Clock</td><td>4</td><td>40.77</td><td>UPI</td><td>Cancelled</td></tr><tr><td>1170</td><td>U063</td><td>2025-04-22</td><td>P766</td><td>Home Decor</td><td>Cushion Cover</td><td>5</td><td>76.79</td><td>Credit Card</td><td>Cancelled</td></tr><tr><td>1172</td><td>U101</td><td>2025-05-03</td><td>P898</td><td>Home Decor</td><td>Wall Art</td><td>4</td><td>99.11</td><td>UPI</td><td>Cancelled</td></tr><tr><td>1173</td><td>U085</td><td>2025-04-25</td><td>P563</td><td>Home Decor</td><td>Photo Frame</td><td>2</td><td>69.86</td><td>Debit Card</td><td>Processing</td></tr><tr><td>1180</td><td>U117</td><td>2025-04-19</td><td>P264</td><td>Home Decor</td><td>Cushion Cover</td><td>5</td><td>83.12</td><td>PayPal</td><td>Processing</td></tr><tr><td>1183</td><td>U087</td><td>2025-04-30</td><td>P853</td><td>Home Decor</td><td>Cushion Cover</td><td>2</td><td>74.63</td><td>PayPal</td><td>Returned</td></tr><tr><td>1192</td><td>U135</td><td>2025-04-24</td><td>P387</td><td>Home Decor</td><td>Photo Frame</td><td>2</td><td>47.02</td><td>PayPal</td><td>Returned</td></tr><tr><td>1196</td><td>U059</td><td>2025-04-12</td><td>P155</td><td>Home Decor</td><td>Wall Art</td><td>5</td><td>60.18</td><td>PayPal</td><td>Cancelled</td></tr><tr><td>1206</td><td>U164</td><td>2025-04-23</td><td>P798</td><td>Home Decor</td><td>Wall Art</td><td>5</td><td>28.92</td><td>PayPal</td><td>Returned</td></tr><tr><td>1214</td><td>U099</td><td>2025-04-22</td><td>P750</td><td>Home Decor</td><td>Photo Frame</td><td>3</td><td>63.61</td><td>Debit Card</td><td>Returned</td></tr><tr><td>1215</td><td>U178</td><td>2025-04-19</td><td>P389</td><td>Home Decor</td><td>Photo Frame</td><td>3</td><td>87.01</td><td>UPI</td><td>Returned</td></tr><tr><td>1227</td><td>U150</td><td>2025-04-08</td><td>P600</td><td>Home Decor</td><td>Wall Clock</td><td>4</td><td>84.14</td><td>PayPal</td><td>Delivered</td></tr><tr><td>1232</td><td>U185</td><td>2025-04-21</td><td>P321</td><td>Home Decor</td><td>Wall Clock</td><td>3</td><td>41.56</td><td>PayPal</td><td>Delivered</td></tr><tr><td>1235</td><td>U066</td><td>2025-04-26</td><td>P462</td><td>Home Decor</td><td>Photo Frame</td><td>1</td><td>41.37</td><td>UPI</td><td>Delivered</td></tr><tr><td>1238</td><td>U028</td><td>2025-04-24</td><td>P234</td><td>Home Decor</td><td>Wall Art</td><td>2</td><td>55.22</td><td>Debit Card</td><td>Processing</td></tr><tr><td>1244</td><td>U078</td><td>2025-05-02</td><td>P103</td><td>Home Decor</td><td>Lamp</td><td>5</td><td>56.06</td><td>PayPal</td><td>Processing</td></tr><tr><td>1254</td><td>U174</td><td>2025-04-23</td><td>P293</td><td>Home Decor</td><td>Photo Frame</td><td>4</td><td>69.34</td><td>Debit Card</td><td>Cancelled</td></tr><tr><td>1260</td><td>U010</td><td>2025-05-01</td><td>P470</td><td>Home Decor</td><td>Cushion Cover</td><td>1</td><td>76.22</td><td>Debit Card</td><td>Processing</td></tr><tr><td>1274</td><td>U185</td><td>2025-04-16</td><td>P297</td><td>Home Decor</td><td>Wall Clock</td><td>5</td><td>96.42</td><td>PayPal</td><td>Cancelled</td></tr><tr><td>1278</td><td>U180</td><td>2025-04-16</td><td>P193</td><td>Home Decor</td><td>Cushion Cover</td><td>4</td><td>81.46</td><td>Debit Card</td><td>Delivered</td></tr><tr><td>1283</td><td>U174</td><td>2025-04-21</td><td>P592</td><td>Home Decor</td><td>Wall Clock</td><td>4</td><td>20.15</td><td>PayPal</td><td>Delivered</td></tr><tr><td>1285</td><td>U005</td><td>2025-04-19</td><td>P614</td><td>Home Decor</td><td>Cushion Cover</td><td>4</td><td>67.34</td><td>Credit Card</td><td>Returned</td></tr><tr><td>1291</td><td>U164</td><td>2025-04-14</td><td>P126</td><td>Home Decor</td><td>Lamp</td><td>4</td><td>37.39</td><td>PayPal</td><td>Returned</td></tr><tr><td>1308</td><td>U019</td><td>2025-04-15</td><td>P839</td><td>Home Decor</td><td>Wall Clock</td><td>3</td><td>85.61</td><td>PayPal</td><td>Cancelled</td></tr><tr><td>1313</td><td>U128</td><td>2025-04-19</td><td>P905</td><td>Home Decor</td><td>Cushion Cover</td><td>3</td><td>95.41</td><td>PayPal</td><td>Delivered</td></tr><tr><td>1315</td><td>U142</td><td>2025-04-12</td><td>P867</td><td>Home Decor</td><td>Wall Art</td><td>4</td><td>91.45</td><td>Credit Card</td><td>Delivered</td></tr><tr><td>1321</td><td>U091</td><td>2025-05-03</td><td>P416</td><td>Home Decor</td><td>Wall Art</td><td>4</td><td>11.29</td><td>UPI</td><td>Cancelled</td></tr><tr><td>1326</td><td>U048</td><td>2025-05-03</td><td>P197</td><td>Home Decor</td><td>Cushion Cover</td><td>3</td><td>87.71</td><td>Credit Card</td><td>Delivered</td></tr><tr><td>1327</td><td>U048</td><td>2025-04-20</td><td>P577</td><td>Home Decor</td><td>Photo Frame</td><td>1</td><td>99.43</td><td>UPI</td><td>Cancelled</td></tr><tr><td>1335</td><td>U143</td><td>2025-04-22</td><td>P749</td><td>Home Decor</td><td>Photo Frame</td><td>5</td><td>76.81</td><td>PayPal</td><td>Cancelled</td></tr><tr><td>1340</td><td>U002</td><td>2025-04-18</td><td>P370</td><td>Home Decor</td><td>Photo Frame</td><td>2</td><td>32.68</td><td>UPI</td><td>Cancelled</td></tr><tr><td>1352</td><td>U072</td><td>2025-04-15</td><td>P531</td><td>Home Decor</td><td>Wall Clock</td><td>1</td><td>76.26</td><td>PayPal</td><td>Cancelled</td></tr><tr><td>1356</td><td>U038</td><td>2025-04-20</td><td>P392</td><td>Home Decor</td><td>Wall Art</td><td>5</td><td>11.81</td><td>PayPal</td><td>Processing</td></tr><tr><td>1358</td><td>U115</td><td>2025-04-19</td><td>P608</td><td>Home Decor</td><td>Wall Art</td><td>5</td><td>15.18</td><td>UPI</td><td>Delivered</td></tr><tr><td>1363</td><td>U177</td><td>2025-04-23</td><td>P580</td><td>Home Decor</td><td>Lamp</td><td>2</td><td>81.51</td><td>Credit Card</td><td>Returned</td></tr><tr><td>1365</td><td>U138</td><td>2025-05-03</td><td>P286</td><td>Home Decor</td><td>Wall Clock</td><td>2</td><td>58.32</td><td>Credit Card</td><td>Processing</td></tr><tr><td>1386</td><td>U148</td><td>2025-04-10</td><td>P257</td><td>Home Decor</td><td>Wall Clock</td><td>4</td><td>61.21</td><td>PayPal</td><td>Processing</td></tr><tr><td>1388</td><td>U180</td><td>2025-04-19</td><td>P632</td><td>Home Decor</td><td>Lamp</td><td>4</td><td>70.81</td><td>Debit Card</td><td>Returned</td></tr><tr><td>1394</td><td>U026</td><td>2025-04-10</td><td>P479</td><td>Home Decor</td><td>Lamp</td><td>3</td><td>98.63</td><td>Debit Card</td><td>Cancelled</td></tr><tr><td>1395</td><td>U066</td><td>2025-04-05</td><td>P959</td><td>Home Decor</td><td>Wall Clock</td><td>1</td><td>94.42</td><td>UPI</td><td>Delivered</td></tr><tr><td>1396</td><td>U004</td><td>2025-04-27</td><td>P118</td><td>Home Decor</td><td>Cushion Cover</td><td>5</td><td>85.49</td><td>Credit Card</td><td>Cancelled</td></tr><tr><td>1401</td><td>U050</td><td>2025-04-10</td><td>P301</td><td>Home Decor</td><td>Photo Frame</td><td>5</td><td>98.92</td><td>Debit Card</td><td>Returned</td></tr><tr><td>1403</td><td>U180</td><td>2025-04-16</td><td>P806</td><td>Home Decor</td><td>Wall Art</td><td>5</td><td>39.46</td><td>Debit Card</td><td>Cancelled</td></tr><tr><td>1404</td><td>U027</td><td>2025-05-01</td><td>P354</td><td>Home Decor</td><td>Wall Art</td><td>4</td><td>61.62</td><td>PayPal</td><td>Cancelled</td></tr><tr><td>1411</td><td>U009</td><td>2025-04-15</td><td>P737</td><td>Home Decor</td><td>Lamp</td><td>4</td><td>51.77</td><td>Debit Card</td><td>Cancelled</td></tr><tr><td>1421</td><td>U152</td><td>2025-04-26</td><td>P480</td><td>Home Decor</td><td>Lamp</td><td>5</td><td>62.79</td><td>Credit Card</td><td>Returned</td></tr><tr><td>1450</td><td>U093</td><td>2025-04-15</td><td>P770</td><td>Home Decor</td><td>Lamp</td><td>4</td><td>91.38</td><td>UPI</td><td>Returned</td></tr><tr><td>1452</td><td>U127</td><td>2025-04-14</td><td>P126</td><td>Home Decor</td><td>Cushion Cover</td><td>5</td><td>20.72</td><td>Debit Card</td><td>Delivered</td></tr><tr><td>1458</td><td>U043</td><td>2025-04-11</td><td>P731</td><td>Home Decor</td><td>Photo Frame</td><td>4</td><td>97.98</td><td>PayPal</td><td>Delivered</td></tr><tr><td>1462</td><td>U092</td><td>2025-04-27</td><td>P707</td><td>Home Decor</td><td>Photo Frame</td><td>4</td><td>64.23</td><td>UPI</td><td>Delivered</td></tr><tr><td>1471</td><td>U046</td><td>2025-04-18</td><td>P487</td><td>Home Decor</td><td>Photo Frame</td><td>4</td><td>64.9</td><td>PayPal</td><td>Cancelled</td></tr><tr><td>1474</td><td>U049</td><td>2025-04-11</td><td>P497</td><td>Home Decor</td><td>Wall Clock</td><td>4</td><td>53.95</td><td>PayPal</td><td>Processing</td></tr><tr><td>1475</td><td>U161</td><td>2025-04-26</td><td>P609</td><td>Home Decor</td><td>Photo Frame</td><td>4</td><td>44.65</td><td>PayPal</td><td>Returned</td></tr><tr><td>1478</td><td>U154</td><td>2025-04-17</td><td>P841</td><td>Home Decor</td><td>Cushion Cover</td><td>3</td><td>43.15</td><td>PayPal</td><td>Processing</td></tr><tr><td>1479</td><td>U155</td><td>2025-04-05</td><td>P584</td><td>Home Decor</td><td>Wall Art</td><td>4</td><td>62.21</td><td>Debit Card</td><td>Delivered</td></tr><tr><td>1488</td><td>U199</td><td>2025-04-11</td><td>P491</td><td>Home Decor</td><td>Cushion Cover</td><td>3</td><td>67.39</td><td>Debit Card</td><td>Returned</td></tr><tr><td>1489</td><td>U018</td><td>2025-04-14</td><td>P529</td><td>Home Decor</td><td>Wall Clock</td><td>4</td><td>73.18</td><td>Credit Card</td><td>Delivered</td></tr><tr><td>1495</td><td>U046</td><td>2025-04-06</td><td>P198</td><td>Home Decor</td><td>Wall Art</td><td>3</td><td>40.25</td><td>UPI</td><td>Delivered</td></tr><tr><td>1496</td><td>U017</td><td>2025-04-22</td><td>P564</td><td>Home Decor</td><td>Cushion Cover</td><td>5</td><td>74.03</td><td>Credit Card</td><td>Processing</td></tr><tr><td>1500</td><td>U014</td><td>2025-04-18</td><td>P122</td><td>Home Decor</td><td>Cushion Cover</td><td>5</td><td>51.2</td><td>PayPal</td><td>Processing</td></tr><tr><td>1504</td><td>U024</td><td>2025-04-06</td><td>P380</td><td>Home Decor</td><td>Photo Frame</td><td>3</td><td>41.89</td><td>PayPal</td><td>Returned</td></tr><tr><td>1508</td><td>U196</td><td>2025-04-12</td><td>P265</td><td>Home Decor</td><td>Wall Clock</td><td>4</td><td>75.66</td><td>PayPal</td><td>Returned</td></tr><tr><td>1518</td><td>U069</td><td>2025-04-21</td><td>P790</td><td>Home Decor</td><td>Wall Clock</td><td>4</td><td>76.74</td><td>Credit Card</td><td>Cancelled</td></tr><tr><td>1524</td><td>U194</td><td>2025-04-04</td><td>P493</td><td>Home Decor</td><td>Photo Frame</td><td>1</td><td>46.99</td><td>Credit Card</td><td>Returned</td></tr><tr><td>1540</td><td>U007</td><td>2025-04-22</td><td>P376</td><td>Home Decor</td><td>Lamp</td><td>5</td><td>13.67</td><td>Debit Card</td><td>Processing</td></tr><tr><td>1548</td><td>U146</td><td>2025-04-06</td><td>P840</td><td>Home Decor</td><td>Cushion Cover</td><td>4</td><td>44.37</td><td>UPI</td><td>Cancelled</td></tr><tr><td>1560</td><td>U115</td><td>2025-04-06</td><td>P859</td><td>Home Decor</td><td>Wall Clock</td><td>3</td><td>31.24</td><td>Credit Card</td><td>Cancelled</td></tr><tr><td>1564</td><td>U140</td><td>2025-04-08</td><td>P616</td><td>Home Decor</td><td>Photo Frame</td><td>4</td><td>36.02</td><td>Credit Card</td><td>Delivered</td></tr><tr><td>1575</td><td>U104</td><td>2025-04-27</td><td>P880</td><td>Home Decor</td><td>Photo Frame</td><td>5</td><td>96.57</td><td>PayPal</td><td>Cancelled</td></tr><tr><td>1576</td><td>U192</td><td>2025-04-21</td><td>P536</td><td>Home Decor</td><td>Lamp</td><td>3</td><td>60.21</td><td>Debit Card</td><td>Cancelled</td></tr><tr><td>1582</td><td>U072</td><td>2025-04-10</td><td>P424</td><td>Home Decor</td><td>Wall Clock</td><td>2</td><td>65.05</td><td>PayPal</td><td>Processing</td></tr><tr><td>1583</td><td>U090</td><td>2025-04-24</td><td>P271</td><td>Home Decor</td><td>Wall Clock</td><td>4</td><td>44.79</td><td>Debit Card</td><td>Returned</td></tr><tr><td>1587</td><td>U022</td><td>2025-05-02</td><td>P587</td><td>Home Decor</td><td>Wall Clock</td><td>1</td><td>97.7</td><td>UPI</td><td>Processing</td></tr><tr><td>1592</td><td>U101</td><td>2025-05-02</td><td>P464</td><td>Home Decor</td><td>Wall Art</td><td>5</td><td>11.57</td><td>Credit Card</td><td>Delivered</td></tr><tr><td>1594</td><td>U088</td><td>2025-04-29</td><td>P364</td><td>Home Decor</td><td>Cushion Cover</td><td>3</td><td>41.54</td><td>UPI</td><td>Delivered</td></tr><tr><td>1597</td><td>U060</td><td>2025-04-14</td><td>P598</td><td>Home Decor</td><td>Wall Art</td><td>5</td><td>73.45</td><td>UPI</td><td>Returned</td></tr><tr><td>1600</td><td>U125</td><td>2025-05-01</td><td>P999</td><td>Home Decor</td><td>Wall Art</td><td>4</td><td>30.98</td><td>Credit Card</td><td>Delivered</td></tr><tr><td>1604</td><td>U189</td><td>2025-04-05</td><td>P134</td><td>Home Decor</td><td>Wall Art</td><td>1</td><td>22.33</td><td>PayPal</td><td>Delivered</td></tr><tr><td>1607</td><td>U060</td><td>2025-04-05</td><td>P786</td><td>Home Decor</td><td>Wall Art</td><td>5</td><td>70.26</td><td>Debit Card</td><td>Cancelled</td></tr><tr><td>1615</td><td>U061</td><td>2025-04-30</td><td>P202</td><td>Home Decor</td><td>Wall Art</td><td>2</td><td>85.6</td><td>Credit Card</td><td>Delivered</td></tr><tr><td>1623</td><td>U191</td><td>2025-04-16</td><td>P789</td><td>Home Decor</td><td>Cushion Cover</td><td>2</td><td>42.89</td><td>PayPal</td><td>Cancelled</td></tr><tr><td>1626</td><td>U172</td><td>2025-04-07</td><td>P687</td><td>Home Decor</td><td>Wall Art</td><td>2</td><td>22.15</td><td>Credit Card</td><td>Delivered</td></tr><tr><td>1634</td><td>U085</td><td>2025-04-06</td><td>P596</td><td>Home Decor</td><td>Cushion Cover</td><td>1</td><td>35.5</td><td>PayPal</td><td>Processing</td></tr><tr><td>1635</td><td>U111</td><td>2025-04-19</td><td>P393</td><td>Home Decor</td><td>Cushion Cover</td><td>5</td><td>15.64</td><td>Credit Card</td><td>Delivered</td></tr><tr><td>1640</td><td>U033</td><td>2025-04-10</td><td>P632</td><td>Home Decor</td><td>Photo Frame</td><td>3</td><td>53.18</td><td>PayPal</td><td>Returned</td></tr><tr><td>1649</td><td>U115</td><td>2025-04-27</td><td>P895</td><td>Home Decor</td><td>Wall Art</td><td>2</td><td>99.5</td><td>Debit Card</td><td>Returned</td></tr><tr><td>1651</td><td>U194</td><td>2025-04-25</td><td>P914</td><td>Home Decor</td><td>Wall Art</td><td>2</td><td>70.66</td><td>Debit Card</td><td>Returned</td></tr><tr><td>1655</td><td>U060</td><td>2025-04-24</td><td>P123</td><td>Home Decor</td><td>Wall Clock</td><td>4</td><td>49.74</td><td>UPI</td><td>Cancelled</td></tr><tr><td>1659</td><td>U067</td><td>2025-04-16</td><td>P992</td><td>Home Decor</td><td>Wall Clock</td><td>4</td><td>29.74</td><td>UPI</td><td>Processing</td></tr><tr><td>1664</td><td>U121</td><td>2025-04-11</td><td>P736</td><td>Home Decor</td><td>Wall Art</td><td>3</td><td>30.3</td><td>PayPal</td><td>Delivered</td></tr><tr><td>1674</td><td>U188</td><td>2025-05-02</td><td>P907</td><td>Home Decor</td><td>Cushion Cover</td><td>1</td><td>27.48</td><td>UPI</td><td>Processing</td></tr><tr><td>1675</td><td>U023</td><td>2025-04-26</td><td>P739</td><td>Home Decor</td><td>Wall Clock</td><td>3</td><td>68.98</td><td>Credit Card</td><td>Delivered</td></tr><tr><td>1677</td><td>U078</td><td>2025-04-30</td><td>P252</td><td>Home Decor</td><td>Cushion Cover</td><td>2</td><td>66.44</td><td>PayPal</td><td>Cancelled</td></tr><tr><td>1680</td><td>U125</td><td>2025-04-22</td><td>P699</td><td>Home Decor</td><td>Lamp</td><td>2</td><td>88.06</td><td>Credit Card</td><td>Processing</td></tr><tr><td>1682</td><td>U166</td><td>2025-04-27</td><td>P103</td><td>Home Decor</td><td>Wall Art</td><td>2</td><td>10.63</td><td>Credit Card</td><td>Returned</td></tr><tr><td>1683</td><td>U069</td><td>2025-04-26</td><td>P944</td><td>Home Decor</td><td>Lamp</td><td>1</td><td>47.05</td><td>Debit Card</td><td>Processing</td></tr><tr><td>1688</td><td>U124</td><td>2025-04-15</td><td>P973</td><td>Home Decor</td><td>Wall Clock</td><td>3</td><td>42.12</td><td>Debit Card</td><td>Delivered</td></tr><tr><td>1699</td><td>U152</td><td>2025-04-21</td><td>P136</td><td>Home Decor</td><td>Wall Clock</td><td>2</td><td>74.81</td><td>PayPal</td><td>Processing</td></tr><tr><td>1710</td><td>U159</td><td>2025-04-04</td><td>P272</td><td>Home Decor</td><td>Lamp</td><td>5</td><td>83.43</td><td>UPI</td><td>Delivered</td></tr><tr><td>1711</td><td>U003</td><td>2025-04-29</td><td>P628</td><td>Home Decor</td><td>Lamp</td><td>4</td><td>76.85</td><td>Debit Card</td><td>Cancelled</td></tr><tr><td>1713</td><td>U161</td><td>2025-04-18</td><td>P263</td><td>Home Decor</td><td>Wall Art</td><td>3</td><td>38.77</td><td>Debit Card</td><td>Delivered</td></tr><tr><td>1714</td><td>U115</td><td>2025-04-05</td><td>P501</td><td>Home Decor</td><td>Wall Clock</td><td>5</td><td>14.84</td><td>UPI</td><td>Returned</td></tr><tr><td>1731</td><td>U164</td><td>2025-04-23</td><td>P994</td><td>Home Decor</td><td>Lamp</td><td>1</td><td>59.5</td><td>UPI</td><td>Returned</td></tr><tr><td>1733</td><td>U156</td><td>2025-04-05</td><td>P467</td><td>Home Decor</td><td>Cushion Cover</td><td>5</td><td>41.07</td><td>PayPal</td><td>Delivered</td></tr><tr><td>1735</td><td>U163</td><td>2025-04-30</td><td>P870</td><td>Home Decor</td><td>Wall Clock</td><td>1</td><td>74.3</td><td>Credit Card</td><td>Returned</td></tr><tr><td>1742</td><td>U155</td><td>2025-04-30</td><td>P239</td><td>Home Decor</td><td>Cushion Cover</td><td>3</td><td>71.24</td><td>UPI</td><td>Cancelled</td></tr><tr><td>1748</td><td>U197</td><td>2025-04-04</td><td>P709</td><td>Home Decor</td><td>Cushion Cover</td><td>5</td><td>81.26</td><td>Debit Card</td><td>Processing</td></tr><tr><td>1749</td><td>U083</td><td>2025-04-18</td><td>P144</td><td>Home Decor</td><td>Cushion Cover</td><td>1</td><td>95.31</td><td>Credit Card</td><td>Cancelled</td></tr><tr><td>1751</td><td>U116</td><td>2025-04-11</td><td>P410</td><td>Home Decor</td><td>Wall Clock</td><td>1</td><td>54.04</td><td>Debit Card</td><td>Cancelled</td></tr><tr><td>1753</td><td>U098</td><td>2025-05-01</td><td>P717</td><td>Home Decor</td><td>Lamp</td><td>3</td><td>84.58</td><td>PayPal</td><td>Cancelled</td></tr><tr><td>1757</td><td>U141</td><td>2025-04-05</td><td>P440</td><td>Home Decor</td><td>Wall Clock</td><td>4</td><td>65.5</td><td>PayPal</td><td>Cancelled</td></tr><tr><td>1761</td><td>U169</td><td>2025-04-28</td><td>P621</td><td>Home Decor</td><td>Wall Art</td><td>5</td><td>99.4</td><td>PayPal</td><td>Delivered</td></tr><tr><td>1768</td><td>U100</td><td>2025-05-02</td><td>P880</td><td>Home Decor</td><td>Wall Clock</td><td>5</td><td>72.35</td><td>Credit Card</td><td>Cancelled</td></tr><tr><td>1769</td><td>U168</td><td>2025-04-14</td><td>P811</td><td>Home Decor</td><td>Cushion Cover</td><td>3</td><td>50.71</td><td>UPI</td><td>Returned</td></tr><tr><td>1773</td><td>U112</td><td>2025-04-27</td><td>P600</td><td>Home Decor</td><td>Cushion Cover</td><td>4</td><td>94.11</td><td>Debit Card</td><td>Delivered</td></tr><tr><td>1775</td><td>U002</td><td>2025-04-10</td><td>P318</td><td>Home Decor</td><td>Wall Art</td><td>3</td><td>76.14</td><td>UPI</td><td>Returned</td></tr><tr><td>1776</td><td>U194</td><td>2025-04-11</td><td>P939</td><td>Home Decor</td><td>Cushion Cover</td><td>5</td><td>31.23</td><td>Credit Card</td><td>Returned</td></tr><tr><td>1796</td><td>U165</td><td>2025-04-29</td><td>P874</td><td>Home Decor</td><td>Photo Frame</td><td>1</td><td>30.15</td><td>UPI</td><td>Processing</td></tr><tr><td>1797</td><td>U033</td><td>2025-04-20</td><td>P843</td><td>Home Decor</td><td>Photo Frame</td><td>4</td><td>99.39</td><td>Debit Card</td><td>Processing</td></tr><tr><td>1801</td><td>U194</td><td>2025-04-23</td><td>P274</td><td>Home Decor</td><td>Lamp</td><td>1</td><td>90.71</td><td>Debit Card</td><td>Processing</td></tr><tr><td>1805</td><td>U181</td><td>2025-04-07</td><td>P908</td><td>Home Decor</td><td>Cushion Cover</td><td>5</td><td>33.49</td><td>Credit Card</td><td>Cancelled</td></tr><tr><td>1814</td><td>U017</td><td>2025-04-25</td><td>P951</td><td>Home Decor</td><td>Lamp</td><td>3</td><td>83.68</td><td>PayPal</td><td>Returned</td></tr><tr><td>1818</td><td>U087</td><td>2025-04-06</td><td>P921</td><td>Home Decor</td><td>Wall Clock</td><td>5</td><td>52.91</td><td>PayPal</td><td>Delivered</td></tr><tr><td>1824</td><td>U169</td><td>2025-04-05</td><td>P893</td><td>Home Decor</td><td>Lamp</td><td>3</td><td>85.78</td><td>UPI</td><td>Delivered</td></tr><tr><td>1825</td><td>U047</td><td>2025-04-13</td><td>P727</td><td>Home Decor</td><td>Photo Frame</td><td>1</td><td>31.86</td><td>Debit Card</td><td>Delivered</td></tr><tr><td>1829</td><td>U145</td><td>2025-04-26</td><td>P648</td><td>Home Decor</td><td>Cushion Cover</td><td>3</td><td>92.24</td><td>Debit Card</td><td>Cancelled</td></tr><tr><td>1831</td><td>U021</td><td>2025-04-22</td><td>P586</td><td>Home Decor</td><td>Wall Clock</td><td>1</td><td>95.48</td><td>Credit Card</td><td>Delivered</td></tr><tr><td>1832</td><td>U010</td><td>2025-04-09</td><td>P842</td><td>Home Decor</td><td>Cushion Cover</td><td>3</td><td>42.79</td><td>UPI</td><td>Processing</td></tr><tr><td>1837</td><td>U072</td><td>2025-04-09</td><td>P869</td><td>Home Decor</td><td>Wall Clock</td><td>1</td><td>65.12</td><td>Debit Card</td><td>Delivered</td></tr><tr><td>1838</td><td>U117</td><td>2025-05-02</td><td>P446</td><td>Home Decor</td><td>Cushion Cover</td><td>4</td><td>79.73</td><td>Credit Card</td><td>Returned</td></tr><tr><td>1839</td><td>U081</td><td>2025-04-05</td><td>P915</td><td>Home Decor</td><td>Cushion Cover</td><td>1</td><td>19.06</td><td>UPI</td><td>Returned</td></tr><tr><td>1841</td><td>U075</td><td>2025-04-13</td><td>P585</td><td>Home Decor</td><td>Photo Frame</td><td>2</td><td>58.98</td><td>Credit Card</td><td>Delivered</td></tr><tr><td>1845</td><td>U179</td><td>2025-04-21</td><td>P511</td><td>Home Decor</td><td>Photo Frame</td><td>3</td><td>92.89</td><td>Debit Card</td><td>Cancelled</td></tr><tr><td>1848</td><td>U132</td><td>2025-04-18</td><td>P800</td><td>Home Decor</td><td>Wall Clock</td><td>1</td><td>51.35</td><td>Debit Card</td><td>Cancelled</td></tr><tr><td>1851</td><td>U063</td><td>2025-04-25</td><td>P601</td><td>Home Decor</td><td>Wall Art</td><td>4</td><td>41.61</td><td>Credit Card</td><td>Processing</td></tr><tr><td>1852</td><td>U024</td><td>2025-04-17</td><td>P233</td><td>Home Decor</td><td>Wall Art</td><td>5</td><td>13.7</td><td>UPI</td><td>Cancelled</td></tr><tr><td>1853</td><td>U112</td><td>2025-04-29</td><td>P707</td><td>Home Decor</td><td>Photo Frame</td><td>4</td><td>64.14</td><td>UPI</td><td>Cancelled</td></tr><tr><td>1860</td><td>U027</td><td>2025-04-22</td><td>P179</td><td>Home Decor</td><td>Photo Frame</td><td>1</td><td>26.78</td><td>Debit Card</td><td>Returned</td></tr><tr><td>1864</td><td>U081</td><td>2025-04-24</td><td>P918</td><td>Home Decor</td><td>Wall Art</td><td>1</td><td>58.25</td><td>UPI</td><td>Processing</td></tr><tr><td>1877</td><td>U010</td><td>2025-04-14</td><td>P626</td><td>Home Decor</td><td>Cushion Cover</td><td>3</td><td>17.91</td><td>Debit Card</td><td>Cancelled</td></tr><tr><td>1878</td><td>U119</td><td>2025-04-22</td><td>P830</td><td>Home Decor</td><td>Wall Clock</td><td>1</td><td>55.91</td><td>Credit Card</td><td>Delivered</td></tr><tr><td>1887</td><td>U032</td><td>2025-04-19</td><td>P176</td><td>Home Decor</td><td>Wall Art</td><td>1</td><td>33.45</td><td>PayPal</td><td>Delivered</td></tr><tr><td>1888</td><td>U181</td><td>2025-04-22</td><td>P679</td><td>Home Decor</td><td>Wall Clock</td><td>4</td><td>88.86</td><td>Debit Card</td><td>Cancelled</td></tr><tr><td>1894</td><td>U007</td><td>2025-04-23</td><td>P613</td><td>Home Decor</td><td>Cushion Cover</td><td>4</td><td>23.24</td><td>PayPal</td><td>Returned</td></tr><tr><td>1898</td><td>U027</td><td>2025-04-21</td><td>P916</td><td>Home Decor</td><td>Wall Clock</td><td>3</td><td>96.74</td><td>Debit Card</td><td>Processing</td></tr><tr><td>1900</td><td>U129</td><td>2025-04-04</td><td>P464</td><td>Home Decor</td><td>Photo Frame</td><td>1</td><td>25.7</td><td>PayPal</td><td>Delivered</td></tr><tr><td>1902</td><td>U144</td><td>2025-04-27</td><td>P315</td><td>Home Decor</td><td>Wall Art</td><td>4</td><td>13.15</td><td>Debit Card</td><td>Delivered</td></tr><tr><td>1907</td><td>U130</td><td>2025-04-16</td><td>P725</td><td>Home Decor</td><td>Wall Clock</td><td>4</td><td>46.26</td><td>PayPal</td><td>Delivered</td></tr><tr><td>1911</td><td>U047</td><td>2025-04-24</td><td>P655</td><td>Home Decor</td><td>Cushion Cover</td><td>2</td><td>24.55</td><td>Debit Card</td><td>Returned</td></tr><tr><td>1914</td><td>U133</td><td>2025-05-01</td><td>P993</td><td>Home Decor</td><td>Photo Frame</td><td>1</td><td>99.65</td><td>Credit Card</td><td>Processing</td></tr><tr><td>1918</td><td>U066</td><td>2025-04-05</td><td>P675</td><td>Home Decor</td><td>Wall Clock</td><td>2</td><td>78.59</td><td>Credit Card</td><td>Cancelled</td></tr><tr><td>1919</td><td>U075</td><td>2025-05-02</td><td>P730</td><td>Home Decor</td><td>Photo Frame</td><td>5</td><td>79.87</td><td>Debit Card</td><td>Returned</td></tr><tr><td>1923</td><td>U067</td><td>2025-04-19</td><td>P616</td><td>Home Decor</td><td>Wall Art</td><td>3</td><td>77.07</td><td>Debit Card</td><td>Cancelled</td></tr><tr><td>1925</td><td>U100</td><td>2025-04-11</td><td>P887</td><td>Home Decor</td><td>Wall Art</td><td>1</td><td>20.2</td><td>PayPal</td><td>Returned</td></tr><tr><td>1927</td><td>U051</td><td>2025-04-19</td><td>P705</td><td>Home Decor</td><td>Lamp</td><td>5</td><td>78.53</td><td>Debit Card</td><td>Processing</td></tr><tr><td>1929</td><td>U125</td><td>2025-04-07</td><td>P458</td><td>Home Decor</td><td>Photo Frame</td><td>5</td><td>29.19</td><td>PayPal</td><td>Returned</td></tr><tr><td>1942</td><td>U004</td><td>2025-04-10</td><td>P202</td><td>Home Decor</td><td>Wall Art</td><td>1</td><td>29.94</td><td>Debit Card</td><td>Returned</td></tr><tr><td>1943</td><td>U172</td><td>2025-04-30</td><td>P834</td><td>Home Decor</td><td>Cushion Cover</td><td>1</td><td>40.82</td><td>Credit Card</td><td>Processing</td></tr><tr><td>1950</td><td>U054</td><td>2025-04-06</td><td>P188</td><td>Home Decor</td><td>Wall Art</td><td>4</td><td>97.33</td><td>Credit Card</td><td>Processing</td></tr><tr><td>1953</td><td>U048</td><td>2025-05-02</td><td>P103</td><td>Home Decor</td><td>Cushion Cover</td><td>2</td><td>54.61</td><td>PayPal</td><td>Cancelled</td></tr><tr><td>1964</td><td>U143</td><td>2025-04-12</td><td>P838</td><td>Home Decor</td><td>Wall Art</td><td>4</td><td>62.59</td><td>PayPal</td><td>Returned</td></tr><tr><td>1968</td><td>U035</td><td>2025-04-14</td><td>P948</td><td>Home Decor</td><td>Wall Art</td><td>2</td><td>36.36</td><td>PayPal</td><td>Cancelled</td></tr><tr><td>1970</td><td>U167</td><td>2025-04-19</td><td>P700</td><td>Home Decor</td><td>Wall Art</td><td>4</td><td>21.86</td><td>UPI</td><td>Cancelled</td></tr><tr><td>1972</td><td>U044</td><td>2025-04-10</td><td>P406</td><td>Home Decor</td><td>Lamp</td><td>1</td><td>35.33</td><td>Debit Card</td><td>Returned</td></tr><tr><td>1979</td><td>U045</td><td>2025-04-21</td><td>P219</td><td>Home Decor</td><td>Wall Clock</td><td>1</td><td>37.77</td><td>PayPal</td><td>Cancelled</td></tr><tr><td>1980</td><td>U182</td><td>2025-04-28</td><td>P615</td><td>Home Decor</td><td>Cushion Cover</td><td>5</td><td>39.11</td><td>Credit Card</td><td>Delivered</td></tr></tbody></table></div>"
      ]
     },
     "metadata": {
      "application/vnd.databricks.v1+output": {
       "addedWidgets": {},
       "aggData": [],
       "aggError": "",
       "aggOverflow": false,
       "aggSchema": [],
       "aggSeriesLimitReached": false,
       "aggType": "",
       "arguments": {},
       "columnCustomDisplayInfos": {},
       "data": [
        [
         1005,
         "U003",
         "2025-04-19",
         "P988",
         "Home Decor",
         "Photo Frame",
         2,
         78.61,
         "PayPal",
         "Returned"
        ],
        [
         1007,
         "U129",
         "2025-04-23",
         "P786",
         "Home Decor",
         "Wall Clock",
         5,
         12.71,
         "Credit Card",
         "Returned"
        ],
        [
         1008,
         "U102",
         "2025-04-15",
         "P101",
         "Home Decor",
         "Photo Frame",
         1,
         46.6,
         "Debit Card",
         "Cancelled"
        ],
        [
         1034,
         "U016",
         "2025-04-23",
         "P948",
         "Home Decor",
         "Wall Clock",
         3,
         54.5,
         "UPI",
         "Returned"
        ],
        [
         1035,
         "U150",
         "2025-04-10",
         "P242",
         "Home Decor",
         "Cushion Cover",
         2,
         34.04,
         "Credit Card",
         "Cancelled"
        ],
        [
         1036,
         "U171",
         "2025-05-02",
         "P585",
         "Home Decor",
         "Cushion Cover",
         2,
         17.22,
         "Credit Card",
         "Processing"
        ],
        [
         1040,
         "U172",
         "2025-04-08",
         "P644",
         "Home Decor",
         "Wall Art",
         2,
         97.17,
         "Debit Card",
         "Processing"
        ],
        [
         1051,
         "U049",
         "2025-04-25",
         "P219",
         "Home Decor",
         "Wall Art",
         3,
         78.9,
         "UPI",
         "Processing"
        ],
        [
         1058,
         "U090",
         "2025-04-16",
         "P250",
         "Home Decor",
         "Wall Clock",
         5,
         72.65,
         "UPI",
         "Cancelled"
        ],
        [
         1061,
         "U069",
         "2025-04-06",
         "P463",
         "Home Decor",
         "Wall Clock",
         1,
         96.35,
         "PayPal",
         "Delivered"
        ],
        [
         1063,
         "U187",
         "2025-05-03",
         "P772",
         "Home Decor",
         "Wall Art",
         2,
         46.91,
         "Debit Card",
         "Processing"
        ],
        [
         1064,
         "U152",
         "2025-04-28",
         "P133",
         "Home Decor",
         "Wall Clock",
         3,
         56.43,
         "UPI",
         "Processing"
        ],
        [
         1066,
         "U128",
         "2025-04-15",
         "P639",
         "Home Decor",
         "Cushion Cover",
         4,
         20.13,
         "Credit Card",
         "Delivered"
        ],
        [
         1076,
         "U141",
         "2025-04-13",
         "P898",
         "Home Decor",
         "Lamp",
         3,
         41.6,
         "UPI",
         "Processing"
        ],
        [
         1082,
         "U044",
         "2025-04-21",
         "P295",
         "Home Decor",
         "Wall Clock",
         1,
         88.48,
         "Credit Card",
         "Delivered"
        ],
        [
         1083,
         "U200",
         "2025-04-26",
         "P383",
         "Home Decor",
         "Wall Art",
         2,
         38.91,
         "UPI",
         "Cancelled"
        ],
        [
         1084,
         "U006",
         "2025-04-10",
         "P188",
         "Home Decor",
         "Cushion Cover",
         3,
         91.28,
         "Credit Card",
         "Processing"
        ],
        [
         1087,
         "U138",
         "2025-04-20",
         "P576",
         "Home Decor",
         "Wall Art",
         4,
         97.87,
         "Debit Card",
         "Processing"
        ],
        [
         1091,
         "U044",
         "2025-05-03",
         "P350",
         "Home Decor",
         "Lamp",
         5,
         71.38,
         "PayPal",
         "Returned"
        ],
        [
         1099,
         "U093",
         "2025-05-03",
         "P642",
         "Home Decor",
         "Wall Clock",
         2,
         79.81,
         "PayPal",
         "Cancelled"
        ],
        [
         1103,
         "U193",
         "2025-04-29",
         "P131",
         "Home Decor",
         "Wall Clock",
         3,
         57.7,
         "PayPal",
         "Returned"
        ],
        [
         1127,
         "U183",
         "2025-04-09",
         "P549",
         "Home Decor",
         "Photo Frame",
         4,
         33.58,
         "Credit Card",
         "Returned"
        ],
        [
         1137,
         "U021",
         "2025-04-10",
         "P543",
         "Home Decor",
         "Lamp",
         4,
         53.3,
         "UPI",
         "Cancelled"
        ],
        [
         1146,
         "U179",
         "2025-04-09",
         "P390",
         "Home Decor",
         "Wall Clock",
         2,
         91.94,
         "UPI",
         "Processing"
        ],
        [
         1151,
         "U173",
         "2025-04-06",
         "P263",
         "Home Decor",
         "Wall Art",
         1,
         41.02,
         "UPI",
         "Delivered"
        ],
        [
         1159,
         "U010",
         "2025-04-21",
         "P478",
         "Home Decor",
         "Photo Frame",
         3,
         84.34,
         "UPI",
         "Delivered"
        ],
        [
         1160,
         "U136",
         "2025-04-29",
         "P355",
         "Home Decor",
         "Wall Art",
         4,
         74.83,
         "Debit Card",
         "Delivered"
        ],
        [
         1161,
         "U046",
         "2025-04-18",
         "P197",
         "Home Decor",
         "Wall Clock",
         4,
         40.77,
         "UPI",
         "Cancelled"
        ],
        [
         1170,
         "U063",
         "2025-04-22",
         "P766",
         "Home Decor",
         "Cushion Cover",
         5,
         76.79,
         "Credit Card",
         "Cancelled"
        ],
        [
         1172,
         "U101",
         "2025-05-03",
         "P898",
         "Home Decor",
         "Wall Art",
         4,
         99.11,
         "UPI",
         "Cancelled"
        ],
        [
         1173,
         "U085",
         "2025-04-25",
         "P563",
         "Home Decor",
         "Photo Frame",
         2,
         69.86,
         "Debit Card",
         "Processing"
        ],
        [
         1180,
         "U117",
         "2025-04-19",
         "P264",
         "Home Decor",
         "Cushion Cover",
         5,
         83.12,
         "PayPal",
         "Processing"
        ],
        [
         1183,
         "U087",
         "2025-04-30",
         "P853",
         "Home Decor",
         "Cushion Cover",
         2,
         74.63,
         "PayPal",
         "Returned"
        ],
        [
         1192,
         "U135",
         "2025-04-24",
         "P387",
         "Home Decor",
         "Photo Frame",
         2,
         47.02,
         "PayPal",
         "Returned"
        ],
        [
         1196,
         "U059",
         "2025-04-12",
         "P155",
         "Home Decor",
         "Wall Art",
         5,
         60.18,
         "PayPal",
         "Cancelled"
        ],
        [
         1206,
         "U164",
         "2025-04-23",
         "P798",
         "Home Decor",
         "Wall Art",
         5,
         28.92,
         "PayPal",
         "Returned"
        ],
        [
         1214,
         "U099",
         "2025-04-22",
         "P750",
         "Home Decor",
         "Photo Frame",
         3,
         63.61,
         "Debit Card",
         "Returned"
        ],
        [
         1215,
         "U178",
         "2025-04-19",
         "P389",
         "Home Decor",
         "Photo Frame",
         3,
         87.01,
         "UPI",
         "Returned"
        ],
        [
         1227,
         "U150",
         "2025-04-08",
         "P600",
         "Home Decor",
         "Wall Clock",
         4,
         84.14,
         "PayPal",
         "Delivered"
        ],
        [
         1232,
         "U185",
         "2025-04-21",
         "P321",
         "Home Decor",
         "Wall Clock",
         3,
         41.56,
         "PayPal",
         "Delivered"
        ],
        [
         1235,
         "U066",
         "2025-04-26",
         "P462",
         "Home Decor",
         "Photo Frame",
         1,
         41.37,
         "UPI",
         "Delivered"
        ],
        [
         1238,
         "U028",
         "2025-04-24",
         "P234",
         "Home Decor",
         "Wall Art",
         2,
         55.22,
         "Debit Card",
         "Processing"
        ],
        [
         1244,
         "U078",
         "2025-05-02",
         "P103",
         "Home Decor",
         "Lamp",
         5,
         56.06,
         "PayPal",
         "Processing"
        ],
        [
         1254,
         "U174",
         "2025-04-23",
         "P293",
         "Home Decor",
         "Photo Frame",
         4,
         69.34,
         "Debit Card",
         "Cancelled"
        ],
        [
         1260,
         "U010",
         "2025-05-01",
         "P470",
         "Home Decor",
         "Cushion Cover",
         1,
         76.22,
         "Debit Card",
         "Processing"
        ],
        [
         1274,
         "U185",
         "2025-04-16",
         "P297",
         "Home Decor",
         "Wall Clock",
         5,
         96.42,
         "PayPal",
         "Cancelled"
        ],
        [
         1278,
         "U180",
         "2025-04-16",
         "P193",
         "Home Decor",
         "Cushion Cover",
         4,
         81.46,
         "Debit Card",
         "Delivered"
        ],
        [
         1283,
         "U174",
         "2025-04-21",
         "P592",
         "Home Decor",
         "Wall Clock",
         4,
         20.15,
         "PayPal",
         "Delivered"
        ],
        [
         1285,
         "U005",
         "2025-04-19",
         "P614",
         "Home Decor",
         "Cushion Cover",
         4,
         67.34,
         "Credit Card",
         "Returned"
        ],
        [
         1291,
         "U164",
         "2025-04-14",
         "P126",
         "Home Decor",
         "Lamp",
         4,
         37.39,
         "PayPal",
         "Returned"
        ],
        [
         1308,
         "U019",
         "2025-04-15",
         "P839",
         "Home Decor",
         "Wall Clock",
         3,
         85.61,
         "PayPal",
         "Cancelled"
        ],
        [
         1313,
         "U128",
         "2025-04-19",
         "P905",
         "Home Decor",
         "Cushion Cover",
         3,
         95.41,
         "PayPal",
         "Delivered"
        ],
        [
         1315,
         "U142",
         "2025-04-12",
         "P867",
         "Home Decor",
         "Wall Art",
         4,
         91.45,
         "Credit Card",
         "Delivered"
        ],
        [
         1321,
         "U091",
         "2025-05-03",
         "P416",
         "Home Decor",
         "Wall Art",
         4,
         11.29,
         "UPI",
         "Cancelled"
        ],
        [
         1326,
         "U048",
         "2025-05-03",
         "P197",
         "Home Decor",
         "Cushion Cover",
         3,
         87.71,
         "Credit Card",
         "Delivered"
        ],
        [
         1327,
         "U048",
         "2025-04-20",
         "P577",
         "Home Decor",
         "Photo Frame",
         1,
         99.43,
         "UPI",
         "Cancelled"
        ],
        [
         1335,
         "U143",
         "2025-04-22",
         "P749",
         "Home Decor",
         "Photo Frame",
         5,
         76.81,
         "PayPal",
         "Cancelled"
        ],
        [
         1340,
         "U002",
         "2025-04-18",
         "P370",
         "Home Decor",
         "Photo Frame",
         2,
         32.68,
         "UPI",
         "Cancelled"
        ],
        [
         1352,
         "U072",
         "2025-04-15",
         "P531",
         "Home Decor",
         "Wall Clock",
         1,
         76.26,
         "PayPal",
         "Cancelled"
        ],
        [
         1356,
         "U038",
         "2025-04-20",
         "P392",
         "Home Decor",
         "Wall Art",
         5,
         11.81,
         "PayPal",
         "Processing"
        ],
        [
         1358,
         "U115",
         "2025-04-19",
         "P608",
         "Home Decor",
         "Wall Art",
         5,
         15.18,
         "UPI",
         "Delivered"
        ],
        [
         1363,
         "U177",
         "2025-04-23",
         "P580",
         "Home Decor",
         "Lamp",
         2,
         81.51,
         "Credit Card",
         "Returned"
        ],
        [
         1365,
         "U138",
         "2025-05-03",
         "P286",
         "Home Decor",
         "Wall Clock",
         2,
         58.32,
         "Credit Card",
         "Processing"
        ],
        [
         1386,
         "U148",
         "2025-04-10",
         "P257",
         "Home Decor",
         "Wall Clock",
         4,
         61.21,
         "PayPal",
         "Processing"
        ],
        [
         1388,
         "U180",
         "2025-04-19",
         "P632",
         "Home Decor",
         "Lamp",
         4,
         70.81,
         "Debit Card",
         "Returned"
        ],
        [
         1394,
         "U026",
         "2025-04-10",
         "P479",
         "Home Decor",
         "Lamp",
         3,
         98.63,
         "Debit Card",
         "Cancelled"
        ],
        [
         1395,
         "U066",
         "2025-04-05",
         "P959",
         "Home Decor",
         "Wall Clock",
         1,
         94.42,
         "UPI",
         "Delivered"
        ],
        [
         1396,
         "U004",
         "2025-04-27",
         "P118",
         "Home Decor",
         "Cushion Cover",
         5,
         85.49,
         "Credit Card",
         "Cancelled"
        ],
        [
         1401,
         "U050",
         "2025-04-10",
         "P301",
         "Home Decor",
         "Photo Frame",
         5,
         98.92,
         "Debit Card",
         "Returned"
        ],
        [
         1403,
         "U180",
         "2025-04-16",
         "P806",
         "Home Decor",
         "Wall Art",
         5,
         39.46,
         "Debit Card",
         "Cancelled"
        ],
        [
         1404,
         "U027",
         "2025-05-01",
         "P354",
         "Home Decor",
         "Wall Art",
         4,
         61.62,
         "PayPal",
         "Cancelled"
        ],
        [
         1411,
         "U009",
         "2025-04-15",
         "P737",
         "Home Decor",
         "Lamp",
         4,
         51.77,
         "Debit Card",
         "Cancelled"
        ],
        [
         1421,
         "U152",
         "2025-04-26",
         "P480",
         "Home Decor",
         "Lamp",
         5,
         62.79,
         "Credit Card",
         "Returned"
        ],
        [
         1450,
         "U093",
         "2025-04-15",
         "P770",
         "Home Decor",
         "Lamp",
         4,
         91.38,
         "UPI",
         "Returned"
        ],
        [
         1452,
         "U127",
         "2025-04-14",
         "P126",
         "Home Decor",
         "Cushion Cover",
         5,
         20.72,
         "Debit Card",
         "Delivered"
        ],
        [
         1458,
         "U043",
         "2025-04-11",
         "P731",
         "Home Decor",
         "Photo Frame",
         4,
         97.98,
         "PayPal",
         "Delivered"
        ],
        [
         1462,
         "U092",
         "2025-04-27",
         "P707",
         "Home Decor",
         "Photo Frame",
         4,
         64.23,
         "UPI",
         "Delivered"
        ],
        [
         1471,
         "U046",
         "2025-04-18",
         "P487",
         "Home Decor",
         "Photo Frame",
         4,
         64.9,
         "PayPal",
         "Cancelled"
        ],
        [
         1474,
         "U049",
         "2025-04-11",
         "P497",
         "Home Decor",
         "Wall Clock",
         4,
         53.95,
         "PayPal",
         "Processing"
        ],
        [
         1475,
         "U161",
         "2025-04-26",
         "P609",
         "Home Decor",
         "Photo Frame",
         4,
         44.65,
         "PayPal",
         "Returned"
        ],
        [
         1478,
         "U154",
         "2025-04-17",
         "P841",
         "Home Decor",
         "Cushion Cover",
         3,
         43.15,
         "PayPal",
         "Processing"
        ],
        [
         1479,
         "U155",
         "2025-04-05",
         "P584",
         "Home Decor",
         "Wall Art",
         4,
         62.21,
         "Debit Card",
         "Delivered"
        ],
        [
         1488,
         "U199",
         "2025-04-11",
         "P491",
         "Home Decor",
         "Cushion Cover",
         3,
         67.39,
         "Debit Card",
         "Returned"
        ],
        [
         1489,
         "U018",
         "2025-04-14",
         "P529",
         "Home Decor",
         "Wall Clock",
         4,
         73.18,
         "Credit Card",
         "Delivered"
        ],
        [
         1495,
         "U046",
         "2025-04-06",
         "P198",
         "Home Decor",
         "Wall Art",
         3,
         40.25,
         "UPI",
         "Delivered"
        ],
        [
         1496,
         "U017",
         "2025-04-22",
         "P564",
         "Home Decor",
         "Cushion Cover",
         5,
         74.03,
         "Credit Card",
         "Processing"
        ],
        [
         1500,
         "U014",
         "2025-04-18",
         "P122",
         "Home Decor",
         "Cushion Cover",
         5,
         51.2,
         "PayPal",
         "Processing"
        ],
        [
         1504,
         "U024",
         "2025-04-06",
         "P380",
         "Home Decor",
         "Photo Frame",
         3,
         41.89,
         "PayPal",
         "Returned"
        ],
        [
         1508,
         "U196",
         "2025-04-12",
         "P265",
         "Home Decor",
         "Wall Clock",
         4,
         75.66,
         "PayPal",
         "Returned"
        ],
        [
         1518,
         "U069",
         "2025-04-21",
         "P790",
         "Home Decor",
         "Wall Clock",
         4,
         76.74,
         "Credit Card",
         "Cancelled"
        ],
        [
         1524,
         "U194",
         "2025-04-04",
         "P493",
         "Home Decor",
         "Photo Frame",
         1,
         46.99,
         "Credit Card",
         "Returned"
        ],
        [
         1540,
         "U007",
         "2025-04-22",
         "P376",
         "Home Decor",
         "Lamp",
         5,
         13.67,
         "Debit Card",
         "Processing"
        ],
        [
         1548,
         "U146",
         "2025-04-06",
         "P840",
         "Home Decor",
         "Cushion Cover",
         4,
         44.37,
         "UPI",
         "Cancelled"
        ],
        [
         1560,
         "U115",
         "2025-04-06",
         "P859",
         "Home Decor",
         "Wall Clock",
         3,
         31.24,
         "Credit Card",
         "Cancelled"
        ],
        [
         1564,
         "U140",
         "2025-04-08",
         "P616",
         "Home Decor",
         "Photo Frame",
         4,
         36.02,
         "Credit Card",
         "Delivered"
        ],
        [
         1575,
         "U104",
         "2025-04-27",
         "P880",
         "Home Decor",
         "Photo Frame",
         5,
         96.57,
         "PayPal",
         "Cancelled"
        ],
        [
         1576,
         "U192",
         "2025-04-21",
         "P536",
         "Home Decor",
         "Lamp",
         3,
         60.21,
         "Debit Card",
         "Cancelled"
        ],
        [
         1582,
         "U072",
         "2025-04-10",
         "P424",
         "Home Decor",
         "Wall Clock",
         2,
         65.05,
         "PayPal",
         "Processing"
        ],
        [
         1583,
         "U090",
         "2025-04-24",
         "P271",
         "Home Decor",
         "Wall Clock",
         4,
         44.79,
         "Debit Card",
         "Returned"
        ],
        [
         1587,
         "U022",
         "2025-05-02",
         "P587",
         "Home Decor",
         "Wall Clock",
         1,
         97.7,
         "UPI",
         "Processing"
        ],
        [
         1592,
         "U101",
         "2025-05-02",
         "P464",
         "Home Decor",
         "Wall Art",
         5,
         11.57,
         "Credit Card",
         "Delivered"
        ],
        [
         1594,
         "U088",
         "2025-04-29",
         "P364",
         "Home Decor",
         "Cushion Cover",
         3,
         41.54,
         "UPI",
         "Delivered"
        ],
        [
         1597,
         "U060",
         "2025-04-14",
         "P598",
         "Home Decor",
         "Wall Art",
         5,
         73.45,
         "UPI",
         "Returned"
        ],
        [
         1600,
         "U125",
         "2025-05-01",
         "P999",
         "Home Decor",
         "Wall Art",
         4,
         30.98,
         "Credit Card",
         "Delivered"
        ],
        [
         1604,
         "U189",
         "2025-04-05",
         "P134",
         "Home Decor",
         "Wall Art",
         1,
         22.33,
         "PayPal",
         "Delivered"
        ],
        [
         1607,
         "U060",
         "2025-04-05",
         "P786",
         "Home Decor",
         "Wall Art",
         5,
         70.26,
         "Debit Card",
         "Cancelled"
        ],
        [
         1615,
         "U061",
         "2025-04-30",
         "P202",
         "Home Decor",
         "Wall Art",
         2,
         85.6,
         "Credit Card",
         "Delivered"
        ],
        [
         1623,
         "U191",
         "2025-04-16",
         "P789",
         "Home Decor",
         "Cushion Cover",
         2,
         42.89,
         "PayPal",
         "Cancelled"
        ],
        [
         1626,
         "U172",
         "2025-04-07",
         "P687",
         "Home Decor",
         "Wall Art",
         2,
         22.15,
         "Credit Card",
         "Delivered"
        ],
        [
         1634,
         "U085",
         "2025-04-06",
         "P596",
         "Home Decor",
         "Cushion Cover",
         1,
         35.5,
         "PayPal",
         "Processing"
        ],
        [
         1635,
         "U111",
         "2025-04-19",
         "P393",
         "Home Decor",
         "Cushion Cover",
         5,
         15.64,
         "Credit Card",
         "Delivered"
        ],
        [
         1640,
         "U033",
         "2025-04-10",
         "P632",
         "Home Decor",
         "Photo Frame",
         3,
         53.18,
         "PayPal",
         "Returned"
        ],
        [
         1649,
         "U115",
         "2025-04-27",
         "P895",
         "Home Decor",
         "Wall Art",
         2,
         99.5,
         "Debit Card",
         "Returned"
        ],
        [
         1651,
         "U194",
         "2025-04-25",
         "P914",
         "Home Decor",
         "Wall Art",
         2,
         70.66,
         "Debit Card",
         "Returned"
        ],
        [
         1655,
         "U060",
         "2025-04-24",
         "P123",
         "Home Decor",
         "Wall Clock",
         4,
         49.74,
         "UPI",
         "Cancelled"
        ],
        [
         1659,
         "U067",
         "2025-04-16",
         "P992",
         "Home Decor",
         "Wall Clock",
         4,
         29.74,
         "UPI",
         "Processing"
        ],
        [
         1664,
         "U121",
         "2025-04-11",
         "P736",
         "Home Decor",
         "Wall Art",
         3,
         30.3,
         "PayPal",
         "Delivered"
        ],
        [
         1674,
         "U188",
         "2025-05-02",
         "P907",
         "Home Decor",
         "Cushion Cover",
         1,
         27.48,
         "UPI",
         "Processing"
        ],
        [
         1675,
         "U023",
         "2025-04-26",
         "P739",
         "Home Decor",
         "Wall Clock",
         3,
         68.98,
         "Credit Card",
         "Delivered"
        ],
        [
         1677,
         "U078",
         "2025-04-30",
         "P252",
         "Home Decor",
         "Cushion Cover",
         2,
         66.44,
         "PayPal",
         "Cancelled"
        ],
        [
         1680,
         "U125",
         "2025-04-22",
         "P699",
         "Home Decor",
         "Lamp",
         2,
         88.06,
         "Credit Card",
         "Processing"
        ],
        [
         1682,
         "U166",
         "2025-04-27",
         "P103",
         "Home Decor",
         "Wall Art",
         2,
         10.63,
         "Credit Card",
         "Returned"
        ],
        [
         1683,
         "U069",
         "2025-04-26",
         "P944",
         "Home Decor",
         "Lamp",
         1,
         47.05,
         "Debit Card",
         "Processing"
        ],
        [
         1688,
         "U124",
         "2025-04-15",
         "P973",
         "Home Decor",
         "Wall Clock",
         3,
         42.12,
         "Debit Card",
         "Delivered"
        ],
        [
         1699,
         "U152",
         "2025-04-21",
         "P136",
         "Home Decor",
         "Wall Clock",
         2,
         74.81,
         "PayPal",
         "Processing"
        ],
        [
         1710,
         "U159",
         "2025-04-04",
         "P272",
         "Home Decor",
         "Lamp",
         5,
         83.43,
         "UPI",
         "Delivered"
        ],
        [
         1711,
         "U003",
         "2025-04-29",
         "P628",
         "Home Decor",
         "Lamp",
         4,
         76.85,
         "Debit Card",
         "Cancelled"
        ],
        [
         1713,
         "U161",
         "2025-04-18",
         "P263",
         "Home Decor",
         "Wall Art",
         3,
         38.77,
         "Debit Card",
         "Delivered"
        ],
        [
         1714,
         "U115",
         "2025-04-05",
         "P501",
         "Home Decor",
         "Wall Clock",
         5,
         14.84,
         "UPI",
         "Returned"
        ],
        [
         1731,
         "U164",
         "2025-04-23",
         "P994",
         "Home Decor",
         "Lamp",
         1,
         59.5,
         "UPI",
         "Returned"
        ],
        [
         1733,
         "U156",
         "2025-04-05",
         "P467",
         "Home Decor",
         "Cushion Cover",
         5,
         41.07,
         "PayPal",
         "Delivered"
        ],
        [
         1735,
         "U163",
         "2025-04-30",
         "P870",
         "Home Decor",
         "Wall Clock",
         1,
         74.3,
         "Credit Card",
         "Returned"
        ],
        [
         1742,
         "U155",
         "2025-04-30",
         "P239",
         "Home Decor",
         "Cushion Cover",
         3,
         71.24,
         "UPI",
         "Cancelled"
        ],
        [
         1748,
         "U197",
         "2025-04-04",
         "P709",
         "Home Decor",
         "Cushion Cover",
         5,
         81.26,
         "Debit Card",
         "Processing"
        ],
        [
         1749,
         "U083",
         "2025-04-18",
         "P144",
         "Home Decor",
         "Cushion Cover",
         1,
         95.31,
         "Credit Card",
         "Cancelled"
        ],
        [
         1751,
         "U116",
         "2025-04-11",
         "P410",
         "Home Decor",
         "Wall Clock",
         1,
         54.04,
         "Debit Card",
         "Cancelled"
        ],
        [
         1753,
         "U098",
         "2025-05-01",
         "P717",
         "Home Decor",
         "Lamp",
         3,
         84.58,
         "PayPal",
         "Cancelled"
        ],
        [
         1757,
         "U141",
         "2025-04-05",
         "P440",
         "Home Decor",
         "Wall Clock",
         4,
         65.5,
         "PayPal",
         "Cancelled"
        ],
        [
         1761,
         "U169",
         "2025-04-28",
         "P621",
         "Home Decor",
         "Wall Art",
         5,
         99.4,
         "PayPal",
         "Delivered"
        ],
        [
         1768,
         "U100",
         "2025-05-02",
         "P880",
         "Home Decor",
         "Wall Clock",
         5,
         72.35,
         "Credit Card",
         "Cancelled"
        ],
        [
         1769,
         "U168",
         "2025-04-14",
         "P811",
         "Home Decor",
         "Cushion Cover",
         3,
         50.71,
         "UPI",
         "Returned"
        ],
        [
         1773,
         "U112",
         "2025-04-27",
         "P600",
         "Home Decor",
         "Cushion Cover",
         4,
         94.11,
         "Debit Card",
         "Delivered"
        ],
        [
         1775,
         "U002",
         "2025-04-10",
         "P318",
         "Home Decor",
         "Wall Art",
         3,
         76.14,
         "UPI",
         "Returned"
        ],
        [
         1776,
         "U194",
         "2025-04-11",
         "P939",
         "Home Decor",
         "Cushion Cover",
         5,
         31.23,
         "Credit Card",
         "Returned"
        ],
        [
         1796,
         "U165",
         "2025-04-29",
         "P874",
         "Home Decor",
         "Photo Frame",
         1,
         30.15,
         "UPI",
         "Processing"
        ],
        [
         1797,
         "U033",
         "2025-04-20",
         "P843",
         "Home Decor",
         "Photo Frame",
         4,
         99.39,
         "Debit Card",
         "Processing"
        ],
        [
         1801,
         "U194",
         "2025-04-23",
         "P274",
         "Home Decor",
         "Lamp",
         1,
         90.71,
         "Debit Card",
         "Processing"
        ],
        [
         1805,
         "U181",
         "2025-04-07",
         "P908",
         "Home Decor",
         "Cushion Cover",
         5,
         33.49,
         "Credit Card",
         "Cancelled"
        ],
        [
         1814,
         "U017",
         "2025-04-25",
         "P951",
         "Home Decor",
         "Lamp",
         3,
         83.68,
         "PayPal",
         "Returned"
        ],
        [
         1818,
         "U087",
         "2025-04-06",
         "P921",
         "Home Decor",
         "Wall Clock",
         5,
         52.91,
         "PayPal",
         "Delivered"
        ],
        [
         1824,
         "U169",
         "2025-04-05",
         "P893",
         "Home Decor",
         "Lamp",
         3,
         85.78,
         "UPI",
         "Delivered"
        ],
        [
         1825,
         "U047",
         "2025-04-13",
         "P727",
         "Home Decor",
         "Photo Frame",
         1,
         31.86,
         "Debit Card",
         "Delivered"
        ],
        [
         1829,
         "U145",
         "2025-04-26",
         "P648",
         "Home Decor",
         "Cushion Cover",
         3,
         92.24,
         "Debit Card",
         "Cancelled"
        ],
        [
         1831,
         "U021",
         "2025-04-22",
         "P586",
         "Home Decor",
         "Wall Clock",
         1,
         95.48,
         "Credit Card",
         "Delivered"
        ],
        [
         1832,
         "U010",
         "2025-04-09",
         "P842",
         "Home Decor",
         "Cushion Cover",
         3,
         42.79,
         "UPI",
         "Processing"
        ],
        [
         1837,
         "U072",
         "2025-04-09",
         "P869",
         "Home Decor",
         "Wall Clock",
         1,
         65.12,
         "Debit Card",
         "Delivered"
        ],
        [
         1838,
         "U117",
         "2025-05-02",
         "P446",
         "Home Decor",
         "Cushion Cover",
         4,
         79.73,
         "Credit Card",
         "Returned"
        ],
        [
         1839,
         "U081",
         "2025-04-05",
         "P915",
         "Home Decor",
         "Cushion Cover",
         1,
         19.06,
         "UPI",
         "Returned"
        ],
        [
         1841,
         "U075",
         "2025-04-13",
         "P585",
         "Home Decor",
         "Photo Frame",
         2,
         58.98,
         "Credit Card",
         "Delivered"
        ],
        [
         1845,
         "U179",
         "2025-04-21",
         "P511",
         "Home Decor",
         "Photo Frame",
         3,
         92.89,
         "Debit Card",
         "Cancelled"
        ],
        [
         1848,
         "U132",
         "2025-04-18",
         "P800",
         "Home Decor",
         "Wall Clock",
         1,
         51.35,
         "Debit Card",
         "Cancelled"
        ],
        [
         1851,
         "U063",
         "2025-04-25",
         "P601",
         "Home Decor",
         "Wall Art",
         4,
         41.61,
         "Credit Card",
         "Processing"
        ],
        [
         1852,
         "U024",
         "2025-04-17",
         "P233",
         "Home Decor",
         "Wall Art",
         5,
         13.7,
         "UPI",
         "Cancelled"
        ],
        [
         1853,
         "U112",
         "2025-04-29",
         "P707",
         "Home Decor",
         "Photo Frame",
         4,
         64.14,
         "UPI",
         "Cancelled"
        ],
        [
         1860,
         "U027",
         "2025-04-22",
         "P179",
         "Home Decor",
         "Photo Frame",
         1,
         26.78,
         "Debit Card",
         "Returned"
        ],
        [
         1864,
         "U081",
         "2025-04-24",
         "P918",
         "Home Decor",
         "Wall Art",
         1,
         58.25,
         "UPI",
         "Processing"
        ],
        [
         1877,
         "U010",
         "2025-04-14",
         "P626",
         "Home Decor",
         "Cushion Cover",
         3,
         17.91,
         "Debit Card",
         "Cancelled"
        ],
        [
         1878,
         "U119",
         "2025-04-22",
         "P830",
         "Home Decor",
         "Wall Clock",
         1,
         55.91,
         "Credit Card",
         "Delivered"
        ],
        [
         1887,
         "U032",
         "2025-04-19",
         "P176",
         "Home Decor",
         "Wall Art",
         1,
         33.45,
         "PayPal",
         "Delivered"
        ],
        [
         1888,
         "U181",
         "2025-04-22",
         "P679",
         "Home Decor",
         "Wall Clock",
         4,
         88.86,
         "Debit Card",
         "Cancelled"
        ],
        [
         1894,
         "U007",
         "2025-04-23",
         "P613",
         "Home Decor",
         "Cushion Cover",
         4,
         23.24,
         "PayPal",
         "Returned"
        ],
        [
         1898,
         "U027",
         "2025-04-21",
         "P916",
         "Home Decor",
         "Wall Clock",
         3,
         96.74,
         "Debit Card",
         "Processing"
        ],
        [
         1900,
         "U129",
         "2025-04-04",
         "P464",
         "Home Decor",
         "Photo Frame",
         1,
         25.7,
         "PayPal",
         "Delivered"
        ],
        [
         1902,
         "U144",
         "2025-04-27",
         "P315",
         "Home Decor",
         "Wall Art",
         4,
         13.15,
         "Debit Card",
         "Delivered"
        ],
        [
         1907,
         "U130",
         "2025-04-16",
         "P725",
         "Home Decor",
         "Wall Clock",
         4,
         46.26,
         "PayPal",
         "Delivered"
        ],
        [
         1911,
         "U047",
         "2025-04-24",
         "P655",
         "Home Decor",
         "Cushion Cover",
         2,
         24.55,
         "Debit Card",
         "Returned"
        ],
        [
         1914,
         "U133",
         "2025-05-01",
         "P993",
         "Home Decor",
         "Photo Frame",
         1,
         99.65,
         "Credit Card",
         "Processing"
        ],
        [
         1918,
         "U066",
         "2025-04-05",
         "P675",
         "Home Decor",
         "Wall Clock",
         2,
         78.59,
         "Credit Card",
         "Cancelled"
        ],
        [
         1919,
         "U075",
         "2025-05-02",
         "P730",
         "Home Decor",
         "Photo Frame",
         5,
         79.87,
         "Debit Card",
         "Returned"
        ],
        [
         1923,
         "U067",
         "2025-04-19",
         "P616",
         "Home Decor",
         "Wall Art",
         3,
         77.07,
         "Debit Card",
         "Cancelled"
        ],
        [
         1925,
         "U100",
         "2025-04-11",
         "P887",
         "Home Decor",
         "Wall Art",
         1,
         20.2,
         "PayPal",
         "Returned"
        ],
        [
         1927,
         "U051",
         "2025-04-19",
         "P705",
         "Home Decor",
         "Lamp",
         5,
         78.53,
         "Debit Card",
         "Processing"
        ],
        [
         1929,
         "U125",
         "2025-04-07",
         "P458",
         "Home Decor",
         "Photo Frame",
         5,
         29.19,
         "PayPal",
         "Returned"
        ],
        [
         1942,
         "U004",
         "2025-04-10",
         "P202",
         "Home Decor",
         "Wall Art",
         1,
         29.94,
         "Debit Card",
         "Returned"
        ],
        [
         1943,
         "U172",
         "2025-04-30",
         "P834",
         "Home Decor",
         "Cushion Cover",
         1,
         40.82,
         "Credit Card",
         "Processing"
        ],
        [
         1950,
         "U054",
         "2025-04-06",
         "P188",
         "Home Decor",
         "Wall Art",
         4,
         97.33,
         "Credit Card",
         "Processing"
        ],
        [
         1953,
         "U048",
         "2025-05-02",
         "P103",
         "Home Decor",
         "Cushion Cover",
         2,
         54.61,
         "PayPal",
         "Cancelled"
        ],
        [
         1964,
         "U143",
         "2025-04-12",
         "P838",
         "Home Decor",
         "Wall Art",
         4,
         62.59,
         "PayPal",
         "Returned"
        ],
        [
         1968,
         "U035",
         "2025-04-14",
         "P948",
         "Home Decor",
         "Wall Art",
         2,
         36.36,
         "PayPal",
         "Cancelled"
        ],
        [
         1970,
         "U167",
         "2025-04-19",
         "P700",
         "Home Decor",
         "Wall Art",
         4,
         21.86,
         "UPI",
         "Cancelled"
        ],
        [
         1972,
         "U044",
         "2025-04-10",
         "P406",
         "Home Decor",
         "Lamp",
         1,
         35.33,
         "Debit Card",
         "Returned"
        ],
        [
         1979,
         "U045",
         "2025-04-21",
         "P219",
         "Home Decor",
         "Wall Clock",
         1,
         37.77,
         "PayPal",
         "Cancelled"
        ],
        [
         1980,
         "U182",
         "2025-04-28",
         "P615",
         "Home Decor",
         "Cushion Cover",
         5,
         39.11,
         "Credit Card",
         "Delivered"
        ]
       ],
       "datasetInfos": [
        {
         "name": "_sqldf",
         "schema": {
          "fields": [
           {
            "metadata": {},
            "name": "order_id",
            "nullable": true,
            "type": "integer"
           },
           {
            "metadata": {},
            "name": "user_id",
            "nullable": true,
            "type": "string"
           },
           {
            "metadata": {},
            "name": "order_date",
            "nullable": true,
            "type": "date"
           },
           {
            "metadata": {},
            "name": "product_id",
            "nullable": true,
            "type": "string"
           },
           {
            "metadata": {},
            "name": "product_category",
            "nullable": true,
            "type": "string"
           },
           {
            "metadata": {},
            "name": "product_name",
            "nullable": true,
            "type": "string"
           },
           {
            "metadata": {},
            "name": "quantity",
            "nullable": true,
            "type": "integer"
           },
           {
            "metadata": {},
            "name": "price_per_unit",
            "nullable": true,
            "type": "double"
           },
           {
            "metadata": {},
            "name": "payment_method",
            "nullable": true,
            "type": "string"
           },
           {
            "metadata": {},
            "name": "order_status",
            "nullable": true,
            "type": "string"
           }
          ],
          "type": "struct"
         },
         "tableIdentifier": null,
         "typeStr": "pyspark.sql.connect.dataframe.DataFrame"
        }
       ],
       "dbfsResultPath": null,
       "isJsonSchema": true,
       "metadata": {
        "createTempViewForImplicitDf": true,
        "dataframeName": "_sqldf",
        "executionCount": 15
       },
       "overflow": false,
       "plotOptions": {
        "customPlotOptions": {},
        "displayType": "table",
        "pivotAggregation": null,
        "pivotColumns": null,
        "xColumns": null,
        "yColumns": null
       },
       "removedWidgets": [],
       "schema": [
        {
         "metadata": "{}",
         "name": "order_id",
         "type": "\"integer\""
        },
        {
         "metadata": "{}",
         "name": "user_id",
         "type": "\"string\""
        },
        {
         "metadata": "{}",
         "name": "order_date",
         "type": "\"date\""
        },
        {
         "metadata": "{}",
         "name": "product_id",
         "type": "\"string\""
        },
        {
         "metadata": "{}",
         "name": "product_category",
         "type": "\"string\""
        },
        {
         "metadata": "{}",
         "name": "product_name",
         "type": "\"string\""
        },
        {
         "metadata": "{}",
         "name": "quantity",
         "type": "\"integer\""
        },
        {
         "metadata": "{}",
         "name": "price_per_unit",
         "type": "\"double\""
        },
        {
         "metadata": "{}",
         "name": "payment_method",
         "type": "\"string\""
        },
        {
         "metadata": "{}",
         "name": "order_status",
         "type": "\"string\""
        }
       ],
       "type": "table"
      }
     },
     "output_type": "display_data"
    }
   ],
   "source": [
    "SELECT * FROM sparksql_cata.sparksql_schema.discount_price('Home Decor')"
   ]
  },
  {
   "cell_type": "code",
   "execution_count": 0,
   "metadata": {
    "application/vnd.databricks.v1+cell": {
     "cellMetadata": {},
     "inputWidgets": {},
     "nuid": "8516627e-c1b5-4e95-ba8e-8c1b57f07a30",
     "showTitle": false,
     "tableResultSettingsMap": {},
     "title": ""
    }
   },
   "outputs": [],
   "source": []
  }
 ],
 "metadata": {
  "application/vnd.databricks.v1+notebook": {
   "computePreferences": {
    "hardware": {
     "accelerator": null,
     "gpuPoolId": null,
     "memory": null
    }
   },
   "dashboards": [],
   "environmentMetadata": {
    "base_environment": "",
    "environment_version": "3"
   },
   "inputWidgetPreferences": null,
   "language": "sql",
   "notebookMetadata": {
    "pythonIndentUnit": 4
   },
   "notebookName": "4_sparksql - UDF UDTF",
   "widgets": {}
  },
  "language_info": {
   "name": "sql"
  }
 },
 "nbformat": 4,
 "nbformat_minor": 0
}