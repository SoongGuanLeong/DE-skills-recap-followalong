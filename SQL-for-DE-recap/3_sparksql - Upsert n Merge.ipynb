{
 "cells": [
  {
   "cell_type": "markdown",
   "metadata": {
    "application/vnd.databricks.v1+cell": {
     "cellMetadata": {},
     "inputWidgets": {},
     "nuid": "3e65d8f7-c950-4336-8c6b-238000a8ea58",
     "showTitle": false,
     "tableResultSettingsMap": {},
     "title": ""
    }
   },
   "source": [
    "# **UPSERT - MERGE**"
   ]
  },
  {
   "cell_type": "code",
   "execution_count": 0,
   "metadata": {
    "application/vnd.databricks.v1+cell": {
     "cellMetadata": {
      "byteLimit": 2048000,
      "rowLimit": 10000
     },
     "inputWidgets": {},
     "nuid": "18f631c3-2f00-430d-b2e1-b1db2358d092",
     "showTitle": false,
     "tableResultSettingsMap": {},
     "title": ""
    }
   },
   "outputs": [],
   "source": [
    "%python\n",
    "df = spark.read.table('sparksql_cata.sparksql_schema.order_man')"
   ]
  },
  {
   "cell_type": "code",
   "execution_count": 0,
   "metadata": {
    "application/vnd.databricks.v1+cell": {
     "cellMetadata": {
      "byteLimit": 2048000,
      "rowLimit": 10000
     },
     "inputWidgets": {},
     "nuid": "e35ac9a6-9c78-469b-ae11-36450faa9b97",
     "showTitle": false,
     "tableResultSettingsMap": {},
     "title": ""
    }
   },
   "outputs": [],
   "source": [
    "%python\n",
    "df.createOrReplaceTempView('order_source')\n",
    "       "
   ]
  },
  {
   "cell_type": "code",
   "execution_count": 0,
   "metadata": {
    "application/vnd.databricks.v1+cell": {
     "cellMetadata": {},
     "inputWidgets": {},
     "nuid": "a53d03a6-a009-4cf8-8d53-625afe17c084",
     "showTitle": false,
     "tableResultSettingsMap": {},
     "title": ""
    }
   },
   "outputs": [],
   "source": [
    "%python\n",
    "# alternative to createOrReplaceTempView\n",
    "spark.sql('''\n",
    "          SELECT * FROM {orders_temp}\n",
    "          ''', orders_temp = df)"
   ]
  },
  {
   "cell_type": "code",
   "execution_count": 0,
   "metadata": {
    "application/vnd.databricks.v1+cell": {
     "cellMetadata": {
      "byteLimit": 2048000,
      "rowLimit": 10000
     },
     "inputWidgets": {},
     "nuid": "c2ed8f3c-e9c7-40a9-a5af-b35b0bb86e08",
     "showTitle": false,
     "tableResultSettingsMap": {},
     "title": ""
    }
   },
   "outputs": [
    {
     "output_type": "display_data",
     "data": {
      "text/html": [
       "<style scoped>\n",
       "  .table-result-container {\n",
       "    max-height: 300px;\n",
       "    overflow: auto;\n",
       "  }\n",
       "  table, th, td {\n",
       "    border: 1px solid black;\n",
       "    border-collapse: collapse;\n",
       "  }\n",
       "  th, td {\n",
       "    padding: 5px;\n",
       "  }\n",
       "  th {\n",
       "    text-align: left;\n",
       "  }\n",
       "</style><div class='table-result-container'><table class='table-result'><thead style='background-color: white'><tr><th>order_id</th><th>user_id</th><th>order_date</th><th>product_id</th><th>product_category</th><th>product_name</th><th>quantity</th><th>price_per_unit</th><th>payment_method</th><th>order_status</th></tr></thead><tbody><tr><td>1001</td><td>U188</td><td>2025-04-20</td><td>P940</td><td>Fashion</td><td>Sneakers</td><td>2</td><td>58.53</td><td>PayPal</td><td>Cancelled</td></tr><tr><td>1002</td><td>U062</td><td>2025-04-16</td><td>P794</td><td>Fashion</td><td>T-Shirt</td><td>3</td><td>83.76</td><td>UPI</td><td>Returned</td></tr><tr><td>1003</td><td>U058</td><td>2025-04-18</td><td>P326</td><td>Fashion</td><td>Sunglasses</td><td>2</td><td>78.85</td><td>PayPal</td><td>Processing</td></tr><tr><td>1004</td><td>U011</td><td>2025-04-10</td><td>P574</td><td>Fashion</td><td>Sunglasses</td><td>5</td><td>46.49</td><td>PayPal</td><td>Delivered</td></tr><tr><td>1005</td><td>U003</td><td>2025-04-19</td><td>P988</td><td>Home Decor</td><td>Photo Frame</td><td>2</td><td>78.61</td><td>PayPal</td><td>Returned</td></tr><tr><td>1006</td><td>U017</td><td>2025-04-15</td><td>P328</td><td>Kitchen</td><td>Knife Set</td><td>4</td><td>53.51</td><td>Credit Card</td><td>Returned</td></tr><tr><td>1007</td><td>U129</td><td>2025-04-23</td><td>P786</td><td>Home Decor</td><td>Wall Clock</td><td>5</td><td>12.71</td><td>Credit Card</td><td>Returned</td></tr><tr><td>1008</td><td>U102</td><td>2025-04-15</td><td>P101</td><td>Home Decor</td><td>Photo Frame</td><td>1</td><td>46.6</td><td>Debit Card</td><td>Cancelled</td></tr><tr><td>1009</td><td>U040</td><td>2025-04-04</td><td>P610</td><td>Kitchen</td><td>Toaster</td><td>4</td><td>35.87</td><td>Credit Card</td><td>Processing</td></tr><tr><td>1010</td><td>U186</td><td>2025-04-29</td><td>P354</td><td>Kitchen</td><td>Microwave</td><td>1</td><td>30.95</td><td>Credit Card</td><td>Processing</td></tr></tbody></table></div>"
      ]
     },
     "metadata": {
      "application/vnd.databricks.v1+output": {
       "addedWidgets": {},
       "aggData": [],
       "aggError": "",
       "aggOverflow": false,
       "aggSchema": [],
       "aggSeriesLimitReached": false,
       "aggType": "",
       "arguments": {},
       "columnCustomDisplayInfos": {},
       "data": [
        [
         1001,
         "U188",
         "2025-04-20",
         "P940",
         "Fashion",
         "Sneakers",
         2,
         58.53,
         "PayPal",
         "Cancelled"
        ],
        [
         1002,
         "U062",
         "2025-04-16",
         "P794",
         "Fashion",
         "T-Shirt",
         3,
         83.76,
         "UPI",
         "Returned"
        ],
        [
         1003,
         "U058",
         "2025-04-18",
         "P326",
         "Fashion",
         "Sunglasses",
         2,
         78.85,
         "PayPal",
         "Processing"
        ],
        [
         1004,
         "U011",
         "2025-04-10",
         "P574",
         "Fashion",
         "Sunglasses",
         5,
         46.49,
         "PayPal",
         "Delivered"
        ],
        [
         1005,
         "U003",
         "2025-04-19",
         "P988",
         "Home Decor",
         "Photo Frame",
         2,
         78.61,
         "PayPal",
         "Returned"
        ],
        [
         1006,
         "U017",
         "2025-04-15",
         "P328",
         "Kitchen",
         "Knife Set",
         4,
         53.51,
         "Credit Card",
         "Returned"
        ],
        [
         1007,
         "U129",
         "2025-04-23",
         "P786",
         "Home Decor",
         "Wall Clock",
         5,
         12.71,
         "Credit Card",
         "Returned"
        ],
        [
         1008,
         "U102",
         "2025-04-15",
         "P101",
         "Home Decor",
         "Photo Frame",
         1,
         46.6,
         "Debit Card",
         "Cancelled"
        ],
        [
         1009,
         "U040",
         "2025-04-04",
         "P610",
         "Kitchen",
         "Toaster",
         4,
         35.87,
         "Credit Card",
         "Processing"
        ],
        [
         1010,
         "U186",
         "2025-04-29",
         "P354",
         "Kitchen",
         "Microwave",
         1,
         30.95,
         "Credit Card",
         "Processing"
        ]
       ],
       "datasetInfos": [
        {
         "name": "_sqldf",
         "schema": {
          "fields": [
           {
            "metadata": {},
            "name": "order_id",
            "nullable": true,
            "type": "integer"
           },
           {
            "metadata": {},
            "name": "user_id",
            "nullable": true,
            "type": "string"
           },
           {
            "metadata": {
             "__detected_date_formats": "yyyy-M-d"
            },
            "name": "order_date",
            "nullable": true,
            "type": "date"
           },
           {
            "metadata": {},
            "name": "product_id",
            "nullable": true,
            "type": "string"
           },
           {
            "metadata": {},
            "name": "product_category",
            "nullable": true,
            "type": "string"
           },
           {
            "metadata": {},
            "name": "product_name",
            "nullable": true,
            "type": "string"
           },
           {
            "metadata": {},
            "name": "quantity",
            "nullable": true,
            "type": "integer"
           },
           {
            "metadata": {},
            "name": "price_per_unit",
            "nullable": true,
            "type": "double"
           },
           {
            "metadata": {},
            "name": "payment_method",
            "nullable": true,
            "type": "string"
           },
           {
            "metadata": {},
            "name": "order_status",
            "nullable": true,
            "type": "string"
           }
          ],
          "type": "struct"
         },
         "tableIdentifier": null,
         "typeStr": "pyspark.sql.connect.dataframe.DataFrame"
        }
       ],
       "dbfsResultPath": null,
       "isJsonSchema": true,
       "metadata": {
        "createTempViewForImplicitDf": true,
        "dataframeName": "_sqldf",
        "executionCount": 7
       },
       "overflow": false,
       "plotOptions": {
        "customPlotOptions": {},
        "displayType": "table",
        "pivotAggregation": null,
        "pivotColumns": null,
        "xColumns": null,
        "yColumns": null
       },
       "removedWidgets": [],
       "schema": [
        {
         "metadata": "{}",
         "name": "order_id",
         "type": "\"integer\""
        },
        {
         "metadata": "{}",
         "name": "user_id",
         "type": "\"string\""
        },
        {
         "metadata": "{\"__detected_date_formats\": \"yyyy-M-d\"}",
         "name": "order_date",
         "type": "\"date\""
        },
        {
         "metadata": "{}",
         "name": "product_id",
         "type": "\"string\""
        },
        {
         "metadata": "{}",
         "name": "product_category",
         "type": "\"string\""
        },
        {
         "metadata": "{}",
         "name": "product_name",
         "type": "\"string\""
        },
        {
         "metadata": "{}",
         "name": "quantity",
         "type": "\"integer\""
        },
        {
         "metadata": "{}",
         "name": "price_per_unit",
         "type": "\"double\""
        },
        {
         "metadata": "{}",
         "name": "payment_method",
         "type": "\"string\""
        },
        {
         "metadata": "{}",
         "name": "order_status",
         "type": "\"string\""
        }
       ],
       "type": "table"
      }
     },
     "output_type": "display_data"
    }
   ],
   "source": [
    "SELECT * FROM order_source LIMIT 10"
   ]
  },
  {
   "cell_type": "code",
   "execution_count": 0,
   "metadata": {
    "application/vnd.databricks.v1+cell": {
     "cellMetadata": {
      "byteLimit": 2048000,
      "rowLimit": 10000
     },
     "inputWidgets": {},
     "nuid": "7b44c7f1-2aa5-430f-bfb5-9d21f1109c54",
     "showTitle": false,
     "tableResultSettingsMap": {},
     "title": ""
    }
   },
   "outputs": [
    {
     "output_type": "display_data",
     "data": {
      "text/html": [
       "<style scoped>\n",
       "  .table-result-container {\n",
       "    max-height: 300px;\n",
       "    overflow: auto;\n",
       "  }\n",
       "  table, th, td {\n",
       "    border: 1px solid black;\n",
       "    border-collapse: collapse;\n",
       "  }\n",
       "  th, td {\n",
       "    padding: 5px;\n",
       "  }\n",
       "  th {\n",
       "    text-align: left;\n",
       "  }\n",
       "</style><div class='table-result-container'><table class='table-result'><thead style='background-color: white'><tr><th>num_affected_rows</th><th>num_updated_rows</th><th>num_deleted_rows</th><th>num_inserted_rows</th></tr></thead><tbody><tr><td>1000</td><td>1000</td><td>0</td><td>0</td></tr></tbody></table></div>"
      ]
     },
     "metadata": {
      "application/vnd.databricks.v1+output": {
       "addedWidgets": {},
       "aggData": [],
       "aggError": "",
       "aggOverflow": false,
       "aggSchema": [],
       "aggSeriesLimitReached": false,
       "aggType": "",
       "arguments": {},
       "columnCustomDisplayInfos": {},
       "data": [
        [
         1000,
         1000,
         0,
         0
        ]
       ],
       "datasetInfos": [
        {
         "name": "_sqldf",
         "schema": {
          "fields": [
           {
            "metadata": {},
            "name": "num_affected_rows",
            "nullable": true,
            "type": "long"
           },
           {
            "metadata": {},
            "name": "num_updated_rows",
            "nullable": true,
            "type": "long"
           },
           {
            "metadata": {},
            "name": "num_deleted_rows",
            "nullable": true,
            "type": "long"
           },
           {
            "metadata": {},
            "name": "num_inserted_rows",
            "nullable": true,
            "type": "long"
           }
          ],
          "type": "struct"
         },
         "tableIdentifier": null,
         "typeStr": "pyspark.sql.connect.dataframe.DataFrame"
        }
       ],
       "dbfsResultPath": null,
       "isJsonSchema": true,
       "metadata": {
        "createTempViewForImplicitDf": true,
        "dataframeName": "_sqldf",
        "executionCount": 13
       },
       "overflow": false,
       "plotOptions": {
        "customPlotOptions": {},
        "displayType": "table",
        "pivotAggregation": null,
        "pivotColumns": null,
        "xColumns": null,
        "yColumns": null
       },
       "removedWidgets": [],
       "schema": [
        {
         "metadata": "{}",
         "name": "num_affected_rows",
         "type": "\"long\""
        },
        {
         "metadata": "{}",
         "name": "num_updated_rows",
         "type": "\"long\""
        },
        {
         "metadata": "{}",
         "name": "num_deleted_rows",
         "type": "\"long\""
        },
        {
         "metadata": "{}",
         "name": "num_inserted_rows",
         "type": "\"long\""
        }
       ],
       "type": "table"
      }
     },
     "output_type": "display_data"
    }
   ],
   "source": [
    "-- google: upsert/merge databricks\n",
    "-- https://docs.databricks.com/gcp/en/delta/merge\n",
    "\n",
    "MERGE INTO sparksql_cata.sparksql_schema.orders_ext trg\n",
    "USING order_source src\n",
    "ON trg.order_id = src.order_id\n",
    "WHEN MATCHED THEN UPDATE SET *\n",
    "WHEN NOT MATCHED THEN INSERT *"
   ]
  },
  {
   "cell_type": "code",
   "execution_count": 0,
   "metadata": {
    "application/vnd.databricks.v1+cell": {
     "cellMetadata": {},
     "inputWidgets": {},
     "nuid": "a05ad7c4-b12b-462e-ae52-57b6346f3a4e",
     "showTitle": false,
     "tableResultSettingsMap": {},
     "title": ""
    }
   },
   "outputs": [],
   "source": []
  }
 ],
 "metadata": {
  "application/vnd.databricks.v1+notebook": {
   "computePreferences": {
    "hardware": {
     "accelerator": null,
     "gpuPoolId": null,
     "memory": null
    }
   },
   "dashboards": [],
   "environmentMetadata": {
    "base_environment": "",
    "environment_version": "3"
   },
   "inputWidgetPreferences": null,
   "language": "sql",
   "notebookMetadata": {
    "pythonIndentUnit": 4
   },
   "notebookName": "3_sparksql - Upsert n Merge",
   "widgets": {}
  },
  "language_info": {
   "name": "sql"
  }
 },
 "nbformat": 4,
 "nbformat_minor": 0
}