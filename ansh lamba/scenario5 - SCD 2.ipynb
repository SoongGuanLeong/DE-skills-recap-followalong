{
 "cells": [
  {
   "cell_type": "markdown",
   "metadata": {
    "application/vnd.databricks.v1+cell": {
     "cellMetadata": {},
     "inputWidgets": {},
     "nuid": "e8ea6d0e-b28b-4a32-a250-62d495afb550",
     "showTitle": false,
     "tableResultSettingsMap": {},
     "title": ""
    }
   },
   "source": [
    "# Scenario 5\n",
    "\n",
    "A retail company maintains a product catalog in its data warehouse. Product details such as name, category and price may change over time due to rebranding, category updates or pricing adjustments. To preserve historical data for accurate reporting and trend analysis, the company needs to implement a **Slowly Changing Dimension (SCD) Type 2** mechanism in PySpark, ensuring old records are retained with effective data ranges while new versions are inserted as separate records."
   ]
  },
  {
   "cell_type": "code",
   "execution_count": 0,
   "metadata": {
    "application/vnd.databricks.v1+cell": {
     "cellMetadata": {
      "byteLimit": 2048000,
      "implicitDf": true,
      "rowLimit": 10000
     },
     "inputWidgets": {},
     "nuid": "2d25f9df-70ed-4746-b910-939bb136ddbb",
     "showTitle": false,
     "tableResultSettingsMap": {},
     "title": ""
    }
   },
   "outputs": [],
   "source": [
    "%sql\n",
    "CREATE TABLE pyspark_cata.source.customers\n",
    "(\n",
    "  id STRING,\n",
    "  email STRING,\n",
    "  city STRING,\n",
    "  country STRING,\n",
    "  modifiedDate TIMESTAMP\n",
    ")"
   ]
  },
  {
   "cell_type": "code",
   "execution_count": 0,
   "metadata": {
    "application/vnd.databricks.v1+cell": {
     "cellMetadata": {
      "byteLimit": 2048000,
      "implicitDf": true,
      "rowLimit": 10000
     },
     "inputWidgets": {},
     "nuid": "75fa7de3-fef9-4205-acd1-c3aff2e55898",
     "showTitle": false,
     "tableResultSettingsMap": {},
     "title": ""
    }
   },
   "outputs": [
    {
     "output_type": "display_data",
     "data": {
      "text/html": [
       "<style scoped>\n",
       "  .table-result-container {\n",
       "    max-height: 300px;\n",
       "    overflow: auto;\n",
       "  }\n",
       "  table, th, td {\n",
       "    border: 1px solid black;\n",
       "    border-collapse: collapse;\n",
       "  }\n",
       "  th, td {\n",
       "    padding: 5px;\n",
       "  }\n",
       "  th {\n",
       "    text-align: left;\n",
       "  }\n",
       "</style><div class='table-result-container'><table class='table-result'><thead style='background-color: white'><tr><th>num_affected_rows</th><th>num_inserted_rows</th></tr></thead><tbody><tr><td>2</td><td>2</td></tr></tbody></table></div>"
      ]
     },
     "metadata": {
      "application/vnd.databricks.v1+output": {
       "addedWidgets": {},
       "aggData": [],
       "aggError": "",
       "aggOverflow": false,
       "aggSchema": [],
       "aggSeriesLimitReached": false,
       "aggType": "",
       "arguments": {},
       "columnCustomDisplayInfos": {},
       "data": [
        [
         2,
         2
        ]
       ],
       "datasetInfos": [
        {
         "name": "_sqldf",
         "schema": {
          "fields": [
           {
            "metadata": {},
            "name": "num_affected_rows",
            "nullable": true,
            "type": "long"
           },
           {
            "metadata": {},
            "name": "num_inserted_rows",
            "nullable": true,
            "type": "long"
           }
          ],
          "type": "struct"
         },
         "tableIdentifier": null,
         "typeStr": "pyspark.sql.connect.dataframe.DataFrame"
        }
       ],
       "dbfsResultPath": null,
       "isJsonSchema": true,
       "metadata": {
        "createTempViewForImplicitDf": true,
        "dataframeName": "_sqldf",
        "executionCount": 74
       },
       "overflow": false,
       "plotOptions": {
        "customPlotOptions": {},
        "displayType": "table",
        "pivotAggregation": null,
        "pivotColumns": null,
        "xColumns": null,
        "yColumns": null
       },
       "removedWidgets": [],
       "schema": [
        {
         "metadata": "{}",
         "name": "num_affected_rows",
         "type": "\"long\""
        },
        {
         "metadata": "{}",
         "name": "num_inserted_rows",
         "type": "\"long\""
        }
       ],
       "type": "table"
      }
     },
     "output_type": "display_data"
    }
   ],
   "source": [
    "%sql\n",
    "INSERT INTO pyspark_cata.source.customers\n",
    "VALUES\n",
    "('1', 'john.smith@example.com', 'Seattle', 'USA', current_timestamp()),\n",
    "('6', 'jane.doe@example.com', 'London', 'UK', current_timestamp())"
   ]
  },
  {
   "cell_type": "code",
   "execution_count": 0,
   "metadata": {
    "application/vnd.databricks.v1+cell": {
     "cellMetadata": {
      "byteLimit": 2048000,
      "implicitDf": true,
      "rowLimit": 10000
     },
     "inputWidgets": {},
     "nuid": "00dd9dd9-6a18-49d9-ac44-d7fe83d5bef1",
     "showTitle": false,
     "tableResultSettingsMap": {},
     "title": ""
    }
   },
   "outputs": [
    {
     "output_type": "display_data",
     "data": {
      "text/html": [
       "<style scoped>\n",
       "  .table-result-container {\n",
       "    max-height: 300px;\n",
       "    overflow: auto;\n",
       "  }\n",
       "  table, th, td {\n",
       "    border: 1px solid black;\n",
       "    border-collapse: collapse;\n",
       "  }\n",
       "  th, td {\n",
       "    padding: 5px;\n",
       "  }\n",
       "  th {\n",
       "    text-align: left;\n",
       "  }\n",
       "</style><div class='table-result-container'><table class='table-result'><thead style='background-color: white'><tr><th>id</th><th>email</th><th>city</th><th>country</th><th>modifiedDate</th></tr></thead><tbody><tr><td>1</td><td>john.smith@example.com</td><td>New York</td><td>USA</td><td>2025-08-20T09:02:56.308Z</td></tr><tr><td>2</td><td>jane.doe@example.com</td><td>London</td><td>UK</td><td>2025-08-20T09:02:56.308Z</td></tr><tr><td>3</td><td>mike.williams@example.com</td><td>Paris</td><td>France</td><td>2025-08-20T09:02:56.308Z</td></tr><tr><td>4</td><td>sara.jones@example.com</td><td>Tokyo</td><td>Japan</td><td>2025-08-20T09:02:56.308Z</td></tr><tr><td>5</td><td>peter.chan@example.com</td><td>Sydney</td><td>Australia</td><td>2025-08-20T09:02:56.308Z</td></tr><tr><td>1</td><td>john.smith@example.com</td><td>Seattle</td><td>USA</td><td>2025-08-20T09:54:36.074Z</td></tr><tr><td>6</td><td>jane.doe@example.com</td><td>London</td><td>UK</td><td>2025-08-20T09:54:36.074Z</td></tr></tbody></table></div>"
      ]
     },
     "metadata": {
      "application/vnd.databricks.v1+output": {
       "addedWidgets": {},
       "aggData": [],
       "aggError": "",
       "aggOverflow": false,
       "aggSchema": [],
       "aggSeriesLimitReached": false,
       "aggType": "",
       "arguments": {},
       "columnCustomDisplayInfos": {},
       "data": [
        [
         "1",
         "john.smith@example.com",
         "New York",
         "USA",
         "2025-08-20T09:02:56.308Z"
        ],
        [
         "2",
         "jane.doe@example.com",
         "London",
         "UK",
         "2025-08-20T09:02:56.308Z"
        ],
        [
         "3",
         "mike.williams@example.com",
         "Paris",
         "France",
         "2025-08-20T09:02:56.308Z"
        ],
        [
         "4",
         "sara.jones@example.com",
         "Tokyo",
         "Japan",
         "2025-08-20T09:02:56.308Z"
        ],
        [
         "5",
         "peter.chan@example.com",
         "Sydney",
         "Australia",
         "2025-08-20T09:02:56.308Z"
        ],
        [
         "1",
         "john.smith@example.com",
         "Seattle",
         "USA",
         "2025-08-20T09:54:36.074Z"
        ],
        [
         "6",
         "jane.doe@example.com",
         "London",
         "UK",
         "2025-08-20T09:54:36.074Z"
        ]
       ],
       "datasetInfos": [
        {
         "name": "_sqldf",
         "schema": {
          "fields": [
           {
            "metadata": {},
            "name": "id",
            "nullable": true,
            "type": "string"
           },
           {
            "metadata": {},
            "name": "email",
            "nullable": true,
            "type": "string"
           },
           {
            "metadata": {},
            "name": "city",
            "nullable": true,
            "type": "string"
           },
           {
            "metadata": {},
            "name": "country",
            "nullable": true,
            "type": "string"
           },
           {
            "metadata": {},
            "name": "modifiedDate",
            "nullable": true,
            "type": "timestamp"
           }
          ],
          "type": "struct"
         },
         "tableIdentifier": null,
         "typeStr": "pyspark.sql.connect.dataframe.DataFrame"
        }
       ],
       "dbfsResultPath": null,
       "isJsonSchema": true,
       "metadata": {
        "createTempViewForImplicitDf": true,
        "dataframeName": "_sqldf",
        "executionCount": 75
       },
       "overflow": false,
       "plotOptions": {
        "customPlotOptions": {},
        "displayType": "table",
        "pivotAggregation": null,
        "pivotColumns": null,
        "xColumns": null,
        "yColumns": null
       },
       "removedWidgets": [],
       "schema": [
        {
         "metadata": "{}",
         "name": "id",
         "type": "\"string\""
        },
        {
         "metadata": "{}",
         "name": "email",
         "type": "\"string\""
        },
        {
         "metadata": "{}",
         "name": "city",
         "type": "\"string\""
        },
        {
         "metadata": "{}",
         "name": "country",
         "type": "\"string\""
        },
        {
         "metadata": "{}",
         "name": "modifiedDate",
         "type": "\"timestamp\""
        }
       ],
       "type": "table"
      }
     },
     "output_type": "display_data"
    }
   ],
   "source": [
    "%sql\n",
    "SELECT * FROM pyspark_cata.source.customers"
   ]
  },
  {
   "cell_type": "code",
   "execution_count": 0,
   "metadata": {
    "application/vnd.databricks.v1+cell": {
     "cellMetadata": {
      "byteLimit": 2048000,
      "rowLimit": 10000
     },
     "inputWidgets": {},
     "nuid": "2b013635-554e-4e0c-9f6e-4dc3408a2364",
     "showTitle": false,
     "tableResultSettingsMap": {},
     "title": ""
    }
   },
   "outputs": [],
   "source": [
    "if spark.catalog.tableExists(\"pyspark_cata.source.DimCustomers\"):\n",
    "    pass\n",
    "else:\n",
    "    spark.sql(\"\"\"\n",
    "              CREATE TABLE pyspark_cata.source.DimCustomers\n",
    "              SELECT *,\n",
    "                current_timestamp() as startTime,\n",
    "                CAST('3000-01-01' AS TIMESTAMP) as endTime,\n",
    "                'Y' as isActive\n",
    "              FROM pyspark_cata.source.customers\n",
    "              \"\"\")"
   ]
  },
  {
   "cell_type": "code",
   "execution_count": 0,
   "metadata": {
    "application/vnd.databricks.v1+cell": {
     "cellMetadata": {
      "byteLimit": 2048000,
      "implicitDf": true,
      "rowLimit": 10000
     },
     "inputWidgets": {},
     "nuid": "7ba8acf6-e329-4e5c-8837-299a713735df",
     "showTitle": false,
     "tableResultSettingsMap": {},
     "title": ""
    }
   },
   "outputs": [
    {
     "output_type": "display_data",
     "data": {
      "text/html": [
       "<style scoped>\n",
       "  .table-result-container {\n",
       "    max-height: 300px;\n",
       "    overflow: auto;\n",
       "  }\n",
       "  table, th, td {\n",
       "    border: 1px solid black;\n",
       "    border-collapse: collapse;\n",
       "  }\n",
       "  th, td {\n",
       "    padding: 5px;\n",
       "  }\n",
       "  th {\n",
       "    text-align: left;\n",
       "  }\n",
       "</style><div class='table-result-container'><table class='table-result'><thead style='background-color: white'><tr><th>id</th><th>email</th><th>city</th><th>country</th><th>modifiedDate</th><th>startTime</th><th>endTime</th><th>isActive</th></tr></thead><tbody><tr><td>1</td><td>john.smith@example.com</td><td>New York</td><td>USA</td><td>2025-08-20T09:02:56.308Z</td><td>2025-08-20T09:05:31.271Z</td><td>3000-01-01T00:00:00.000Z</td><td>Y</td></tr><tr><td>2</td><td>jane.doe@example.com</td><td>London</td><td>UK</td><td>2025-08-20T09:02:56.308Z</td><td>2025-08-20T09:05:31.271Z</td><td>3000-01-01T00:00:00.000Z</td><td>Y</td></tr><tr><td>3</td><td>mike.williams@example.com</td><td>Paris</td><td>France</td><td>2025-08-20T09:02:56.308Z</td><td>2025-08-20T09:05:31.271Z</td><td>3000-01-01T00:00:00.000Z</td><td>Y</td></tr><tr><td>4</td><td>sara.jones@example.com</td><td>Tokyo</td><td>Japan</td><td>2025-08-20T09:02:56.308Z</td><td>2025-08-20T09:05:31.271Z</td><td>3000-01-01T00:00:00.000Z</td><td>Y</td></tr><tr><td>5</td><td>peter.chan@example.com</td><td>Sydney</td><td>Australia</td><td>2025-08-20T09:02:56.308Z</td><td>2025-08-20T09:05:31.271Z</td><td>3000-01-01T00:00:00.000Z</td><td>Y</td></tr></tbody></table></div>"
      ]
     },
     "metadata": {
      "application/vnd.databricks.v1+output": {
       "addedWidgets": {},
       "aggData": [],
       "aggError": "",
       "aggOverflow": false,
       "aggSchema": [],
       "aggSeriesLimitReached": false,
       "aggType": "",
       "arguments": {},
       "columnCustomDisplayInfos": {},
       "data": [
        [
         "1",
         "john.smith@example.com",
         "New York",
         "USA",
         "2025-08-20T09:02:56.308Z",
         "2025-08-20T09:05:31.271Z",
         "3000-01-01T00:00:00.000Z",
         "Y"
        ],
        [
         "2",
         "jane.doe@example.com",
         "London",
         "UK",
         "2025-08-20T09:02:56.308Z",
         "2025-08-20T09:05:31.271Z",
         "3000-01-01T00:00:00.000Z",
         "Y"
        ],
        [
         "3",
         "mike.williams@example.com",
         "Paris",
         "France",
         "2025-08-20T09:02:56.308Z",
         "2025-08-20T09:05:31.271Z",
         "3000-01-01T00:00:00.000Z",
         "Y"
        ],
        [
         "4",
         "sara.jones@example.com",
         "Tokyo",
         "Japan",
         "2025-08-20T09:02:56.308Z",
         "2025-08-20T09:05:31.271Z",
         "3000-01-01T00:00:00.000Z",
         "Y"
        ],
        [
         "5",
         "peter.chan@example.com",
         "Sydney",
         "Australia",
         "2025-08-20T09:02:56.308Z",
         "2025-08-20T09:05:31.271Z",
         "3000-01-01T00:00:00.000Z",
         "Y"
        ]
       ],
       "datasetInfos": [
        {
         "name": "_sqldf",
         "schema": {
          "fields": [
           {
            "metadata": {},
            "name": "id",
            "nullable": true,
            "type": "string"
           },
           {
            "metadata": {},
            "name": "email",
            "nullable": true,
            "type": "string"
           },
           {
            "metadata": {},
            "name": "city",
            "nullable": true,
            "type": "string"
           },
           {
            "metadata": {},
            "name": "country",
            "nullable": true,
            "type": "string"
           },
           {
            "metadata": {},
            "name": "modifiedDate",
            "nullable": true,
            "type": "timestamp"
           },
           {
            "metadata": {},
            "name": "startTime",
            "nullable": true,
            "type": "timestamp"
           },
           {
            "metadata": {},
            "name": "endTime",
            "nullable": true,
            "type": "timestamp"
           },
           {
            "metadata": {},
            "name": "isActive",
            "nullable": true,
            "type": "string"
           }
          ],
          "type": "struct"
         },
         "tableIdentifier": null,
         "typeStr": "pyspark.sql.connect.dataframe.DataFrame"
        }
       ],
       "dbfsResultPath": null,
       "isJsonSchema": true,
       "metadata": {
        "createTempViewForImplicitDf": true,
        "dataframeName": "_sqldf",
        "executionCount": 36
       },
       "overflow": false,
       "plotOptions": {
        "customPlotOptions": {},
        "displayType": "table",
        "pivotAggregation": null,
        "pivotColumns": null,
        "xColumns": null,
        "yColumns": null
       },
       "removedWidgets": [],
       "schema": [
        {
         "metadata": "{}",
         "name": "id",
         "type": "\"string\""
        },
        {
         "metadata": "{}",
         "name": "email",
         "type": "\"string\""
        },
        {
         "metadata": "{}",
         "name": "city",
         "type": "\"string\""
        },
        {
         "metadata": "{}",
         "name": "country",
         "type": "\"string\""
        },
        {
         "metadata": "{}",
         "name": "modifiedDate",
         "type": "\"timestamp\""
        },
        {
         "metadata": "{}",
         "name": "startTime",
         "type": "\"timestamp\""
        },
        {
         "metadata": "{}",
         "name": "endTime",
         "type": "\"timestamp\""
        },
        {
         "metadata": "{}",
         "name": "isActive",
         "type": "\"string\""
        }
       ],
       "type": "table"
      }
     },
     "output_type": "display_data"
    }
   ],
   "source": [
    "%sql\n",
    "SELECT * FROM pyspark_cata.source.DimCustomers"
   ]
  },
  {
   "cell_type": "markdown",
   "metadata": {
    "application/vnd.databricks.v1+cell": {
     "cellMetadata": {},
     "inputWidgets": {},
     "nuid": "4caac82f-7c7a-4692-838e-8c84a6c20a62",
     "showTitle": false,
     "tableResultSettingsMap": {},
     "title": ""
    }
   },
   "source": [
    "## **SCD TYPE-2**"
   ]
  },
  {
   "cell_type": "code",
   "execution_count": 0,
   "metadata": {
    "application/vnd.databricks.v1+cell": {
     "cellMetadata": {
      "byteLimit": 2048000,
      "rowLimit": 10000
     },
     "inputWidgets": {},
     "nuid": "11381f0d-6de1-4544-9fcd-66e3ccd9fd1c",
     "showTitle": false,
     "tableResultSettingsMap": {},
     "title": ""
    }
   },
   "outputs": [],
   "source": [
    "from pyspark.sql.functions import *\n",
    "from pyspark.sql.window import Window\n",
    "from delta.tables import DeltaTable"
   ]
  },
  {
   "cell_type": "code",
   "execution_count": 0,
   "metadata": {
    "application/vnd.databricks.v1+cell": {
     "cellMetadata": {
      "byteLimit": 2048000,
      "rowLimit": 10000
     },
     "inputWidgets": {},
     "nuid": "4c801cf4-9ea1-4eb2-b193-24312c8bcbab",
     "showTitle": false,
     "tableResultSettingsMap": {},
     "title": ""
    }
   },
   "outputs": [],
   "source": [
    "df = spark.sql(\"\"\"\n",
    "               SELECT * FROM pyspark_cata.source.customers\n",
    "               \"\"\")\n",
    "\n",
    "df = df.withColumn(\"dedup\", row_number().over(Window.partitionBy('id').orderBy(desc('modifiedDate'))))\\\n",
    "  .drop('dedup')\n",
    "\n",
    "df = df.filter(col('dedup') == 1)\n",
    "\n",
    "df.createOrReplaceTempView('srctemp')\n",
    "\n",
    "df = spark.sql(\"\"\"\n",
    "              SELECT *,\n",
    "                current_timestamp() as startTime,\n",
    "                CAST('3000-01-01' AS TIMESTAMP) as endTime,\n",
    "                'Y' as isActive\n",
    "              FROM srctemp\n",
    "              \"\"\")\n",
    "\n",
    "df.createOrReplaceTempView('src')"
   ]
  },
  {
   "cell_type": "code",
   "execution_count": 0,
   "metadata": {
    "application/vnd.databricks.v1+cell": {
     "cellMetadata": {
      "byteLimit": 2048000,
      "implicitDf": true,
      "rowLimit": 10000
     },
     "inputWidgets": {},
     "nuid": "6a944f21-7970-4cea-aa71-1f2369751468",
     "showTitle": false,
     "tableResultSettingsMap": {},
     "title": ""
    }
   },
   "outputs": [
    {
     "output_type": "display_data",
     "data": {
      "text/html": [
       "<style scoped>\n",
       "  .table-result-container {\n",
       "    max-height: 300px;\n",
       "    overflow: auto;\n",
       "  }\n",
       "  table, th, td {\n",
       "    border: 1px solid black;\n",
       "    border-collapse: collapse;\n",
       "  }\n",
       "  th, td {\n",
       "    padding: 5px;\n",
       "  }\n",
       "  th {\n",
       "    text-align: left;\n",
       "  }\n",
       "</style><div class='table-result-container'><table class='table-result'><thead style='background-color: white'><tr><th>id</th><th>email</th><th>city</th><th>country</th><th>modifiedDate</th><th>startTime</th><th>endTime</th><th>isActive</th></tr></thead><tbody><tr><td>1</td><td>john.smith@example.com</td><td>Seattle</td><td>USA</td><td>2025-08-20T09:54:36.074Z</td><td>2025-08-20T09:59:23.329Z</td><td>3000-01-01T00:00:00.000Z</td><td>Y</td></tr><tr><td>2</td><td>jane.doe@example.com</td><td>London</td><td>UK</td><td>2025-08-20T09:02:56.308Z</td><td>2025-08-20T09:59:23.329Z</td><td>3000-01-01T00:00:00.000Z</td><td>Y</td></tr><tr><td>3</td><td>mike.williams@example.com</td><td>Paris</td><td>France</td><td>2025-08-20T09:02:56.308Z</td><td>2025-08-20T09:59:23.329Z</td><td>3000-01-01T00:00:00.000Z</td><td>Y</td></tr><tr><td>4</td><td>sara.jones@example.com</td><td>Tokyo</td><td>Japan</td><td>2025-08-20T09:02:56.308Z</td><td>2025-08-20T09:59:23.329Z</td><td>3000-01-01T00:00:00.000Z</td><td>Y</td></tr><tr><td>5</td><td>peter.chan@example.com</td><td>Sydney</td><td>Australia</td><td>2025-08-20T09:02:56.308Z</td><td>2025-08-20T09:59:23.329Z</td><td>3000-01-01T00:00:00.000Z</td><td>Y</td></tr><tr><td>6</td><td>jane.doe@example.com</td><td>London</td><td>UK</td><td>2025-08-20T09:54:36.074Z</td><td>2025-08-20T09:59:23.329Z</td><td>3000-01-01T00:00:00.000Z</td><td>Y</td></tr></tbody></table></div>"
      ]
     },
     "metadata": {
      "application/vnd.databricks.v1+output": {
       "addedWidgets": {},
       "aggData": [],
       "aggError": "",
       "aggOverflow": false,
       "aggSchema": [],
       "aggSeriesLimitReached": false,
       "aggType": "",
       "arguments": {},
       "columnCustomDisplayInfos": {},
       "data": [
        [
         "1",
         "john.smith@example.com",
         "Seattle",
         "USA",
         "2025-08-20T09:54:36.074Z",
         "2025-08-20T09:59:23.329Z",
         "3000-01-01T00:00:00.000Z",
         "Y"
        ],
        [
         "2",
         "jane.doe@example.com",
         "London",
         "UK",
         "2025-08-20T09:02:56.308Z",
         "2025-08-20T09:59:23.329Z",
         "3000-01-01T00:00:00.000Z",
         "Y"
        ],
        [
         "3",
         "mike.williams@example.com",
         "Paris",
         "France",
         "2025-08-20T09:02:56.308Z",
         "2025-08-20T09:59:23.329Z",
         "3000-01-01T00:00:00.000Z",
         "Y"
        ],
        [
         "4",
         "sara.jones@example.com",
         "Tokyo",
         "Japan",
         "2025-08-20T09:02:56.308Z",
         "2025-08-20T09:59:23.329Z",
         "3000-01-01T00:00:00.000Z",
         "Y"
        ],
        [
         "5",
         "peter.chan@example.com",
         "Sydney",
         "Australia",
         "2025-08-20T09:02:56.308Z",
         "2025-08-20T09:59:23.329Z",
         "3000-01-01T00:00:00.000Z",
         "Y"
        ],
        [
         "6",
         "jane.doe@example.com",
         "London",
         "UK",
         "2025-08-20T09:54:36.074Z",
         "2025-08-20T09:59:23.329Z",
         "3000-01-01T00:00:00.000Z",
         "Y"
        ]
       ],
       "datasetInfos": [
        {
         "name": "_sqldf",
         "schema": {
          "fields": [
           {
            "metadata": {},
            "name": "id",
            "nullable": true,
            "type": "string"
           },
           {
            "metadata": {},
            "name": "email",
            "nullable": true,
            "type": "string"
           },
           {
            "metadata": {},
            "name": "city",
            "nullable": true,
            "type": "string"
           },
           {
            "metadata": {},
            "name": "country",
            "nullable": true,
            "type": "string"
           },
           {
            "metadata": {},
            "name": "modifiedDate",
            "nullable": true,
            "type": "timestamp"
           },
           {
            "metadata": {},
            "name": "startTime",
            "nullable": false,
            "type": "timestamp"
           },
           {
            "metadata": {},
            "name": "endTime",
            "nullable": true,
            "type": "timestamp"
           },
           {
            "metadata": {},
            "name": "isActive",
            "nullable": false,
            "type": "string"
           }
          ],
          "type": "struct"
         },
         "tableIdentifier": null,
         "typeStr": "pyspark.sql.connect.dataframe.DataFrame"
        }
       ],
       "dbfsResultPath": null,
       "isJsonSchema": true,
       "metadata": {
        "createTempViewForImplicitDf": true,
        "dataframeName": "_sqldf",
        "executionCount": 82
       },
       "overflow": false,
       "plotOptions": {
        "customPlotOptions": {},
        "displayType": "table",
        "pivotAggregation": null,
        "pivotColumns": null,
        "xColumns": null,
        "yColumns": null
       },
       "removedWidgets": [],
       "schema": [
        {
         "metadata": "{}",
         "name": "id",
         "type": "\"string\""
        },
        {
         "metadata": "{}",
         "name": "email",
         "type": "\"string\""
        },
        {
         "metadata": "{}",
         "name": "city",
         "type": "\"string\""
        },
        {
         "metadata": "{}",
         "name": "country",
         "type": "\"string\""
        },
        {
         "metadata": "{}",
         "name": "modifiedDate",
         "type": "\"timestamp\""
        },
        {
         "metadata": "{}",
         "name": "startTime",
         "type": "\"timestamp\""
        },
        {
         "metadata": "{}",
         "name": "endTime",
         "type": "\"timestamp\""
        },
        {
         "metadata": "{}",
         "name": "isActive",
         "type": "\"string\""
        }
       ],
       "type": "table"
      }
     },
     "output_type": "display_data"
    }
   ],
   "source": [
    "%sql\n",
    "SELECT * FROM src"
   ]
  },
  {
   "cell_type": "markdown",
   "metadata": {
    "application/vnd.databricks.v1+cell": {
     "cellMetadata": {},
     "inputWidgets": {},
     "nuid": "609d7336-a4b7-4bf0-a1ac-bf32d2b921f6",
     "showTitle": false,
     "tableResultSettingsMap": {},
     "title": ""
    }
   },
   "source": [
    "### **MERGE-1 Marking the updated records as expired**"
   ]
  },
  {
   "cell_type": "code",
   "execution_count": 0,
   "metadata": {
    "application/vnd.databricks.v1+cell": {
     "cellMetadata": {
      "byteLimit": 2048000,
      "implicitDf": true,
      "rowLimit": 10000
     },
     "inputWidgets": {},
     "nuid": "5e38160e-0485-4d1a-bfd9-63dfca26628b",
     "showTitle": false,
     "tableResultSettingsMap": {},
     "title": ""
    }
   },
   "outputs": [
    {
     "output_type": "display_data",
     "data": {
      "text/html": [
       "<style scoped>\n",
       "  .table-result-container {\n",
       "    max-height: 300px;\n",
       "    overflow: auto;\n",
       "  }\n",
       "  table, th, td {\n",
       "    border: 1px solid black;\n",
       "    border-collapse: collapse;\n",
       "  }\n",
       "  th, td {\n",
       "    padding: 5px;\n",
       "  }\n",
       "  th {\n",
       "    text-align: left;\n",
       "  }\n",
       "</style><div class='table-result-container'><table class='table-result'><thead style='background-color: white'><tr><th>num_affected_rows</th><th>num_updated_rows</th><th>num_deleted_rows</th><th>num_inserted_rows</th></tr></thead><tbody><tr><td>1</td><td>1</td><td>0</td><td>0</td></tr></tbody></table></div>"
      ]
     },
     "metadata": {
      "application/vnd.databricks.v1+output": {
       "addedWidgets": {},
       "aggData": [],
       "aggError": "",
       "aggOverflow": false,
       "aggSchema": [],
       "aggSeriesLimitReached": false,
       "aggType": "",
       "arguments": {},
       "columnCustomDisplayInfos": {},
       "data": [
        [
         1,
         1,
         0,
         0
        ]
       ],
       "datasetInfos": [
        {
         "name": "_sqldf",
         "schema": {
          "fields": [
           {
            "metadata": {},
            "name": "num_affected_rows",
            "nullable": true,
            "type": "long"
           },
           {
            "metadata": {},
            "name": "num_updated_rows",
            "nullable": true,
            "type": "long"
           },
           {
            "metadata": {},
            "name": "num_deleted_rows",
            "nullable": true,
            "type": "long"
           },
           {
            "metadata": {},
            "name": "num_inserted_rows",
            "nullable": true,
            "type": "long"
           }
          ],
          "type": "struct"
         },
         "tableIdentifier": null,
         "typeStr": "pyspark.sql.connect.dataframe.DataFrame"
        }
       ],
       "dbfsResultPath": null,
       "isJsonSchema": true,
       "metadata": {
        "createTempViewForImplicitDf": true,
        "dataframeName": "_sqldf",
        "executionCount": 84
       },
       "overflow": false,
       "plotOptions": {
        "customPlotOptions": {},
        "displayType": "table",
        "pivotAggregation": null,
        "pivotColumns": null,
        "xColumns": null,
        "yColumns": null
       },
       "removedWidgets": [],
       "schema": [
        {
         "metadata": "{}",
         "name": "num_affected_rows",
         "type": "\"long\""
        },
        {
         "metadata": "{}",
         "name": "num_updated_rows",
         "type": "\"long\""
        },
        {
         "metadata": "{}",
         "name": "num_deleted_rows",
         "type": "\"long\""
        },
        {
         "metadata": "{}",
         "name": "num_inserted_rows",
         "type": "\"long\""
        }
       ],
       "type": "table"
      }
     },
     "output_type": "display_data"
    }
   ],
   "source": [
    "%sql\n",
    "MERGE INTO pyspark_cata.source.DimCustomers as trg\n",
    "USING src as src\n",
    "ON trg.id = src.id\n",
    "AND trg.isActive = 'Y'\n",
    "\n",
    "WHEN MATCHED AND\n",
    "src.email <> trg.email\n",
    "OR src.city <> trg.city\n",
    "OR src.country <> trg.country\n",
    "OR src.modifiedDate <> trg.modifiedDate\n",
    "\n",
    "THEN UPDATE SET\n",
    "trg.endTime = current_timestamp(),\n",
    "trg.isActive = 'N'"
   ]
  },
  {
   "cell_type": "markdown",
   "metadata": {
    "application/vnd.databricks.v1+cell": {
     "cellMetadata": {},
     "inputWidgets": {},
     "nuid": "1f87ae39-556c-4408-9d6d-ec7b3fdc2843",
     "showTitle": false,
     "tableResultSettingsMap": {},
     "title": ""
    }
   },
   "source": [
    "### **MERGE-2 Inserting New And Updated Records**"
   ]
  },
  {
   "cell_type": "code",
   "execution_count": 0,
   "metadata": {
    "application/vnd.databricks.v1+cell": {
     "cellMetadata": {
      "byteLimit": 2048000,
      "implicitDf": true,
      "rowLimit": 10000
     },
     "inputWidgets": {},
     "nuid": "46bcf7ad-0277-4538-8dd5-6da094959c0f",
     "showTitle": false,
     "tableResultSettingsMap": {},
     "title": ""
    }
   },
   "outputs": [
    {
     "output_type": "display_data",
     "data": {
      "text/html": [
       "<style scoped>\n",
       "  .table-result-container {\n",
       "    max-height: 300px;\n",
       "    overflow: auto;\n",
       "  }\n",
       "  table, th, td {\n",
       "    border: 1px solid black;\n",
       "    border-collapse: collapse;\n",
       "  }\n",
       "  th, td {\n",
       "    padding: 5px;\n",
       "  }\n",
       "  th {\n",
       "    text-align: left;\n",
       "  }\n",
       "</style><div class='table-result-container'><table class='table-result'><thead style='background-color: white'><tr><th>num_affected_rows</th><th>num_updated_rows</th><th>num_deleted_rows</th><th>num_inserted_rows</th></tr></thead><tbody><tr><td>2</td><td>0</td><td>0</td><td>2</td></tr></tbody></table></div>"
      ]
     },
     "metadata": {
      "application/vnd.databricks.v1+output": {
       "addedWidgets": {},
       "aggData": [],
       "aggError": "",
       "aggOverflow": false,
       "aggSchema": [],
       "aggSeriesLimitReached": false,
       "aggType": "",
       "arguments": {},
       "columnCustomDisplayInfos": {},
       "data": [
        [
         2,
         0,
         0,
         2
        ]
       ],
       "datasetInfos": [
        {
         "name": "_sqldf",
         "schema": {
          "fields": [
           {
            "metadata": {},
            "name": "num_affected_rows",
            "nullable": true,
            "type": "long"
           },
           {
            "metadata": {},
            "name": "num_updated_rows",
            "nullable": true,
            "type": "long"
           },
           {
            "metadata": {},
            "name": "num_deleted_rows",
            "nullable": true,
            "type": "long"
           },
           {
            "metadata": {},
            "name": "num_inserted_rows",
            "nullable": true,
            "type": "long"
           }
          ],
          "type": "struct"
         },
         "tableIdentifier": null,
         "typeStr": "pyspark.sql.connect.dataframe.DataFrame"
        }
       ],
       "dbfsResultPath": null,
       "isJsonSchema": true,
       "metadata": {
        "createTempViewForImplicitDf": true,
        "dataframeName": "_sqldf",
        "executionCount": 85
       },
       "overflow": false,
       "plotOptions": {
        "customPlotOptions": {},
        "displayType": "table",
        "pivotAggregation": null,
        "pivotColumns": null,
        "xColumns": null,
        "yColumns": null
       },
       "removedWidgets": [],
       "schema": [
        {
         "metadata": "{}",
         "name": "num_affected_rows",
         "type": "\"long\""
        },
        {
         "metadata": "{}",
         "name": "num_updated_rows",
         "type": "\"long\""
        },
        {
         "metadata": "{}",
         "name": "num_deleted_rows",
         "type": "\"long\""
        },
        {
         "metadata": "{}",
         "name": "num_inserted_rows",
         "type": "\"long\""
        }
       ],
       "type": "table"
      }
     },
     "output_type": "display_data"
    }
   ],
   "source": [
    "%sql\n",
    "MERGE INTO pyspark_cata.source.DimCustomers as trg\n",
    "USING src as src\n",
    "ON src.id = trg.id\n",
    "AND trg.isActive = 'Y'\n",
    "\n",
    "WHEN NOT MATCHED\n",
    "THEN INSERT *"
   ]
  },
  {
   "cell_type": "code",
   "execution_count": 0,
   "metadata": {
    "application/vnd.databricks.v1+cell": {
     "cellMetadata": {
      "byteLimit": 2048000,
      "implicitDf": true,
      "rowLimit": 10000
     },
     "inputWidgets": {},
     "nuid": "ce6b4548-7b0c-4cd5-a4b0-a773f00e5791",
     "showTitle": false,
     "tableResultSettingsMap": {},
     "title": ""
    }
   },
   "outputs": [
    {
     "output_type": "display_data",
     "data": {
      "text/html": [
       "<style scoped>\n",
       "  .table-result-container {\n",
       "    max-height: 300px;\n",
       "    overflow: auto;\n",
       "  }\n",
       "  table, th, td {\n",
       "    border: 1px solid black;\n",
       "    border-collapse: collapse;\n",
       "  }\n",
       "  th, td {\n",
       "    padding: 5px;\n",
       "  }\n",
       "  th {\n",
       "    text-align: left;\n",
       "  }\n",
       "</style><div class='table-result-container'><table class='table-result'><thead style='background-color: white'><tr><th>id</th><th>email</th><th>city</th><th>country</th><th>modifiedDate</th><th>startTime</th><th>endTime</th><th>isActive</th></tr></thead><tbody><tr><td>2</td><td>jane.doe@example.com</td><td>London</td><td>UK</td><td>2025-08-20T09:02:56.308Z</td><td>2025-08-20T09:05:31.271Z</td><td>3000-01-01T00:00:00.000Z</td><td>Y</td></tr><tr><td>3</td><td>mike.williams@example.com</td><td>Paris</td><td>France</td><td>2025-08-20T09:02:56.308Z</td><td>2025-08-20T09:05:31.271Z</td><td>3000-01-01T00:00:00.000Z</td><td>Y</td></tr><tr><td>4</td><td>sara.jones@example.com</td><td>Tokyo</td><td>Japan</td><td>2025-08-20T09:02:56.308Z</td><td>2025-08-20T09:05:31.271Z</td><td>3000-01-01T00:00:00.000Z</td><td>Y</td></tr><tr><td>5</td><td>peter.chan@example.com</td><td>Sydney</td><td>Australia</td><td>2025-08-20T09:02:56.308Z</td><td>2025-08-20T09:05:31.271Z</td><td>3000-01-01T00:00:00.000Z</td><td>Y</td></tr><tr><td>1</td><td>john.smith@example.com</td><td>New York</td><td>USA</td><td>2025-08-20T09:02:56.308Z</td><td>2025-08-20T09:05:31.271Z</td><td>2025-08-20T10:00:54.759Z</td><td>N</td></tr><tr><td>1</td><td>john.smith@example.com</td><td>Seattle</td><td>USA</td><td>2025-08-20T09:54:36.074Z</td><td>2025-08-20T10:01:32.854Z</td><td>3000-01-01T00:00:00.000Z</td><td>Y</td></tr><tr><td>6</td><td>jane.doe@example.com</td><td>London</td><td>UK</td><td>2025-08-20T09:54:36.074Z</td><td>2025-08-20T10:01:32.854Z</td><td>3000-01-01T00:00:00.000Z</td><td>Y</td></tr></tbody></table></div>"
      ]
     },
     "metadata": {
      "application/vnd.databricks.v1+output": {
       "addedWidgets": {},
       "aggData": [],
       "aggError": "",
       "aggOverflow": false,
       "aggSchema": [],
       "aggSeriesLimitReached": false,
       "aggType": "",
       "arguments": {},
       "columnCustomDisplayInfos": {},
       "data": [
        [
         "2",
         "jane.doe@example.com",
         "London",
         "UK",
         "2025-08-20T09:02:56.308Z",
         "2025-08-20T09:05:31.271Z",
         "3000-01-01T00:00:00.000Z",
         "Y"
        ],
        [
         "3",
         "mike.williams@example.com",
         "Paris",
         "France",
         "2025-08-20T09:02:56.308Z",
         "2025-08-20T09:05:31.271Z",
         "3000-01-01T00:00:00.000Z",
         "Y"
        ],
        [
         "4",
         "sara.jones@example.com",
         "Tokyo",
         "Japan",
         "2025-08-20T09:02:56.308Z",
         "2025-08-20T09:05:31.271Z",
         "3000-01-01T00:00:00.000Z",
         "Y"
        ],
        [
         "5",
         "peter.chan@example.com",
         "Sydney",
         "Australia",
         "2025-08-20T09:02:56.308Z",
         "2025-08-20T09:05:31.271Z",
         "3000-01-01T00:00:00.000Z",
         "Y"
        ],
        [
         "1",
         "john.smith@example.com",
         "New York",
         "USA",
         "2025-08-20T09:02:56.308Z",
         "2025-08-20T09:05:31.271Z",
         "2025-08-20T10:00:54.759Z",
         "N"
        ],
        [
         "1",
         "john.smith@example.com",
         "Seattle",
         "USA",
         "2025-08-20T09:54:36.074Z",
         "2025-08-20T10:01:32.854Z",
         "3000-01-01T00:00:00.000Z",
         "Y"
        ],
        [
         "6",
         "jane.doe@example.com",
         "London",
         "UK",
         "2025-08-20T09:54:36.074Z",
         "2025-08-20T10:01:32.854Z",
         "3000-01-01T00:00:00.000Z",
         "Y"
        ]
       ],
       "datasetInfos": [
        {
         "name": "_sqldf",
         "schema": {
          "fields": [
           {
            "metadata": {},
            "name": "id",
            "nullable": true,
            "type": "string"
           },
           {
            "metadata": {},
            "name": "email",
            "nullable": true,
            "type": "string"
           },
           {
            "metadata": {},
            "name": "city",
            "nullable": true,
            "type": "string"
           },
           {
            "metadata": {},
            "name": "country",
            "nullable": true,
            "type": "string"
           },
           {
            "metadata": {},
            "name": "modifiedDate",
            "nullable": true,
            "type": "timestamp"
           },
           {
            "metadata": {},
            "name": "startTime",
            "nullable": true,
            "type": "timestamp"
           },
           {
            "metadata": {},
            "name": "endTime",
            "nullable": true,
            "type": "timestamp"
           },
           {
            "metadata": {},
            "name": "isActive",
            "nullable": true,
            "type": "string"
           }
          ],
          "type": "struct"
         },
         "tableIdentifier": null,
         "typeStr": "pyspark.sql.connect.dataframe.DataFrame"
        }
       ],
       "dbfsResultPath": null,
       "isJsonSchema": true,
       "metadata": {
        "createTempViewForImplicitDf": true,
        "dataframeName": "_sqldf",
        "executionCount": 86
       },
       "overflow": false,
       "plotOptions": {
        "customPlotOptions": {},
        "displayType": "table",
        "pivotAggregation": null,
        "pivotColumns": null,
        "xColumns": null,
        "yColumns": null
       },
       "removedWidgets": [],
       "schema": [
        {
         "metadata": "{}",
         "name": "id",
         "type": "\"string\""
        },
        {
         "metadata": "{}",
         "name": "email",
         "type": "\"string\""
        },
        {
         "metadata": "{}",
         "name": "city",
         "type": "\"string\""
        },
        {
         "metadata": "{}",
         "name": "country",
         "type": "\"string\""
        },
        {
         "metadata": "{}",
         "name": "modifiedDate",
         "type": "\"timestamp\""
        },
        {
         "metadata": "{}",
         "name": "startTime",
         "type": "\"timestamp\""
        },
        {
         "metadata": "{}",
         "name": "endTime",
         "type": "\"timestamp\""
        },
        {
         "metadata": "{}",
         "name": "isActive",
         "type": "\"string\""
        }
       ],
       "type": "table"
      }
     },
     "output_type": "display_data"
    }
   ],
   "source": [
    "%sql\n",
    "SELECT * FROM pyspark_cata.source.DimCustomers"
   ]
  },
  {
   "cell_type": "code",
   "execution_count": 0,
   "metadata": {
    "application/vnd.databricks.v1+cell": {
     "cellMetadata": {},
     "inputWidgets": {},
     "nuid": "6ef59615-644d-4cae-b0d8-78c32124b0bf",
     "showTitle": false,
     "tableResultSettingsMap": {},
     "title": ""
    }
   },
   "outputs": [],
   "source": []
  }
 ],
 "metadata": {
  "application/vnd.databricks.v1+notebook": {
   "computePreferences": {
    "hardware": {
     "accelerator": null,
     "gpuPoolId": null,
     "memory": null
    }
   },
   "dashboards": [],
   "environmentMetadata": {
    "base_environment": "",
    "environment_version": "2"
   },
   "inputWidgetPreferences": null,
   "language": "python",
   "notebookMetadata": {
    "mostRecentlyExecutedCommandWithImplicitDF": {
     "commandId": 5182043346092296,
     "dataframes": [
      "_sqldf"
     ]
    },
    "pythonIndentUnit": 4
   },
   "notebookName": "scenario5 - SCD 2",
   "widgets": {}
  },
  "language_info": {
   "name": "python"
  }
 },
 "nbformat": 4,
 "nbformat_minor": 0
}