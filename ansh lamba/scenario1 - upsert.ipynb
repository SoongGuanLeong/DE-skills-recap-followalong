{
 "cells": [
  {
   "cell_type": "markdown",
   "metadata": {
    "application/vnd.databricks.v1+cell": {
     "cellMetadata": {},
     "inputWidgets": {},
     "nuid": "18672e63-d5b1-4ea6-b1e6-1a79603e2b65",
     "showTitle": false,
     "tableResultSettingsMap": {},
     "title": ""
    }
   },
   "source": [
    "# Scenario 1\n",
    "A retail company receives daily updates for its product catalog, including new products, price changes, and discontinued items. Instead of overwriting the entire catalog or simply appending new records, they need to **upsert** the incoming data - updating the existing products with the latest information and inserting new products - ensuring the catalog remains accurate and up to date in real time."
   ]
  },
  {
   "cell_type": "markdown",
   "metadata": {
    "application/vnd.databricks.v1+cell": {
     "cellMetadata": {
      "byteLimit": 2048000,
      "rowLimit": 10000
     },
     "inputWidgets": {},
     "nuid": "914def70-9637-4ed6-a52f-531670f8546c",
     "showTitle": false,
     "tableResultSettingsMap": {},
     "title": ""
    }
   },
   "source": [
    "## **Querying Source**"
   ]
  },
  {
   "cell_type": "code",
   "execution_count": 0,
   "metadata": {
    "application/vnd.databricks.v1+cell": {
     "cellMetadata": {
      "byteLimit": 2048000,
      "implicitDf": true,
      "rowLimit": 10000
     },
     "inputWidgets": {},
     "nuid": "9a154240-74a5-4da2-96b2-7224d70b1dc0",
     "showTitle": false,
     "tableResultSettingsMap": {},
     "title": ""
    }
   },
   "outputs": [
    {
     "output_type": "display_data",
     "data": {
      "text/html": [
       "<style scoped>\n",
       "  .table-result-container {\n",
       "    max-height: 300px;\n",
       "    overflow: auto;\n",
       "  }\n",
       "  table, th, td {\n",
       "    border: 1px solid black;\n",
       "    border-collapse: collapse;\n",
       "  }\n",
       "  th, td {\n",
       "    padding: 5px;\n",
       "  }\n",
       "  th {\n",
       "    text-align: left;\n",
       "  }\n",
       "</style><div class='table-result-container'><table class='table-result'><thead style='background-color: white'><tr><th>id</th><th>name</th><th>price</th><th>category</th><th>updatedDate</th></tr></thead><tbody><tr><td>1</td><td>iPhone</td><td>1000</td><td>electronics</td><td>2025-08-19T14:59:08.969Z</td></tr><tr><td>2</td><td>Macbook</td><td>2000</td><td>electronics</td><td>2025-08-19T14:59:08.969Z</td></tr><tr><td>3</td><td>T-shirt</td><td>50</td><td>clothing</td><td>2025-08-19T14:59:08.969Z</td></tr><tr><td>4</td><td>Shirt</td><td>100</td><td>clothing</td><td>2025-08-19T14:59:08.969Z</td></tr><tr><td>5</td><td>Pants</td><td>150</td><td>clothing</td><td>2025-08-19T14:59:08.969Z</td></tr><tr><td>4</td><td>Long shirt</td><td>300</td><td>clothing</td><td>2025-08-19T18:17:33.283Z</td></tr><tr><td>5</td><td>Trouser</td><td>150</td><td>clothing</td><td>2025-08-19T16:21:51.276Z</td></tr></tbody></table></div>"
      ]
     },
     "metadata": {
      "application/vnd.databricks.v1+output": {
       "addedWidgets": {},
       "aggData": [],
       "aggError": "",
       "aggOverflow": false,
       "aggSchema": [],
       "aggSeriesLimitReached": false,
       "aggType": "",
       "arguments": {},
       "columnCustomDisplayInfos": {},
       "data": [
        [
         1,
         "iPhone",
         1000,
         "electronics",
         "2025-08-19T14:59:08.969Z"
        ],
        [
         2,
         "Macbook",
         2000,
         "electronics",
         "2025-08-19T14:59:08.969Z"
        ],
        [
         3,
         "T-shirt",
         50,
         "clothing",
         "2025-08-19T14:59:08.969Z"
        ],
        [
         4,
         "Shirt",
         100,
         "clothing",
         "2025-08-19T14:59:08.969Z"
        ],
        [
         5,
         "Pants",
         150,
         "clothing",
         "2025-08-19T14:59:08.969Z"
        ],
        [
         4,
         "Long shirt",
         300,
         "clothing",
         "2025-08-19T18:17:33.283Z"
        ],
        [
         5,
         "Trouser",
         150,
         "clothing",
         "2025-08-19T16:21:51.276Z"
        ]
       ],
       "datasetInfos": [
        {
         "name": "_sqldf",
         "schema": {
          "fields": [
           {
            "metadata": {},
            "name": "id",
            "nullable": true,
            "type": "integer"
           },
           {
            "metadata": {},
            "name": "name",
            "nullable": true,
            "type": "string"
           },
           {
            "metadata": {},
            "name": "price",
            "nullable": true,
            "type": "integer"
           },
           {
            "metadata": {},
            "name": "category",
            "nullable": true,
            "type": "string"
           },
           {
            "metadata": {},
            "name": "updatedDate",
            "nullable": true,
            "type": "timestamp"
           }
          ],
          "type": "struct"
         },
         "tableIdentifier": null,
         "typeStr": "pyspark.sql.connect.dataframe.DataFrame"
        }
       ],
       "dbfsResultPath": null,
       "isJsonSchema": true,
       "metadata": {
        "createTempViewForImplicitDf": true,
        "dataframeName": "_sqldf",
        "executionCount": 1
       },
       "overflow": false,
       "plotOptions": {
        "customPlotOptions": {},
        "displayType": "table",
        "pivotAggregation": null,
        "pivotColumns": null,
        "xColumns": null,
        "yColumns": null
       },
       "removedWidgets": [],
       "schema": [
        {
         "metadata": "{}",
         "name": "id",
         "type": "\"integer\""
        },
        {
         "metadata": "{}",
         "name": "name",
         "type": "\"string\""
        },
        {
         "metadata": "{}",
         "name": "price",
         "type": "\"integer\""
        },
        {
         "metadata": "{}",
         "name": "category",
         "type": "\"string\""
        },
        {
         "metadata": "{}",
         "name": "updatedDate",
         "type": "\"timestamp\""
        }
       ],
       "type": "table"
      }
     },
     "output_type": "display_data"
    }
   ],
   "source": [
    "%sql\n",
    "SELECT * FROM pyspark_cata.source.products"
   ]
  },
  {
   "cell_type": "code",
   "execution_count": 0,
   "metadata": {
    "application/vnd.databricks.v1+cell": {
     "cellMetadata": {
      "byteLimit": 2048000,
      "rowLimit": 10000
     },
     "inputWidgets": {},
     "nuid": "9ca90f69-fbd6-4e11-a613-c08525957e1f",
     "showTitle": false,
     "tableResultSettingsMap": {},
     "title": ""
    }
   },
   "outputs": [],
   "source": [
    "from pyspark.sql.window import Window\n",
    "from pyspark.sql.functions import *"
   ]
  },
  {
   "cell_type": "code",
   "execution_count": 0,
   "metadata": {
    "application/vnd.databricks.v1+cell": {
     "cellMetadata": {
      "byteLimit": 2048000,
      "rowLimit": 10000
     },
     "inputWidgets": {},
     "nuid": "f22b436b-d55a-47f9-a941-ac932767be16",
     "showTitle": false,
     "tableResultSettingsMap": {},
     "title": ""
    }
   },
   "outputs": [
    {
     "output_type": "display_data",
     "data": {
      "text/html": [
       "<style scoped>\n",
       "  .table-result-container {\n",
       "    max-height: 300px;\n",
       "    overflow: auto;\n",
       "  }\n",
       "  table, th, td {\n",
       "    border: 1px solid black;\n",
       "    border-collapse: collapse;\n",
       "  }\n",
       "  th, td {\n",
       "    padding: 5px;\n",
       "  }\n",
       "  th {\n",
       "    text-align: left;\n",
       "  }\n",
       "</style><div class='table-result-container'><table class='table-result'><thead style='background-color: white'><tr><th>id</th><th>name</th><th>price</th><th>category</th><th>updatedDate</th></tr></thead><tbody><tr><td>1</td><td>iPhone</td><td>1000</td><td>electronics</td><td>2025-08-19T14:59:08.969Z</td></tr><tr><td>2</td><td>Macbook</td><td>2000</td><td>electronics</td><td>2025-08-19T14:59:08.969Z</td></tr><tr><td>3</td><td>T-shirt</td><td>50</td><td>clothing</td><td>2025-08-19T14:59:08.969Z</td></tr><tr><td>4</td><td>Long shirt</td><td>300</td><td>clothing</td><td>2025-08-19T18:17:33.283Z</td></tr><tr><td>5</td><td>Trouser</td><td>150</td><td>clothing</td><td>2025-08-19T16:21:51.276Z</td></tr></tbody></table></div>"
      ]
     },
     "metadata": {
      "application/vnd.databricks.v1+output": {
       "addedWidgets": {},
       "aggData": [],
       "aggError": "",
       "aggOverflow": false,
       "aggSchema": [],
       "aggSeriesLimitReached": false,
       "aggType": "",
       "arguments": {},
       "columnCustomDisplayInfos": {},
       "data": [
        [
         1,
         "iPhone",
         1000,
         "electronics",
         "2025-08-19T14:59:08.969Z"
        ],
        [
         2,
         "Macbook",
         2000,
         "electronics",
         "2025-08-19T14:59:08.969Z"
        ],
        [
         3,
         "T-shirt",
         50,
         "clothing",
         "2025-08-19T14:59:08.969Z"
        ],
        [
         4,
         "Long shirt",
         300,
         "clothing",
         "2025-08-19T18:17:33.283Z"
        ],
        [
         5,
         "Trouser",
         150,
         "clothing",
         "2025-08-19T16:21:51.276Z"
        ]
       ],
       "datasetInfos": [],
       "dbfsResultPath": null,
       "isJsonSchema": true,
       "metadata": {},
       "overflow": false,
       "plotOptions": {
        "customPlotOptions": {},
        "displayType": "table",
        "pivotAggregation": null,
        "pivotColumns": null,
        "xColumns": null,
        "yColumns": null
       },
       "removedWidgets": [],
       "schema": [
        {
         "metadata": "{}",
         "name": "id",
         "type": "\"integer\""
        },
        {
         "metadata": "{}",
         "name": "name",
         "type": "\"string\""
        },
        {
         "metadata": "{}",
         "name": "price",
         "type": "\"integer\""
        },
        {
         "metadata": "{}",
         "name": "category",
         "type": "\"string\""
        },
        {
         "metadata": "{}",
         "name": "updatedDate",
         "type": "\"timestamp\""
        }
       ],
       "type": "table"
      }
     },
     "output_type": "display_data"
    }
   ],
   "source": [
    "df = spark.sql(\"select * from pyspark_cata.source.products\")\n",
    "\n",
    "# deduplicate\n",
    "df = df.withColumn(\"dedup\", row_number().over(Window.partitionBy(\"id\").orderBy(desc(\"updatedDate\"))))\n",
    "df = df.filter(col(\"dedup\")==1).drop(\"dedup\")\n",
    "\n",
    "display(df)"
   ]
  },
  {
   "cell_type": "markdown",
   "metadata": {
    "application/vnd.databricks.v1+cell": {
     "cellMetadata": {
      "byteLimit": 2048000,
      "rowLimit": 10000
     },
     "inputWidgets": {},
     "nuid": "0b95387e-29d5-4bac-b12a-687a1f8aebf3",
     "showTitle": false,
     "tableResultSettingsMap": {},
     "title": ""
    }
   },
   "source": [
    "## **UPSERTS**"
   ]
  },
  {
   "cell_type": "code",
   "execution_count": 0,
   "metadata": {
    "application/vnd.databricks.v1+cell": {
     "cellMetadata": {
      "byteLimit": 2048000,
      "rowLimit": 10000
     },
     "inputWidgets": {},
     "nuid": "03aec876-a1ab-4cea-9145-7350c8f1932b",
     "showTitle": false,
     "tableResultSettingsMap": {},
     "title": ""
    }
   },
   "outputs": [
    {
     "output_type": "stream",
     "name": "stdout",
     "output_type": "stream",
     "text": [
      "This is upserting now.\n"
     ]
    }
   ],
   "source": [
    "# Creating Delta Object\n",
    "\n",
    "from delta.tables import DeltaTable\n",
    "\n",
    "if len(dbutils.fs.ls(\"/Volumes/pyspark_cata/source/db_volume/products_sink/\")) > 0:\n",
    "\n",
    "    dlt_obj = DeltaTable.forPath(spark, \"/Volumes/pyspark_cata/source/db_volume/products_sink/\")\n",
    "\n",
    "    dlt_obj.alias(\"trg\").merge(\n",
    "        df.alias(\"src\"),\n",
    "        \"src.id = trg.id\"\n",
    "        )\\\n",
    "        .whenMatchedUpdateAll(condition=\"src.updatedDate >= trg.updatedDate\")\\\n",
    "        .whenNotMatchedInsertAll()\\\n",
    "        .execute()\n",
    "    print(\"This is upserting now.\")\n",
    "\n",
    "else:\n",
    "\n",
    "    df.write.format(\"delta\")\\\n",
    "        .mode(\"overwrite\")\\\n",
    "        .save(\"/Volumes/pyspark_cata/source/db_volume/products_sink/\")"
   ]
  },
  {
   "cell_type": "code",
   "execution_count": 0,
   "metadata": {
    "application/vnd.databricks.v1+cell": {
     "cellMetadata": {
      "byteLimit": 2048000,
      "implicitDf": true,
      "rowLimit": 10000
     },
     "inputWidgets": {},
     "nuid": "2cbc9ceb-3930-4853-a519-a1728a2f34e4",
     "showTitle": false,
     "tableResultSettingsMap": {
      "0": {
       "dataGridStateBlob": "{\"version\":1,\"tableState\":{\"columnPinning\":{\"left\":[\"#row_number#\"],\"right\":[]},\"columnSizing\":{\"updatedDate\":259},\"columnVisibility\":{}},\"settings\":{\"columns\":{}},\"syncTimestamp\":1755621740460}",
       "filterBlob": null,
       "queryPlanFiltersBlob": null,
       "tableResultIndex": 0
      }
     },
     "title": ""
    }
   },
   "outputs": [
    {
     "output_type": "display_data",
     "data": {
      "text/html": [
       "<style scoped>\n",
       "  .table-result-container {\n",
       "    max-height: 300px;\n",
       "    overflow: auto;\n",
       "  }\n",
       "  table, th, td {\n",
       "    border: 1px solid black;\n",
       "    border-collapse: collapse;\n",
       "  }\n",
       "  th, td {\n",
       "    padding: 5px;\n",
       "  }\n",
       "  th {\n",
       "    text-align: left;\n",
       "  }\n",
       "</style><div class='table-result-container'><table class='table-result'><thead style='background-color: white'><tr><th>id</th><th>name</th><th>price</th><th>category</th><th>updatedDate</th></tr></thead><tbody><tr><td>1</td><td>iPhone</td><td>1000</td><td>electronics</td><td>2025-08-19T14:59:08.969Z</td></tr><tr><td>4</td><td>Long shirt</td><td>300</td><td>clothing</td><td>2025-08-19T18:17:33.283Z</td></tr><tr><td>3</td><td>T-shirt</td><td>50</td><td>clothing</td><td>2025-08-19T14:59:08.969Z</td></tr><tr><td>2</td><td>Macbook</td><td>2000</td><td>electronics</td><td>2025-08-19T14:59:08.969Z</td></tr><tr><td>5</td><td>Trouser</td><td>150</td><td>clothing</td><td>2025-08-19T16:21:51.276Z</td></tr></tbody></table></div>"
      ]
     },
     "metadata": {
      "application/vnd.databricks.v1+output": {
       "addedWidgets": {},
       "aggData": [],
       "aggError": "",
       "aggOverflow": false,
       "aggSchema": [],
       "aggSeriesLimitReached": false,
       "aggType": "",
       "arguments": {},
       "columnCustomDisplayInfos": {},
       "data": [
        [
         1,
         "iPhone",
         1000,
         "electronics",
         "2025-08-19T14:59:08.969Z"
        ],
        [
         4,
         "Long shirt",
         300,
         "clothing",
         "2025-08-19T18:17:33.283Z"
        ],
        [
         3,
         "T-shirt",
         50,
         "clothing",
         "2025-08-19T14:59:08.969Z"
        ],
        [
         2,
         "Macbook",
         2000,
         "electronics",
         "2025-08-19T14:59:08.969Z"
        ],
        [
         5,
         "Trouser",
         150,
         "clothing",
         "2025-08-19T16:21:51.276Z"
        ]
       ],
       "datasetInfos": [
        {
         "name": "_sqldf",
         "schema": {
          "fields": [
           {
            "metadata": {},
            "name": "id",
            "nullable": true,
            "type": "integer"
           },
           {
            "metadata": {},
            "name": "name",
            "nullable": true,
            "type": "string"
           },
           {
            "metadata": {},
            "name": "price",
            "nullable": true,
            "type": "integer"
           },
           {
            "metadata": {},
            "name": "category",
            "nullable": true,
            "type": "string"
           },
           {
            "metadata": {},
            "name": "updatedDate",
            "nullable": true,
            "type": "timestamp"
           }
          ],
          "type": "struct"
         },
         "tableIdentifier": null,
         "typeStr": "pyspark.sql.connect.dataframe.DataFrame"
        }
       ],
       "dbfsResultPath": null,
       "isJsonSchema": true,
       "metadata": {
        "createTempViewForImplicitDf": true,
        "dataframeName": "_sqldf",
        "executionCount": 5
       },
       "overflow": false,
       "plotOptions": {
        "customPlotOptions": {},
        "displayType": "table",
        "pivotAggregation": null,
        "pivotColumns": null,
        "xColumns": null,
        "yColumns": null
       },
       "removedWidgets": [],
       "schema": [
        {
         "metadata": "{}",
         "name": "id",
         "type": "\"integer\""
        },
        {
         "metadata": "{}",
         "name": "name",
         "type": "\"string\""
        },
        {
         "metadata": "{}",
         "name": "price",
         "type": "\"integer\""
        },
        {
         "metadata": "{}",
         "name": "category",
         "type": "\"string\""
        },
        {
         "metadata": "{}",
         "name": "updatedDate",
         "type": "\"timestamp\""
        }
       ],
       "type": "table"
      }
     },
     "output_type": "display_data"
    }
   ],
   "source": [
    "%sql\n",
    "SELECT * FROM delta.`/Volumes/pyspark_cata/source/db_volume/products_sink/`"
   ]
  }
 ],
 "metadata": {
  "application/vnd.databricks.v1+notebook": {
   "computePreferences": {
    "hardware": {
     "accelerator": null,
     "gpuPoolId": null,
     "memory": null
    }
   },
   "dashboards": [],
   "environmentMetadata": {
    "base_environment": "",
    "environment_version": "2"
   },
   "inputWidgetPreferences": null,
   "language": "python",
   "notebookMetadata": {
    "mostRecentlyExecutedCommandWithImplicitDF": {
     "commandId": 5168888787788113,
     "dataframes": [
      "_sqldf"
     ]
    },
    "pythonIndentUnit": 4
   },
   "notebookName": "scenario1 - upsert",
   "widgets": {}
  },
  "language_info": {
   "name": "python"
  }
 },
 "nbformat": 4,
 "nbformat_minor": 0
}