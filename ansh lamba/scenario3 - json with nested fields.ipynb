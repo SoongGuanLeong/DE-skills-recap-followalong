{
 "cells": [
  {
   "cell_type": "markdown",
   "metadata": {
    "application/vnd.databricks.v1+cell": {
     "cellMetadata": {},
     "inputWidgets": {},
     "nuid": "1066a3b8-756a-453c-8c83-a8ddfea02637",
     "showTitle": false,
     "tableResultSettingsMap": {},
     "title": ""
    }
   },
   "source": [
    "# Scenario 3\n",
    "An e-commerce platform receives customer order details from its mobile application in JSON format through a streaming pipeline. The JSON contains **nested fields** such as customer information, payment details, and a list of purchased items. To store and analyse this data efficiently in a data warehouse, the nested structure must be flattened into a tabular format using PySpark, ensuring all relevant attributes are readily accessible for reporting and analytics."
   ]
  },
  {
   "cell_type": "code",
   "execution_count": 0,
   "metadata": {
    "application/vnd.databricks.v1+cell": {
     "cellMetadata": {
      "byteLimit": 2048000,
      "rowLimit": 10000
     },
     "inputWidgets": {},
     "nuid": "3c0b137d-9c10-46ba-90ae-0756c6f2a233",
     "showTitle": false,
     "tableResultSettingsMap": {},
     "title": ""
    }
   },
   "outputs": [
    {
     "output_type": "display_data",
     "data": {
      "text/html": [
       "<style scoped>\n",
       "  .table-result-container {\n",
       "    max-height: 300px;\n",
       "    overflow: auto;\n",
       "  }\n",
       "  table, th, td {\n",
       "    border: 1px solid black;\n",
       "    border-collapse: collapse;\n",
       "  }\n",
       "  th, td {\n",
       "    padding: 5px;\n",
       "  }\n",
       "  th {\n",
       "    text-align: left;\n",
       "  }\n",
       "</style><div class='table-result-container'><table class='table-result'><thead style='background-color: white'><tr><th>customer</th><th>delivery_updates</th><th>items</th><th>order_id</th><th>order_timestamp</th><th>payment</th></tr></thead><tbody><tr><td>List(CUST101, john.doe@example.com, List(Toronto, Canada), John Doe)</td><td>List(Order Placed, Packed, Shipped, Out for Delivery)</td><td>List(List(ITEM1001, 25.5, Wireless Mouse, 2), List(ITEM1002, 199.75, Mechanical Keyboard, 1))</td><td>ORD001</td><td>2025-08-15T10:45:30Z</td><td>List(250.75, CAD, Credit Card)</td></tr><tr><td>List(CUST102, jane.smith@example.com, List(Vancouver, Canada), Jane Smith)</td><td>List(Order Placed, Packed, Shipped)</td><td>List(List(ITEM1003, 89.99, USB-C Hub, 1))</td><td>ORD002</td><td>2025-08-15T11:10:15Z</td><td>List(89.99, CAD, PayPal)</td></tr></tbody></table></div>"
      ]
     },
     "metadata": {
      "application/vnd.databricks.v1+output": {
       "addedWidgets": {},
       "aggData": [],
       "aggError": "",
       "aggOverflow": false,
       "aggSchema": [],
       "aggSeriesLimitReached": false,
       "aggType": "",
       "arguments": {},
       "columnCustomDisplayInfos": {},
       "data": [
        [
         [
          "CUST101",
          "john.doe@example.com",
          [
           "Toronto",
           "Canada"
          ],
          "John Doe"
         ],
         [
          "Order Placed",
          "Packed",
          "Shipped",
          "Out for Delivery"
         ],
         [
          [
           "ITEM1001",
           25.5,
           "Wireless Mouse",
           2
          ],
          [
           "ITEM1002",
           199.75,
           "Mechanical Keyboard",
           1
          ]
         ],
         "ORD001",
         "2025-08-15T10:45:30Z",
         [
          250.75,
          "CAD",
          "Credit Card"
         ]
        ],
        [
         [
          "CUST102",
          "jane.smith@example.com",
          [
           "Vancouver",
           "Canada"
          ],
          "Jane Smith"
         ],
         [
          "Order Placed",
          "Packed",
          "Shipped"
         ],
         [
          [
           "ITEM1003",
           89.99,
           "USB-C Hub",
           1
          ]
         ],
         "ORD002",
         "2025-08-15T11:10:15Z",
         [
          89.99,
          "CAD",
          "PayPal"
         ]
        ]
       ],
       "datasetInfos": [],
       "dbfsResultPath": null,
       "isJsonSchema": true,
       "metadata": {},
       "overflow": false,
       "plotOptions": {
        "customPlotOptions": {},
        "displayType": "table",
        "pivotAggregation": null,
        "pivotColumns": null,
        "xColumns": null,
        "yColumns": null
       },
       "removedWidgets": [],
       "schema": [
        {
         "metadata": "{}",
         "name": "customer",
         "type": "{\"fields\":[{\"metadata\":{},\"name\":\"customer_id\",\"nullable\":true,\"type\":\"string\"},{\"metadata\":{},\"name\":\"email\",\"nullable\":true,\"type\":\"string\"},{\"metadata\":{},\"name\":\"location\",\"nullable\":true,\"type\":{\"fields\":[{\"metadata\":{},\"name\":\"city\",\"nullable\":true,\"type\":\"string\"},{\"metadata\":{},\"name\":\"country\",\"nullable\":true,\"type\":\"string\"}],\"type\":\"struct\"}},{\"metadata\":{},\"name\":\"name\",\"nullable\":true,\"type\":\"string\"}],\"type\":\"struct\"}"
        },
        {
         "metadata": "{}",
         "name": "delivery_updates",
         "type": "{\"containsNull\":true,\"elementType\":\"string\",\"type\":\"array\"}"
        },
        {
         "metadata": "{}",
         "name": "items",
         "type": "{\"containsNull\":true,\"elementType\":{\"fields\":[{\"metadata\":{},\"name\":\"item_id\",\"nullable\":true,\"type\":\"string\"},{\"metadata\":{},\"name\":\"price_per_unit\",\"nullable\":true,\"type\":\"double\"},{\"metadata\":{},\"name\":\"product_name\",\"nullable\":true,\"type\":\"string\"},{\"metadata\":{},\"name\":\"quantity\",\"nullable\":true,\"type\":\"long\"}],\"type\":\"struct\"},\"type\":\"array\"}"
        },
        {
         "metadata": "{}",
         "name": "order_id",
         "type": "\"string\""
        },
        {
         "metadata": "{}",
         "name": "order_timestamp",
         "type": "\"string\""
        },
        {
         "metadata": "{}",
         "name": "payment",
         "type": "{\"fields\":[{\"metadata\":{},\"name\":\"amount\",\"nullable\":true,\"type\":\"double\"},{\"metadata\":{},\"name\":\"currency\",\"nullable\":true,\"type\":\"string\"},{\"metadata\":{},\"name\":\"method\",\"nullable\":true,\"type\":\"string\"}],\"type\":\"struct\"}"
        }
       ],
       "type": "table"
      }
     },
     "output_type": "display_data"
    }
   ],
   "source": [
    "df = spark.read.format(\"json\")\\\n",
    "  .option(\"inferSchema\", True)\\\n",
    "  .option(\"multiLine\", True)\\\n",
    "  .load(\"/Volumes/pyspark_cata/source/db_volume/jsonData/\")\n",
    "\n",
    "display(df)"
   ]
  },
  {
   "cell_type": "code",
   "execution_count": 0,
   "metadata": {
    "application/vnd.databricks.v1+cell": {
     "cellMetadata": {
      "byteLimit": 2048000,
      "rowLimit": 10000
     },
     "inputWidgets": {},
     "nuid": "5e0bf632-ed7e-406c-82f8-6e5a23340116",
     "showTitle": false,
     "tableResultSettingsMap": {},
     "title": ""
    }
   },
   "outputs": [
    {
     "output_type": "execute_result",
     "data": {
      "text/plain": [
       "StructType([StructField('customer', StructType([StructField('customer_id', StringType(), True), StructField('email', StringType(), True), StructField('location', StructType([StructField('city', StringType(), True), StructField('country', StringType(), True)]), True), StructField('name', StringType(), True)]), True), StructField('delivery_updates', ArrayType(StringType(), True), True), StructField('items', ArrayType(StructType([StructField('item_id', StringType(), True), StructField('price_per_unit', DoubleType(), True), StructField('product_name', StringType(), True), StructField('quantity', LongType(), True)]), True), True), StructField('order_id', StringType(), True), StructField('order_timestamp', StringType(), True), StructField('payment', StructType([StructField('amount', DoubleType(), True), StructField('currency', StringType(), True), StructField('method', StringType(), True)]), True)])"
      ]
     },
     "execution_count": 5,
     "metadata": {},
     "output_type": "execute_result"
    }
   ],
   "source": [
    "df.schema"
   ]
  },
  {
   "cell_type": "code",
   "execution_count": 0,
   "metadata": {
    "application/vnd.databricks.v1+cell": {
     "cellMetadata": {
      "byteLimit": 2048000,
      "rowLimit": 10000
     },
     "inputWidgets": {},
     "nuid": "90fbbc9a-8b10-4acf-8508-6af00c86b58c",
     "showTitle": false,
     "tableResultSettingsMap": {},
     "title": ""
    }
   },
   "outputs": [],
   "source": [
    "from pyspark.sql.functions import *"
   ]
  },
  {
   "cell_type": "code",
   "execution_count": 0,
   "metadata": {
    "application/vnd.databricks.v1+cell": {
     "cellMetadata": {
      "byteLimit": 2048000,
      "rowLimit": 10000
     },
     "inputWidgets": {},
     "nuid": "3584289c-2ceb-46c9-a629-b4dca2565b70",
     "showTitle": false,
     "tableResultSettingsMap": {
      "0": {
       "dataGridStateBlob": "{\"version\":1,\"tableState\":{\"columnPinning\":{\"left\":[\"#row_number#\"],\"right\":[]},\"columnSizing\":{},\"columnVisibility\":{}},\"settings\":{\"columns\":{}},\"syncTimestamp\":1755671877309}",
       "filterBlob": null,
       "queryPlanFiltersBlob": null,
       "tableResultIndex": 0
      }
     },
     "title": ""
    }
   },
   "outputs": [
    {
     "output_type": "display_data",
     "data": {
      "text/html": [
       "<style scoped>\n",
       "  .table-result-container {\n",
       "    max-height: 300px;\n",
       "    overflow: auto;\n",
       "  }\n",
       "  table, th, td {\n",
       "    border: 1px solid black;\n",
       "    border-collapse: collapse;\n",
       "  }\n",
       "  th, td {\n",
       "    padding: 5px;\n",
       "  }\n",
       "  th {\n",
       "    text-align: left;\n",
       "  }\n",
       "</style><div class='table-result-container'><table class='table-result'><thead style='background-color: white'><tr><th>customer_id</th><th>email</th><th>city</th><th>country</th><th>delivery_updates</th><th>items</th><th>order_id</th><th>order_timestamp</th><th>payment</th></tr></thead><tbody><tr><td>CUST101</td><td>john.doe@example.com</td><td>Toronto</td><td>Canada</td><td>Order Placed</td><td>List(ITEM1001, 25.5, Wireless Mouse, 2)</td><td>ORD001</td><td>2025-08-15T10:45:30Z</td><td>List(250.75, CAD, Credit Card)</td></tr><tr><td>CUST101</td><td>john.doe@example.com</td><td>Toronto</td><td>Canada</td><td>Order Placed</td><td>List(ITEM1002, 199.75, Mechanical Keyboard, 1)</td><td>ORD001</td><td>2025-08-15T10:45:30Z</td><td>List(250.75, CAD, Credit Card)</td></tr><tr><td>CUST101</td><td>john.doe@example.com</td><td>Toronto</td><td>Canada</td><td>Packed</td><td>List(ITEM1001, 25.5, Wireless Mouse, 2)</td><td>ORD001</td><td>2025-08-15T10:45:30Z</td><td>List(250.75, CAD, Credit Card)</td></tr><tr><td>CUST101</td><td>john.doe@example.com</td><td>Toronto</td><td>Canada</td><td>Packed</td><td>List(ITEM1002, 199.75, Mechanical Keyboard, 1)</td><td>ORD001</td><td>2025-08-15T10:45:30Z</td><td>List(250.75, CAD, Credit Card)</td></tr><tr><td>CUST101</td><td>john.doe@example.com</td><td>Toronto</td><td>Canada</td><td>Shipped</td><td>List(ITEM1001, 25.5, Wireless Mouse, 2)</td><td>ORD001</td><td>2025-08-15T10:45:30Z</td><td>List(250.75, CAD, Credit Card)</td></tr><tr><td>CUST101</td><td>john.doe@example.com</td><td>Toronto</td><td>Canada</td><td>Shipped</td><td>List(ITEM1002, 199.75, Mechanical Keyboard, 1)</td><td>ORD001</td><td>2025-08-15T10:45:30Z</td><td>List(250.75, CAD, Credit Card)</td></tr><tr><td>CUST101</td><td>john.doe@example.com</td><td>Toronto</td><td>Canada</td><td>Out for Delivery</td><td>List(ITEM1001, 25.5, Wireless Mouse, 2)</td><td>ORD001</td><td>2025-08-15T10:45:30Z</td><td>List(250.75, CAD, Credit Card)</td></tr><tr><td>CUST101</td><td>john.doe@example.com</td><td>Toronto</td><td>Canada</td><td>Out for Delivery</td><td>List(ITEM1002, 199.75, Mechanical Keyboard, 1)</td><td>ORD001</td><td>2025-08-15T10:45:30Z</td><td>List(250.75, CAD, Credit Card)</td></tr><tr><td>CUST102</td><td>jane.smith@example.com</td><td>Vancouver</td><td>Canada</td><td>Order Placed</td><td>List(ITEM1003, 89.99, USB-C Hub, 1)</td><td>ORD002</td><td>2025-08-15T11:10:15Z</td><td>List(89.99, CAD, PayPal)</td></tr><tr><td>CUST102</td><td>jane.smith@example.com</td><td>Vancouver</td><td>Canada</td><td>Packed</td><td>List(ITEM1003, 89.99, USB-C Hub, 1)</td><td>ORD002</td><td>2025-08-15T11:10:15Z</td><td>List(89.99, CAD, PayPal)</td></tr><tr><td>CUST102</td><td>jane.smith@example.com</td><td>Vancouver</td><td>Canada</td><td>Shipped</td><td>List(ITEM1003, 89.99, USB-C Hub, 1)</td><td>ORD002</td><td>2025-08-15T11:10:15Z</td><td>List(89.99, CAD, PayPal)</td></tr></tbody></table></div>"
      ]
     },
     "metadata": {
      "application/vnd.databricks.v1+output": {
       "addedWidgets": {},
       "aggData": [],
       "aggError": "",
       "aggOverflow": false,
       "aggSchema": [],
       "aggSeriesLimitReached": false,
       "aggType": "",
       "arguments": {},
       "columnCustomDisplayInfos": {},
       "data": [
        [
         "CUST101",
         "john.doe@example.com",
         "Toronto",
         "Canada",
         "Order Placed",
         [
          "ITEM1001",
          25.5,
          "Wireless Mouse",
          2
         ],
         "ORD001",
         "2025-08-15T10:45:30Z",
         [
          250.75,
          "CAD",
          "Credit Card"
         ]
        ],
        [
         "CUST101",
         "john.doe@example.com",
         "Toronto",
         "Canada",
         "Order Placed",
         [
          "ITEM1002",
          199.75,
          "Mechanical Keyboard",
          1
         ],
         "ORD001",
         "2025-08-15T10:45:30Z",
         [
          250.75,
          "CAD",
          "Credit Card"
         ]
        ],
        [
         "CUST101",
         "john.doe@example.com",
         "Toronto",
         "Canada",
         "Packed",
         [
          "ITEM1001",
          25.5,
          "Wireless Mouse",
          2
         ],
         "ORD001",
         "2025-08-15T10:45:30Z",
         [
          250.75,
          "CAD",
          "Credit Card"
         ]
        ],
        [
         "CUST101",
         "john.doe@example.com",
         "Toronto",
         "Canada",
         "Packed",
         [
          "ITEM1002",
          199.75,
          "Mechanical Keyboard",
          1
         ],
         "ORD001",
         "2025-08-15T10:45:30Z",
         [
          250.75,
          "CAD",
          "Credit Card"
         ]
        ],
        [
         "CUST101",
         "john.doe@example.com",
         "Toronto",
         "Canada",
         "Shipped",
         [
          "ITEM1001",
          25.5,
          "Wireless Mouse",
          2
         ],
         "ORD001",
         "2025-08-15T10:45:30Z",
         [
          250.75,
          "CAD",
          "Credit Card"
         ]
        ],
        [
         "CUST101",
         "john.doe@example.com",
         "Toronto",
         "Canada",
         "Shipped",
         [
          "ITEM1002",
          199.75,
          "Mechanical Keyboard",
          1
         ],
         "ORD001",
         "2025-08-15T10:45:30Z",
         [
          250.75,
          "CAD",
          "Credit Card"
         ]
        ],
        [
         "CUST101",
         "john.doe@example.com",
         "Toronto",
         "Canada",
         "Out for Delivery",
         [
          "ITEM1001",
          25.5,
          "Wireless Mouse",
          2
         ],
         "ORD001",
         "2025-08-15T10:45:30Z",
         [
          250.75,
          "CAD",
          "Credit Card"
         ]
        ],
        [
         "CUST101",
         "john.doe@example.com",
         "Toronto",
         "Canada",
         "Out for Delivery",
         [
          "ITEM1002",
          199.75,
          "Mechanical Keyboard",
          1
         ],
         "ORD001",
         "2025-08-15T10:45:30Z",
         [
          250.75,
          "CAD",
          "Credit Card"
         ]
        ],
        [
         "CUST102",
         "jane.smith@example.com",
         "Vancouver",
         "Canada",
         "Order Placed",
         [
          "ITEM1003",
          89.99,
          "USB-C Hub",
          1
         ],
         "ORD002",
         "2025-08-15T11:10:15Z",
         [
          89.99,
          "CAD",
          "PayPal"
         ]
        ],
        [
         "CUST102",
         "jane.smith@example.com",
         "Vancouver",
         "Canada",
         "Packed",
         [
          "ITEM1003",
          89.99,
          "USB-C Hub",
          1
         ],
         "ORD002",
         "2025-08-15T11:10:15Z",
         [
          89.99,
          "CAD",
          "PayPal"
         ]
        ],
        [
         "CUST102",
         "jane.smith@example.com",
         "Vancouver",
         "Canada",
         "Shipped",
         [
          "ITEM1003",
          89.99,
          "USB-C Hub",
          1
         ],
         "ORD002",
         "2025-08-15T11:10:15Z",
         [
          89.99,
          "CAD",
          "PayPal"
         ]
        ]
       ],
       "datasetInfos": [],
       "dbfsResultPath": null,
       "isJsonSchema": true,
       "metadata": {},
       "overflow": false,
       "plotOptions": {
        "customPlotOptions": {},
        "displayType": "table",
        "pivotAggregation": null,
        "pivotColumns": null,
        "xColumns": null,
        "yColumns": null
       },
       "removedWidgets": [],
       "schema": [
        {
         "metadata": "{}",
         "name": "customer_id",
         "type": "\"string\""
        },
        {
         "metadata": "{}",
         "name": "email",
         "type": "\"string\""
        },
        {
         "metadata": "{}",
         "name": "city",
         "type": "\"string\""
        },
        {
         "metadata": "{}",
         "name": "country",
         "type": "\"string\""
        },
        {
         "metadata": "{}",
         "name": "delivery_updates",
         "type": "\"string\""
        },
        {
         "metadata": "{}",
         "name": "items",
         "type": "{\"fields\":[{\"metadata\":{},\"name\":\"item_id\",\"nullable\":true,\"type\":\"string\"},{\"metadata\":{},\"name\":\"price_per_unit\",\"nullable\":true,\"type\":\"double\"},{\"metadata\":{},\"name\":\"product_name\",\"nullable\":true,\"type\":\"string\"},{\"metadata\":{},\"name\":\"quantity\",\"nullable\":true,\"type\":\"long\"}],\"type\":\"struct\"}"
        },
        {
         "metadata": "{}",
         "name": "order_id",
         "type": "\"string\""
        },
        {
         "metadata": "{}",
         "name": "order_timestamp",
         "type": "\"string\""
        },
        {
         "metadata": "{}",
         "name": "payment",
         "type": "{\"fields\":[{\"metadata\":{},\"name\":\"amount\",\"nullable\":true,\"type\":\"double\"},{\"metadata\":{},\"name\":\"currency\",\"nullable\":true,\"type\":\"string\"},{\"metadata\":{},\"name\":\"method\",\"nullable\":true,\"type\":\"string\"}],\"type\":\"struct\"}"
        }
       ],
       "type": "table"
      }
     },
     "output_type": "display_data"
    }
   ],
   "source": [
    "df_cust = df.select(\"customer.customer_id\", \"customer.email\", \"customer.location.city\", \"customer.location.country\", \"*\")\\\n",
    "    .drop(\"customer\")\n",
    "\n",
    "df_cust_upd = df_cust.withColumn(\"delivery_updates\", explode(\"delivery_updates\"))\\\n",
    "    .withColumn(\"items\", explode(\"items\"))\\\n",
    "    .select(\"*\")\n",
    "\n",
    "display(df_cust_upd)"
   ]
  },
  {
   "cell_type": "code",
   "execution_count": 0,
   "metadata": {
    "application/vnd.databricks.v1+cell": {
     "cellMetadata": {},
     "inputWidgets": {},
     "nuid": "5df60d8f-247e-4fe9-a80e-544550d7974b",
     "showTitle": false,
     "tableResultSettingsMap": {},
     "title": ""
    }
   },
   "outputs": [],
   "source": []
  }
 ],
 "metadata": {
  "application/vnd.databricks.v1+notebook": {
   "computePreferences": {
    "hardware": {
     "accelerator": null,
     "gpuPoolId": null,
     "memory": null
    }
   },
   "dashboards": [],
   "environmentMetadata": {
    "base_environment": "",
    "environment_version": "2"
   },
   "inputWidgetPreferences": null,
   "language": "python",
   "notebookMetadata": {
    "pythonIndentUnit": 4
   },
   "notebookName": "scenario3 - json with nested fields",
   "widgets": {}
  },
  "language_info": {
   "name": "python"
  }
 },
 "nbformat": 4,
 "nbformat_minor": 0
}