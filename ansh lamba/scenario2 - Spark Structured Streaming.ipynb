{
 "cells": [
  {
   "cell_type": "markdown",
   "metadata": {
    "application/vnd.databricks.v1+cell": {
     "cellMetadata": {
      "byteLimit": 2048000,
      "rowLimit": 10000
     },
     "inputWidgets": {},
     "nuid": "65e2d0a6-67d9-4f70-b3e4-3816c3bce566",
     "showTitle": false,
     "tableResultSettingsMap": {},
     "title": ""
    }
   },
   "source": [
    "# Scenario 2\n",
    "A retail company receives daily sales transaction files from multiple store locations in an Azure Data Lake folder. Instead of reprocessing all historical data every day, the DE team uses **Spark Structured Streaming** to incrementally load only the newly arrived files into a Delta table. This ensures timely updates to analytics dashboards while optimizing compute costs and processing time."
   ]
  },
  {
   "cell_type": "markdown",
   "metadata": {
    "application/vnd.databricks.v1+cell": {
     "cellMetadata": {
      "byteLimit": 2048000,
      "rowLimit": 10000
     },
     "inputWidgets": {},
     "nuid": "877a42a1-f950-49a9-b945-30cf49a0a275",
     "showTitle": false,
     "tableResultSettingsMap": {},
     "title": ""
    }
   },
   "source": [
    "## Streaming Query"
   ]
  },
  {
   "cell_type": "code",
   "execution_count": 0,
   "metadata": {
    "application/vnd.databricks.v1+cell": {
     "cellMetadata": {
      "byteLimit": 2048000,
      "rowLimit": 10000
     },
     "inputWidgets": {},
     "nuid": "97cd0f19-c8fb-4e68-85a2-579cb07733fe",
     "showTitle": false,
     "tableResultSettingsMap": {},
     "title": ""
    }
   },
   "outputs": [],
   "source": [
    "my_schema = \"\"\"\n",
    "    order_id INT,\n",
    "    customer_id INT,\n",
    "    order_date DATE,\n",
    "    amount DOUBLE\n",
    "\"\"\""
   ]
  },
  {
   "cell_type": "code",
   "execution_count": 0,
   "metadata": {
    "application/vnd.databricks.v1+cell": {
     "cellMetadata": {
      "byteLimit": 2048000,
      "rowLimit": 10000
     },
     "inputWidgets": {},
     "nuid": "d4b0aadb-5eb0-4f02-a2fd-306e65708e26",
     "showTitle": false,
     "tableResultSettingsMap": {},
     "title": ""
    }
   },
   "outputs": [
    {
     "output_type": "display_data",
     "data": {
      "text/html": [
       "<style scoped>\n",
       "  .table-result-container {\n",
       "    max-height: 300px;\n",
       "    overflow: auto;\n",
       "  }\n",
       "  table, th, td {\n",
       "    border: 1px solid black;\n",
       "    border-collapse: collapse;\n",
       "  }\n",
       "  th, td {\n",
       "    padding: 5px;\n",
       "  }\n",
       "  th {\n",
       "    text-align: left;\n",
       "  }\n",
       "</style><div class='table-result-container'><table class='table-result'><thead style='background-color: white'><tr><th>order_id</th><th>customer_id</th><th>order_date</th><th>amount</th></tr></thead><tbody><tr><td>6</td><td>100</td><td>2025-08-07</td><td>248.69</td></tr><tr><td>7</td><td>102</td><td>2025-08-08</td><td>243.85</td></tr><tr><td>8</td><td>101</td><td>2025-08-09</td><td>308.31</td></tr><tr><td>9</td><td>105</td><td>2025-08-10</td><td>367.45</td></tr><tr><td>10</td><td>105</td><td>2025-08-11</td><td>328.2</td></tr><tr><td>1</td><td>101</td><td>2025-08-02</td><td>246.84</td></tr><tr><td>2</td><td>104</td><td>2025-08-03</td><td>111.3</td></tr><tr><td>3</td><td>103</td><td>2025-08-04</td><td>52.0</td></tr><tr><td>4</td><td>103</td><td>2025-08-05</td><td>98.7</td></tr><tr><td>5</td><td>102</td><td>2025-08-06</td><td>392.67</td></tr></tbody></table></div>"
      ]
     },
     "metadata": {
      "application/vnd.databricks.v1+output": {
       "addedWidgets": {},
       "aggData": [],
       "aggError": "",
       "aggOverflow": false,
       "aggSchema": [],
       "aggSeriesLimitReached": false,
       "aggType": "",
       "arguments": {},
       "columnCustomDisplayInfos": {},
       "data": [
        [
         6,
         100,
         "2025-08-07",
         248.69
        ],
        [
         7,
         102,
         "2025-08-08",
         243.85
        ],
        [
         8,
         101,
         "2025-08-09",
         308.31
        ],
        [
         9,
         105,
         "2025-08-10",
         367.45
        ],
        [
         10,
         105,
         "2025-08-11",
         328.2
        ],
        [
         1,
         101,
         "2025-08-02",
         246.84
        ],
        [
         2,
         104,
         "2025-08-03",
         111.3
        ],
        [
         3,
         103,
         "2025-08-04",
         52.0
        ],
        [
         4,
         103,
         "2025-08-05",
         98.7
        ],
        [
         5,
         102,
         "2025-08-06",
         392.67
        ]
       ],
       "datasetInfos": [],
       "dbfsResultPath": null,
       "isJsonSchema": true,
       "metadata": {},
       "overflow": false,
       "plotOptions": {
        "customPlotOptions": {},
        "displayType": "table",
        "pivotAggregation": null,
        "pivotColumns": null,
        "xColumns": null,
        "yColumns": null
       },
       "removedWidgets": [],
       "schema": [
        {
         "metadata": "{}",
         "name": "order_id",
         "type": "\"integer\""
        },
        {
         "metadata": "{}",
         "name": "customer_id",
         "type": "\"integer\""
        },
        {
         "metadata": "{}",
         "name": "order_date",
         "type": "\"date\""
        },
        {
         "metadata": "{}",
         "name": "amount",
         "type": "\"double\""
        }
       ],
       "type": "table"
      }
     },
     "output_type": "display_data"
    }
   ],
   "source": [
    "df_batch = spark.read.format(\"csv\")\\\n",
    "  .option(\"header\", \"true\")\\\n",
    "  .schema(my_schema)\\\n",
    "  .load(\"/Volumes/pyspark_cata/source/db_volume/streamSource/\")\n",
    "\n",
    "display(df_batch)"
   ]
  },
  {
   "cell_type": "code",
   "execution_count": 0,
   "metadata": {
    "application/vnd.databricks.v1+cell": {
     "cellMetadata": {
      "byteLimit": 2048000,
      "rowLimit": 10000
     },
     "inputWidgets": {},
     "nuid": "98bda6c1-d838-44ae-b854-794b1ad0f3b1",
     "showTitle": false,
     "tableResultSettingsMap": {},
     "title": ""
    }
   },
   "outputs": [],
   "source": [
    "df = spark.readStream.format(\"csv\")\\\n",
    "  .option(\"header\", \"true\")\\\n",
    "  .schema(my_schema)\\\n",
    "  .load(\"/Volumes/pyspark_cata/source/db_volume/streamSource/\")"
   ]
  },
  {
   "cell_type": "markdown",
   "metadata": {
    "application/vnd.databricks.v1+cell": {
     "cellMetadata": {
      "byteLimit": 2048000,
      "rowLimit": 10000
     },
     "inputWidgets": {},
     "nuid": "e767c424-c1b7-4583-823a-37b44b2cc3f1",
     "showTitle": false,
     "tableResultSettingsMap": {},
     "title": ""
    }
   },
   "source": [
    "## **Streaming Output**"
   ]
  },
  {
   "cell_type": "code",
   "execution_count": 0,
   "metadata": {
    "application/vnd.databricks.v1+cell": {
     "cellMetadata": {
      "byteLimit": 2048000,
      "rowLimit": 10000
     },
     "inputWidgets": {},
     "nuid": "487e7336-028c-41a1-ac83-a15674ff1d5c",
     "showTitle": false,
     "tableResultSettingsMap": {},
     "title": ""
    }
   },
   "outputs": [
    {
     "output_type": "execute_result",
     "data": {
      "text/plain": [
       "<pyspark.sql.connect.streaming.query.StreamingQuery at 0x7fe78531da50>"
      ]
     },
     "execution_count": 36,
     "metadata": {},
     "output_type": "execute_result"
    }
   ],
   "source": [
    "df.writeStream.format(\"delta\")\\\n",
    "  .option(\"checkpointlocation\", \"/Volumes/pyspark_cata/source/db_volume/streamSink/checkpoint\")\\\n",
    "  .option(\"mergeSchema\", True)\\\n",
    "  .trigger(once=True)\\\n",
    "  .start(\"/Volumes/pyspark_cata/source/db_volume/streamSink/data\")"
   ]
  },
  {
   "cell_type": "code",
   "execution_count": 0,
   "metadata": {
    "application/vnd.databricks.v1+cell": {
     "cellMetadata": {
      "byteLimit": 2048000,
      "implicitDf": true,
      "rowLimit": 10000
     },
     "inputWidgets": {},
     "nuid": "49b20036-55d5-4da9-a083-e328f3815d0e",
     "showTitle": false,
     "tableResultSettingsMap": {},
     "title": ""
    }
   },
   "outputs": [
    {
     "output_type": "display_data",
     "data": {
      "text/html": [
       "<style scoped>\n",
       "  .table-result-container {\n",
       "    max-height: 300px;\n",
       "    overflow: auto;\n",
       "  }\n",
       "  table, th, td {\n",
       "    border: 1px solid black;\n",
       "    border-collapse: collapse;\n",
       "  }\n",
       "  th, td {\n",
       "    padding: 5px;\n",
       "  }\n",
       "  th {\n",
       "    text-align: left;\n",
       "  }\n",
       "</style><div class='table-result-container'><table class='table-result'><thead style='background-color: white'><tr><th>order_id</th><th>customer_id</th><th>order_date</th><th>amount</th></tr></thead><tbody><tr><td>6</td><td>100</td><td>2025-08-07</td><td>248.69</td></tr><tr><td>7</td><td>102</td><td>2025-08-08</td><td>243.85</td></tr><tr><td>8</td><td>101</td><td>2025-08-09</td><td>308.31</td></tr><tr><td>9</td><td>105</td><td>2025-08-10</td><td>367.45</td></tr><tr><td>10</td><td>105</td><td>2025-08-11</td><td>328.2</td></tr><tr><td>1</td><td>101</td><td>2025-08-02</td><td>246.84</td></tr><tr><td>2</td><td>104</td><td>2025-08-03</td><td>111.3</td></tr><tr><td>3</td><td>103</td><td>2025-08-04</td><td>52.0</td></tr><tr><td>4</td><td>103</td><td>2025-08-05</td><td>98.7</td></tr><tr><td>5</td><td>102</td><td>2025-08-06</td><td>392.67</td></tr></tbody></table></div>"
      ]
     },
     "metadata": {
      "application/vnd.databricks.v1+output": {
       "addedWidgets": {},
       "aggData": [],
       "aggError": "",
       "aggOverflow": false,
       "aggSchema": [],
       "aggSeriesLimitReached": false,
       "aggType": "",
       "arguments": {},
       "columnCustomDisplayInfos": {},
       "data": [
        [
         6,
         100,
         "2025-08-07",
         248.69
        ],
        [
         7,
         102,
         "2025-08-08",
         243.85
        ],
        [
         8,
         101,
         "2025-08-09",
         308.31
        ],
        [
         9,
         105,
         "2025-08-10",
         367.45
        ],
        [
         10,
         105,
         "2025-08-11",
         328.2
        ],
        [
         1,
         101,
         "2025-08-02",
         246.84
        ],
        [
         2,
         104,
         "2025-08-03",
         111.3
        ],
        [
         3,
         103,
         "2025-08-04",
         52.0
        ],
        [
         4,
         103,
         "2025-08-05",
         98.7
        ],
        [
         5,
         102,
         "2025-08-06",
         392.67
        ]
       ],
       "datasetInfos": [
        {
         "name": "_sqldf",
         "schema": {
          "fields": [
           {
            "metadata": {},
            "name": "order_id",
            "nullable": true,
            "type": "integer"
           },
           {
            "metadata": {},
            "name": "customer_id",
            "nullable": true,
            "type": "integer"
           },
           {
            "metadata": {},
            "name": "order_date",
            "nullable": true,
            "type": "date"
           },
           {
            "metadata": {},
            "name": "amount",
            "nullable": true,
            "type": "double"
           }
          ],
          "type": "struct"
         },
         "tableIdentifier": null,
         "typeStr": "pyspark.sql.connect.dataframe.DataFrame"
        }
       ],
       "dbfsResultPath": null,
       "isJsonSchema": true,
       "metadata": {
        "createTempViewForImplicitDf": true,
        "dataframeName": "_sqldf",
        "executionCount": 37
       },
       "overflow": false,
       "plotOptions": {
        "customPlotOptions": {},
        "displayType": "table",
        "pivotAggregation": null,
        "pivotColumns": null,
        "xColumns": null,
        "yColumns": null
       },
       "removedWidgets": [],
       "schema": [
        {
         "metadata": "{}",
         "name": "order_id",
         "type": "\"integer\""
        },
        {
         "metadata": "{}",
         "name": "customer_id",
         "type": "\"integer\""
        },
        {
         "metadata": "{}",
         "name": "order_date",
         "type": "\"date\""
        },
        {
         "metadata": "{}",
         "name": "amount",
         "type": "\"double\""
        }
       ],
       "type": "table"
      }
     },
     "output_type": "display_data"
    }
   ],
   "source": [
    "%sql\n",
    "SELECT * FROM delta.`/Volumes/pyspark_cata/source/db_volume/streamSink/data/`"
   ]
  },
  {
   "cell_type": "code",
   "execution_count": 0,
   "metadata": {
    "application/vnd.databricks.v1+cell": {
     "cellMetadata": {
      "byteLimit": 2048000,
      "rowLimit": 10000
     },
     "inputWidgets": {},
     "nuid": "9f50a374-be5c-4e91-ad56-06920a872c16",
     "showTitle": false,
     "tableResultSettingsMap": {},
     "title": ""
    }
   },
   "outputs": [],
   "source": []
  }
 ],
 "metadata": {
  "application/vnd.databricks.v1+notebook": {
   "computePreferences": {
    "hardware": {
     "accelerator": null,
     "gpuPoolId": null,
     "memory": null
    }
   },
   "dashboards": [],
   "environmentMetadata": {
    "base_environment": "",
    "environment_version": "2"
   },
   "inputWidgetPreferences": null,
   "language": "python",
   "notebookMetadata": {
    "mostRecentlyExecutedCommandWithImplicitDF": {
     "commandId": 6239972513674159,
     "dataframes": [
      "_sqldf"
     ]
    },
    "pythonIndentUnit": 4
   },
   "notebookName": "scenario2 - Spark Structured Streaming",
   "widgets": {}
  },
  "language_info": {
   "name": "python"
  }
 },
 "nbformat": 4,
 "nbformat_minor": 0
}